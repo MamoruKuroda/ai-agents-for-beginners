{
 "cells": [
  {
   "cell_type": "markdown",
   "id": "888137e1",
   "metadata": {},
   "source": [
    "# Semantic Kernel ツール使用例"
   ]
  },
  {
   "cell_type": "markdown",
   "id": "f056088a",
   "metadata": {},
   "source": [
    "## 必要なパッケージのインポート"
   ]
  },
  {
   "cell_type": "code",
   "execution_count": 1,
   "id": "ab1883fb",
   "metadata": {},
   "outputs": [],
   "source": [
    "import json\n",
    "import os\n",
    "\n",
    "from dotenv import load_dotenv\n",
    "\n",
    "from IPython.display import display, HTML\n",
    "\n",
    "from typing import Annotated\n",
    "from openai import AsyncOpenAI\n",
    "\n",
    "from semantic_kernel.agents import ChatCompletionAgent, ChatHistoryAgentThread\n",
    "from semantic_kernel.connectors.ai.open_ai import OpenAIChatCompletion\n",
    "from semantic_kernel.contents import FunctionCallContent, FunctionResultContent, StreamingTextContent\n",
    "from semantic_kernel.functions import kernel_function"
   ]
  },
  {
   "cell_type": "markdown",
   "id": "56d37507",
   "metadata": {},
   "source": [
    "## プラグインの作成\n",
    "\n",
    "Semantic Kernelでは、エージェントが呼び出すツールとして「プラグイン」を使用します。プラグインは複数の`kernel_function`をグループとしてまとめることができます。\n",
    "\n",
    "以下の例では、以下の2つの機能を持つ`DestinationsPlugin`を作成します：\n",
    "1. `get_destinations`関数を使用して目的地のリストを提供\n",
    "2. `get_availability`関数を使用して各目的地の空き状況を提供"
   ]
  },
  {
   "cell_type": "code",
   "execution_count": null,
   "id": "ccff40c2",
   "metadata": {},
   "outputs": [],
   "source": [
    "# サンプル用のプラグインを定義\n",
    "class DestinationsPlugin:\n",
    "    \"\"\"バケーション先のリスト\"\"\"\n",
    "\n",
    "    # @kernel_function デコレータは、このメソッドをSemantic Kernelが認識できるツールとして登録します\n",
    "    # description パラメータは、AIエージェントがこのツールをいつ使用するべきかを理解するために重要です\n",
    "    @kernel_function(description=\"バケーション先のリストを提供します。\")\n",
    "    def get_destinations(self) -> Annotated[str, \"バケーション先を返します。\"]:\n",
    "        # 実際のアプリケーションでは、これはデータベースやAPIからデータを取得する場所になります\n",
    "        return \"\"\"\n",
    "        バルセロナ、スペイン\n",
    "        パリ、フランス\n",
    "        ベルリン、ドイツ\n",
    "        東京、日本\n",
    "        ニューヨーク、アメリカ\n",
    "        \"\"\"\n",
    "\n",
    "    # パラメータを受け取る関数の例 - AIエージェントは必要に応じて引数を提供します\n",
    "    @kernel_function(description=\"目的地の空き状況を提供します。\")\n",
    "    def get_availability(\n",
    "        self, destination: Annotated[str, \"空き状況を確認する目的地。\"]\n",
    "    ) -> Annotated[str, \"目的地の空き状況を返します。\"]:\n",
    "        # Annotated型ヒントは、Semantic Kernelがパラメータの目的を理解するのに役立ちます\n",
    "        return \"\"\"\n",
    "        バルセロナ - 利用不可\n",
    "        パリ - 利用可能\n",
    "        ベルリン - 利用可能\n",
    "        東京 - 利用不可\n",
    "        ニューヨーク - 利用可能\n",
    "        \"\"\""
   ]
  },
  {
   "cell_type": "markdown",
   "id": "ede7aae7",
   "metadata": {},
   "source": [
    "## クライアントの作成\n",
    "\n",
    "このサンプルでは、LLMへのアクセスに[GitHub Models](https://aka.ms/ai-agents-beginners/github-models)を使用します。\n",
    "\n",
    "`ai_model_id`は`gpt-4o-mini`として定義されています。GitHub Modelsマーケットプレイスで利用可能な他のモデルに変更して、異なる結果を確認してみてください。\n",
    "\n",
    "GitHub Modelsの`base_url`で使用される`Azure Inference SDK`を使用するため、Semantic Kernel内の`OpenAIChatCompletion`コネクタを使用します。他のモデルプロバイダーでSemantic Kernelを使用するための[利用可能なコネクタ](https://learn.microsoft.com/semantic-kernel/concepts/ai-services/chat-completion)も存在します。"
   ]
  },
  {
   "cell_type": "code",
   "execution_count": null,
   "id": "6affd9e4",
   "metadata": {},
   "outputs": [],
   "source": [
    "# 環境変数から設定を読み込み\n",
    "load_dotenv()\n",
    "\n",
    "# GitHub Models用のAsyncOpenAIクライアントを作成\n",
    "# GitHub ModelsはOpenAI互換のAPIを提供するため、OpenAIクライアントを使用できます\n",
    "client = AsyncOpenAI(\n",
    "    api_key=os.getenv(\"GITHUB_TOKEN\"),  # GitHubトークンを使用して認証\n",
    "    base_url=\"https://models.inference.ai.azure.com/\",  # GitHub ModelsのエンドポイントURL\n",
    ")\n",
    "\n",
    "# Semantic Kernel用のチャット完了サービスを作成\n",
    "# このサービスがプラグインとLLMモデル間の橋渡し役として機能します\n",
    "chat_completion_service = OpenAIChatCompletion(\n",
    "    ai_model_id=\"gpt-4o-mini\",  # 使用するモデルを指定\n",
    "    async_client=client,        # 上で作成したクライアントを渡す\n",
    ")"
   ]
  },
  {
   "cell_type": "markdown",
   "id": "417b1e79",
   "metadata": {},
   "source": [
    "## エージェントの作成\n",
    "\n",
    "エージェント名と指示を設定してエージェントを作成します。\n",
    "\n",
    "これらの設定を変更して、エージェントの応答の違いを確認できます。"
   ]
  },
  {
   "cell_type": "code",
   "execution_count": null,
   "id": "5bb72262",
   "metadata": {},
   "outputs": [],
   "source": [
    "# ChatCompletionAgentを作成 - これがメインのAIエージェントです\n",
    "agent = ChatCompletionAgent(\n",
    "    service=chat_completion_service,              # 上で作成したチャット完了サービスを使用\n",
    "    name=\"TravelAgent\",                          # エージェントに名前を付ける（ログや識別に使用）\n",
    "    instructions=\"旅行先とその空き状況についての質問に答えてください。\",  # システムプロンプト - エージェントの役割を定義\n",
    "    plugins=[DestinationsPlugin()],              # 利用可能なプラグインのリスト - エージェントが使用できるツール\n",
    ")"
   ]
  },
  {
   "cell_type": "markdown",
   "id": "4960bb36",
   "metadata": {},
   "source": [
    "## エージェントの実行\n",
    "\n",
    "AIエージェントを実行します。このスニペットでは、`user_input`に2つのメッセージを追加して、エージェントがフォローアップの質問にどのように応答するかを示します。\n",
    "\n",
    "エージェントは適切な関数を呼び出して、利用可能な目的地のリストを取得し、特定の場所の空き状況を確認する必要があります。\n",
    "\n",
    "`user_inputs`を変更して、エージェントがどのように応答するかを確認できます。"
   ]
  },
  {
   "cell_type": "code",
   "execution_count": null,
   "id": "2374a1ec",
   "metadata": {},
   "outputs": [
    {
     "data": {
      "text/html": [
       "<div style='margin-bottom:10px'><div style='font-weight:bold'>ユーザー:</div><div style='margin-left:20px'>どんな目的地が利用可能ですか？</div></div><div style='margin-bottom:20px'><div style='font-weight:bold'>TravelAgent:</div><div style='margin-left:20px; white-space:pre-wrap'>利用可能な目的地は以下のとおりです：\n",
       "\n",
       "- バルセロナ、スペイン\n",
       "- パリ、フランス\n",
       "- ベルリン、ドイツ\n",
       "- 東京、日本\n",
       "- ニューヨーク、アメリカ\n",
       "\n",
       "興味のある目的地があれば、空き状況を確認できます。</div></div><hr>"
      ],
      "text/plain": [
       "<IPython.core.display.HTML object>"
      ]
     },
     "metadata": {},
     "output_type": "display_data"
    },
    {
     "data": {
      "text/html": [
       "<div style='margin-bottom:10px'><div style='font-weight:bold'>ユーザー:</div><div style='margin-left:20px'>バルセロナは利用可能ですか？</div></div><div style='margin-bottom:20px'><div style='font-weight:bold'>TravelAgent:</div><div style='margin-left:20px; white-space:pre-wrap'>バルセロナは現在利用不可です。代わりに、以下の目的地が利用可能です：\n",
       "\n",
       "- パリ、フランス\n",
       "- ベルリン、ドイツ\n",
       "- ニューヨーク、アメリカ\n",
       "\n",
       "興味がある目的地があれば、詳しくお知らせください。</div></div><hr>"
      ],
      "text/plain": [
       "<IPython.core.display.HTML object>"
      ]
     },
     "metadata": {},
     "output_type": "display_data"
    },
    {
     "data": {
      "text/html": [
       "<div style='margin-bottom:10px'><div style='font-weight:bold'>ユーザー:</div><div style='margin-left:20px'>ヨーロッパ以外で利用可能なバケーション先はありますか？</div></div><div style='margin-bottom:20px'><div style='font-weight:bold'>TravelAgent:</div><div style='margin-left:20px; white-space:pre-wrap'>ヨーロッパ以外で利用可能なバケーション先は、ニューヨーク、アメリカのみです。興味があれば詳しくお知らせください。</div></div><hr>"
      ],
      "text/plain": [
       "<IPython.core.display.HTML object>"
      ]
     },
     "metadata": {},
     "output_type": "display_data"
    }
   ],
   "source": [
    "# テスト用のユーザー入力リスト - 異なるタイプの質問でエージェントの動作を確認\n",
    "user_inputs = [\n",
    "    \"どんな目的地が利用可能ですか？\",                    # リスト取得をテスト\n",
    "    \"バルセロナは利用可能ですか？\",                      # 特定の都市の検索をテスト\n",
    "    \"ヨーロッパ以外で利用可能なバケーション先はありますか？\",  # 複合的な質問をテスト\n",
    "]\n",
    "\n",
    "async def main():\n",
    "    # スレッドはエージェントとの会話履歴を管理します\n",
    "    thread: ChatHistoryAgentThread | None = None\n",
    "\n",
    "    for user_input in user_inputs:\n",
    "        # ユーザー入力をHTMLで表示するための準備\n",
    "        html_output = (\n",
    "            f\"<div style='margin-bottom:10px'>\"\n",
    "            f\"<div style='font-weight:bold'>ユーザー:</div>\"\n",
    "            f\"<div style='margin-left:20px'>{user_input}</div></div>\"\n",
    "        )\n",
    "\n",
    "        # レスポンス処理用の変数を初期化\n",
    "        agent_name = None\n",
    "        full_response: list[str] = []      # エージェントの最終回答を格納\n",
    "        function_calls: list[str] = []     # 関数呼び出しの詳細を格納\n",
    "\n",
    "        # ストリーミング関数呼び出しを再構築するためのバッファ\n",
    "        current_function_name = None\n",
    "        argument_buffer = \"\"\n",
    "\n",
    "        # エージェントをストリーミングモードで実行 - リアルタイムで応答を受信\n",
    "        async for response in agent.invoke_stream(\n",
    "            messages=user_input,\n",
    "            thread=thread,  # 会話履歴を維持\n",
    "        ):\n",
    "            thread = response.thread        # スレッドを更新\n",
    "            agent_name = response.name      # エージェント名を取得\n",
    "            content_items = list(response.items)  # レスポンスの各項目を処理\n",
    "\n",
    "            for item in content_items:\n",
    "                # 関数呼び出しの開始を検出\n",
    "                if isinstance(item, FunctionCallContent):\n",
    "                    if item.function_name:\n",
    "                        current_function_name = item.function_name\n",
    "\n",
    "                    # 引数を蓄積（チャンクでストリーミング）\n",
    "                    if isinstance(item.arguments, str):\n",
    "                        argument_buffer += item.arguments\n",
    "                \n",
    "                # 関数実行結果を検出\n",
    "                elif isinstance(item, FunctionResultContent):\n",
    "                    # 結果を表示する前に保留中の関数呼び出しを完了\n",
    "                    if current_function_name:\n",
    "                        formatted_args = argument_buffer.strip()\n",
    "                        try:\n",
    "                            # JSONとして整形を試行\n",
    "                            parsed_args = json.loads(formatted_args)\n",
    "                            formatted_args = json.dumps(parsed_args)\n",
    "                        except Exception:\n",
    "                            pass  # 生の文字列として残す\n",
    "\n",
    "                        function_calls.append(f\"関数呼び出し: {current_function_name}({formatted_args})\")\n",
    "                        current_function_name = None\n",
    "                        argument_buffer = \"\"\n",
    "\n",
    "                    function_calls.append(f\"\\n関数の結果:\\n\\n{item.result}\")\n",
    "                \n",
    "                # エージェントの通常のテキスト応答を検出\n",
    "                elif isinstance(item, StreamingTextContent) and item.text:\n",
    "                    full_response.append(item.text)\n",
    "\n",
    "        # 関数呼び出しがあった場合、折りたたみ可能な詳細として表示\n",
    "        if function_calls:\n",
    "            html_output += (\n",
    "                \"<div style='margin-bottom:10px'>\"\n",
    "                \"<details>\"\n",
    "                \"<summary style='cursor:pointer; font-weight:bold; color:#0066cc;'>関数呼び出し（クリックして展開）</summary>\"\n",
    "                \"<div style='margin:10px; padding:10px; background-color:#f8f8f8; \"\n",
    "                \"border:1px solid #ddd; border-radius:4px; white-space:pre-wrap; font-size:14px; color:#333;'>\"\n",
    "                f\"{chr(10).join(function_calls)}\"\n",
    "                \"</div></details></div>\"\n",
    "            )\n",
    "\n",
    "        # エージェントの最終回答を表示\n",
    "        html_output += (\n",
    "            \"<div style='margin-bottom:20px'>\"\n",
    "            f\"<div style='font-weight:bold'>{agent_name or 'アシスタント'}:</div>\"\n",
    "            f\"<div style='margin-left:20px; white-space:pre-wrap'>{''.join(full_response)}</div></div><hr>\"\n",
    "        )\n",
    "\n",
    "        # HTMLとして表示\n",
    "        display(HTML(html_output))\n",
    "\n",
    "# 非同期関数を実行\n",
    "await main()"
   ]
  },
  {
   "cell_type": "markdown",
   "id": "bb1051a3",
   "metadata": {},
   "source": [
    "## 学習のポイント\n",
    "\n",
    "### Semantic Kernel vs AutoGen の主な違い\n",
    "\n",
    "- **Semantic Kernel**: プラグインとカーネル中心のアプローチ。`@kernel_function`デコレータを使用してクラスメソッドをツールとして簡単に登録できる\n",
    "- **AutoGen**: エージェント中心のアプローチ。`FunctionTool`を明示的に作成してエージェントに登録する必要がある\n",
    "\n",
    "### このサンプルから学べること\n",
    "\n",
    "1. **プラグインの構造**: クラスベースでツールを整理し、複数の関連する機能をグループ化する手法\n",
    "2. **`@kernel_function`デコレータ**: 既存のメソッドを簡単にAIツールに変換する方法\n",
    "3. **ストリーミング応答**: リアルタイムでエージェントの応答と関数呼び出しを表示する手法\n",
    "4. **スレッド管理**: 会話の履歴を管理し、コンテキストを維持する仕組み\n",
    "\n",
    "### 次のステップ\n",
    "\n",
    "- カスタムプラグインの開発とテスト\n",
    "- 複数のプラグインを組み合わせた複雑なワークフロー\n",
    "- プラグイン間でのデータ連携とパイプライン処理"
   ]
  }
 ],
 "metadata": {
  "kernelspec": {
   "display_name": "Python 3",
   "language": "python",
   "name": "python3"
  },
  "language_info": {
   "codemirror_mode": {
    "name": "ipython",
    "version": 3
   },
   "file_extension": ".py",
   "mimetype": "text/x-python",
   "name": "python",
   "nbconvert_exporter": "python",
   "pygments_lexer": "ipython3",
   "version": "3.13.0"
  }
 },
 "nbformat": 4,
 "nbformat_minor": 5
}
