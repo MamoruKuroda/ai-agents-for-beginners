{
 "cells": [
  {
   "cell_type": "markdown",
   "id": "ed3e9f62",
   "metadata": {},
   "source": [
    "# AutoGen ツール使用例"
   ]
  },
  {
   "cell_type": "markdown",
   "id": "eb5de076",
   "metadata": {},
   "source": [
    "## 必要なパッケージのインポート"
   ]
  },
  {
   "cell_type": "code",
   "execution_count": 2,
   "id": "8767c2e3",
   "metadata": {},
   "outputs": [],
   "source": [
    "import os\n",
    "import json\n",
    "\n",
    "import requests\n",
    "from autogen_agentchat.agents import AssistantAgent\n",
    "from autogen_core.models import UserMessage\n",
    "from autogen_ext.models.azure import AzureAIChatCompletionClient\n",
    "from azure.core.credentials import AzureKeyCredential\n",
    "from autogen_core import CancellationToken\n",
    "from autogen_core.tools import FunctionTool\n",
    "from autogen_agentchat.messages import TextMessage\n",
    "from autogen_agentchat.ui import Console\n",
    "from typing import Any, Callable, Set, Dict, List, Optional"
   ]
  },
  {
   "cell_type": "markdown",
   "id": "f4c1dfd6",
   "metadata": {},
   "source": [
    "## クライアントの作成\n",
    "\n",
    "このサンプルでは、LLMへのアクセスに[GitHub Models](https://aka.ms/ai-agents-beginners/github-models)を使用します。\n",
    "\n",
    "`model`は`gpt-4o-mini`として定義されています。GitHub Modelsマーケットプレイスで利用可能な他のモデルに変更して、異なる結果を確認してみてください。\n",
    "\n",
    "簡単なテストとして、シンプルなプロンプト「フランスの首都は何ですか？」を実行します。"
   ]
  },
  {
   "cell_type": "code",
   "execution_count": 3,
   "id": "6aa662ec",
   "metadata": {},
   "outputs": [
    {
     "name": "stderr",
     "output_type": "stream",
     "text": [
      "c:\\Users\\Mamoru Kuroda\\AppData\\Local\\Programs\\Python\\Python313\\Lib\\site-packages\\autogen_ext\\models\\azure\\_azure_ai_client.py:305: UserWarning: Missing required field 'structured_output' in ModelInfo. This field will be required in a future version of AutoGen.\n",
      "  validate_model_info(config[\"model_info\"])\n"
     ]
    },
    {
     "name": "stdout",
     "output_type": "stream",
     "text": [
      "finish_reason='stop' content='フランスの首都はパリです。' usage=RequestUsage(prompt_tokens=18, completion_tokens=12) cached=False logprobs=None thought=None\n"
     ]
    }
   ],
   "source": [
    "client = AzureAIChatCompletionClient(\n",
    "    model=\"gpt-4o-mini\",\n",
    "    endpoint=\"https://models.inference.ai.azure.com\",\n",
    "    # モデルでの認証には、GitHubの設定で個人アクセストークン（PAT）を生成する必要があります。\n",
    "    # PATトークンの作成手順：https://docs.github.com/en/authentication/keeping-your-account-and-data-secure/managing-your-personal-access-tokens\n",
    "    credential=AzureKeyCredential(os.environ[\"GITHUB_TOKEN\"]),\n",
    "    model_info={\n",
    "        \"json_output\": True,\n",
    "        \"function_calling\": True,\n",
    "        \"vision\": True,\n",
    "        \"family\": \"unknown\",\n",
    "    },\n",
    ")\n",
    "\n",
    "result = await client.create([UserMessage(content=\"フランスの首都は何ですか？\", source=\"user\")])\n",
    "print(result)"
   ]
  },
  {
   "cell_type": "markdown",
   "id": "eaaf28ac",
   "metadata": {},
   "source": [
    "## 関数の定義\n",
    "\n",
    "この例では、エージェントに利用可能なバケーション先とその空き状況のリストを持つ関数へのアクセスを提供します。\n",
    "\n",
    "これは、旅行エージェントが旅行データベースにアクセスするようなシナリオを想定しています。\n",
    "\n",
    "このサンプルを進める際に、エージェントが呼び出せる新しい関数やツールを自由に定義してみてください。"
   ]
  },
  {
   "cell_type": "code",
   "execution_count": 4,
   "id": "4c841114",
   "metadata": {},
   "outputs": [],
   "source": [
    "from typing import Dict, List, Optional\n",
    "\n",
    "\n",
    "def vacation_destinations(city: str) -> tuple[str, str]:\n",
    "    \"\"\"\n",
    "    特定のバケーション先が利用可能かどうかを確認します\n",
    "    \n",
    "    Args:\n",
    "        city (str): 確認する都市名\n",
    "        \n",
    "    Returns:\n",
    "        tuple: 都市名と空き状況（'利用可能'または'利用不可'）を含む\n",
    "    \"\"\"\n",
    "    destinations = {\n",
    "        \"バルセロナ\": \"利用可能\",\n",
    "        \"東京\": \"利用不可\",\n",
    "        \"ケープタウン\": \"利用可能\",\n",
    "        \"バンクーバー\": \"利用可能\",\n",
    "        \"ドバイ\": \"利用不可\",\n",
    "    }\n",
    "\n",
    "    if city in destinations:\n",
    "        return city, destinations[city]\n",
    "    else:\n",
    "        return city, \"都市が見つかりません\"\n",
    "\n",
    "# 使用例：\n",
    "# city, status = vacation_destinations(\"バルセロナ\")\n",
    "# print(f\"{city}を訪問するのはいかがですか？現在{status}です！\")"
   ]
  },
  {
   "cell_type": "markdown",
   "id": "9a8a0182",
   "metadata": {},
   "source": [
    "## 関数ツールの定義\n",
    "\n",
    "エージェントが`vacation_destinations`を`FunctionTool`として使用するには、それを定義する必要があります。\n",
    "\n",
    "また、ツールの説明も提供します。これは、ユーザーが要求したタスクに関連してそのツールが何に使用されるかをエージェントが識別するのに役立ちます。"
   ]
  },
  {
   "cell_type": "code",
   "execution_count": 5,
   "id": "0f452f49",
   "metadata": {},
   "outputs": [],
   "source": [
    "get_vacations = FunctionTool(\n",
    "    vacation_destinations, description=\"バケーション先を検索し、利用可能かどうかを確認します。\"\n",
    ")"
   ]
  },
  {
   "cell_type": "markdown",
   "id": "f2f5c0d2",
   "metadata": {},
   "source": [
    "## エージェントの定義\n",
    "\n",
    "下記のコードでエージェントを作成できます。`system_message`を定義して、ユーザーがバケーション先を見つけるのを支援する方法についてエージェントに指示を与えます。\n",
    "\n",
    "また、`reflect_on_tool_use`パラメータをtrueに設定します。これにより、LLMがツール呼び出しの応答を受け取り、自然言語を使用してレスポンスを送信できます。\n",
    "\n",
    "このパラメータをfalseに設定して違いを確認することもできます。"
   ]
  },
  {
   "cell_type": "code",
   "execution_count": 6,
   "id": "77343676",
   "metadata": {},
   "outputs": [],
   "source": [
    "agent = AssistantAgent(\n",
    "    name=\"assistant\",\n",
    "    model_client=client,\n",
    "    tools=[get_vacations],\n",
    "    system_message=\"あなたはユーザーがバケーション先を見つけるのを支援する旅行エージェントです。\",\n",
    "    reflect_on_tool_use=True,\n",
    ")"
   ]
  },
  {
   "cell_type": "markdown",
   "id": "435629f9",
   "metadata": {},
   "source": [
    "## エージェントの実行\n",
    "\n",
    "東京への旅行を希望する初期ユーザーメッセージでエージェントを実行できます。\n",
    "\n",
    "この都市の目的地を変更して、エージェントがその都市の空き状況にどのように応答するかを確認できます。"
   ]
  },
  {
   "cell_type": "code",
   "execution_count": 7,
   "id": "e07d54d5",
   "metadata": {},
   "outputs": [
    {
     "name": "stdout",
     "output_type": "stream",
     "text": [
      "[ToolCallRequestEvent(source='assistant', models_usage=RequestUsage(prompt_tokens=91, completion_tokens=18), metadata={}, content=[FunctionCall(id='call_PVljbambBPn0nMv7ZG25LXxk', arguments='{\"city\":\"東京\"}', name='vacation_destinations')], type='ToolCallRequestEvent'), ToolCallExecutionEvent(source='assistant', models_usage=None, metadata={}, content=[FunctionExecutionResult(content=\"('東京', '利用不可')\", name='vacation_destinations', call_id='call_PVljbambBPn0nMv7ZG25LXxk', is_error=False)], type='ToolCallExecutionEvent')]\n",
      "source='assistant' models_usage=RequestUsage(prompt_tokens=78, completion_tokens=79) metadata={} content='申し訳ありませんが、現在東京に関する具体的な情報は利用できません。ただし、東京への旅行に関してお手伝いできることはたくさんあります！観光名所、食事、宿泊施設、交通手段などについてアドバイスを提供できますので、どのような情報が必要か教えてください。' type='TextMessage'\n"
     ]
    }
   ],
   "source": [
    "async def assistant_run() -> None:\n",
    "    response = await agent.on_messages(\n",
    "        [TextMessage(content=\"東京に旅行したいのですが\", source=\"user\")],\n",
    "        cancellation_token=CancellationToken(),\n",
    "    )\n",
    "    print(response.inner_messages)\n",
    "    print(response.chat_message)\n",
    "\n",
    "\n",
    "# スクリプトで実行する場合は asyncio.run(assistant_run()) を使用してください。\n",
    "await assistant_run()"
   ]
  },
  {
   "cell_type": "markdown",
   "id": "08205c97",
   "metadata": {},
   "source": [
    "## 学習のポイント\n",
    "\n",
    "### AutoGen vs Semantic Kernel の主な違い\n",
    "\n",
    "- **AutoGen**: エージェント中心のアプローチ。エージェント間の会話や協調作業に重点を置いており、マルチエージェントシステムの構築に適している\n",
    "- **Semantic Kernel**: カーネル（コア）とプラグイン（ツール）の統合に重点を置いており、単一のAIアシスタントに豊富な機能を追加するのに適している\n",
    "\n",
    "### このサンプルから学べること\n",
    "\n",
    "1. **FunctionTool の定義方法**: 既存のPython関数をエージェントが使用できるツールに変換する手法\n",
    "2. **エージェントの設定**: `reflect_on_tool_use` パラメータによるツール使用後の応答制御\n",
    "3. **非同期処理**: AutoGenの非同期メッセージング機能の基本的な使用方法\n",
    "\n",
    "### 次のステップ\n",
    "\n",
    "- 複数のツールを組み合わせた使用例\n",
    "- マルチエージェント間でのツール共有\n",
    "- カスタムツールの開発とテスト"
   ]
  }
 ],
 "metadata": {
  "kernelspec": {
   "display_name": "Python 3",
   "language": "python",
   "name": "python3"
  },
  "language_info": {
   "codemirror_mode": {
    "name": "ipython",
    "version": 3
   },
   "file_extension": ".py",
   "mimetype": "text/x-python",
   "name": "python",
   "nbconvert_exporter": "python",
   "pygments_lexer": "ipython3",
   "version": "3.13.0"
  }
 },
 "nbformat": 4,
 "nbformat_minor": 5
}
