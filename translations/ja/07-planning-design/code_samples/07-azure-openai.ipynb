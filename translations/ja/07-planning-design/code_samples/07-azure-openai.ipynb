{
 "cells": [
  {
   "cell_type": "markdown",
   "id": "7cb52cc9",
   "metadata": {},
   "source": [
    "# 07 プランニング: Azure OpenAI 直接利用サンプル (日本語版)\n",
    "\n",
    "このノートブックは英語版 `07-planning-design/code_samples/07-azure-openai.ipynb` を参考に、Azure OpenAI(互換推論)を用いて\n",
    "プランニング用の構造化JSONを取得する最小例を示します。\n",
    "\n",
    "> 注: ここでは GitHub Models 経由のエンドポイントを利用しています。Azure OpenAI 専用デプロイを使う場合は endpoint / key / api_version を調整してください。\n",
    "\n",
    "### 目的\n",
    "このノートブックの目的は「自然言語ゴール → LLM 呼び出し → 構造化(JSON)計画 → スキーマ検証 → （必要なら）フォールバック正規化」という最小パイプラインを確認することです。\n",
    "\n",
    "### 得られる成果物\n",
    "- Pydantic モデル (Plan / SubTask / AgentEnum) を先に定義し構造化出力を強制する手法\n",
    "- SystemMessage による JSON キー制約と簡易 few-shot 的サンプル（例付きプロンプト）\n",
    "- モデルが day / activities のような別形式で返した時のフォールバック正規化例\n",
    "- 早期検証 (model_validate) による不正フォーマット検出パターン\n",
    "\n",
    "### セル構成 (学習段階に合わせた責務分離)\n",
    "| セル | タイトル / 目的 | 主なポイント |\n",
    "|------|-----------------|--------------|\n",
    "| 1 | このイントロ | ゴール/範囲/構成 | \n",
    "| 2 | インストール & インポート | 依存分離 / 再実行頻度低 | \n",
    "| 3 | スキーマ定義 | \"出力仕様\" を先に固定 | \n",
    "| 4 | 環境変数ロード & クライアント | 接続確認 / 再利用関数化 | \n",
    "| 5 | プロンプト編集ゾーン | A/B テストしやすい分離 | \n",
    "| 6 | 実行 & 正規化 & 検証 & 出力 | 変動が最も多い部分 | \n",
    "| 7 | 拡張案 | 次学習ステップ指針 | \n",
    "\n",
    "### README との対応\n",
    "- 「タスク分解」「構造化出力」のコア: 本ノートでスキーマ定義 + 構造化 JSON 生成/検証として再現。\n",
    "- 「拡張フル例」の基礎: エラーハンドリング（JSON 抽出 + フォールバック正規化）を部分的に包含。\n",
    "- 「マルチエージェント連携」: 本ノートでは未実装（単一プラン生成のみ）。README で概念理解後、別ノート/拡張で実装可。\n",
    "- 「反復的プランニング（Re-plan）」: これについては未収録。Plan を保持し再プランプロンプトを追加することで拡張可能。\n",
    "- 「推奨実行順序」内ステップ1相当: 接続確認 + 最小スキーマ検証を担う位置付け。\n",
    "\n",
    "> 発展: README の拡張フル例と再プラン節を参考に、(1) 役割説明をより細かくした SystemMessage、(2) 再計画セル、(3) ログ/検証メトリクス収集セルを追加して学習を段階的に進められます。\n",
    "\n",
    "### 実行手順\n",
    "1. 必要ライブラリインストールと環境変数(GITHUB_TOKEN など)確認\n",
    "2. スキーマ定義（列挙型 + Pydantic）\n",
    "3. プロンプト（System + User）構築 (セル5)\n",
    "4. 応答(JSON)抽出と例外処理 / フォールバック正規化 (セル6)\n",
    "5. スキーマ検証 & サブタスク一覧表示 (セル6)\n",
    "\n",
    "---"
   ]
  },
  {
   "cell_type": "code",
   "execution_count": 5,
   "id": "050383ce",
   "metadata": {},
   "outputs": [
    {
     "name": "stdout",
     "output_type": "stream",
     "text": [
      "Note: you may need to restart the kernel to use updated packages.\n",
      "[INIT] ライブラリ読み込み完了\n"
     ]
    },
    {
     "name": "stderr",
     "output_type": "stream",
     "text": [
      "\n",
      "[notice] A new release of pip is available: 24.2 -> 25.2\n",
      "[notice] To update, run: python.exe -m pip install --upgrade pip\n"
     ]
    }
   ],
   "source": [
    "# セル2: インストール & インポート (再実行頻度低)\n",
    "%pip install azure-ai-inference pydantic --quiet\n",
    "import os, json, re\n",
    "from typing import List\n",
    "from enum import Enum\n",
    "from pydantic import BaseModel\n",
    "from azure.ai.inference import ChatCompletionsClient\n",
    "from azure.ai.inference.models import SystemMessage, UserMessage\n",
    "from azure.core.credentials import AzureKeyCredential\n",
    "print('[INIT] ライブラリ読み込み完了')"
   ]
  },
  {
   "cell_type": "code",
   "execution_count": null,
   "id": "4d309276",
   "metadata": {},
   "outputs": [
    {
     "name": "stdout",
     "output_type": "stream",
     "text": [
      "[SCHEMA] AgentEnum / SubTask / Plan 定義完了 (★Plan スキーマ確定)\n"
     ]
    }
   ],
   "source": [
    "# セル3: スキーマ定義 (LLM 出力スキーマを固定)\n",
    "# =============================================================\n",
    "# ★重要: ここで “出力スキーマ” を先に固定することで\n",
    "#         以降のプロンプト/検証/再計画すべての一貫性を担保する。\n",
    "#         この段を変えると下流 (正規化/評価) ロジックの想定が崩れる。\n",
    "#         → 合意された JSON 形式をコード化し揺れを最小化。\n",
    "# =============================================================\n",
    "class AgentEnum(str, Enum):\n",
    "    Flight='flight_booking'\n",
    "    Hotel='hotel_booking'\n",
    "    Car='car_rental'\n",
    "    Activity='activities_booking'\n",
    "    Destination='destination_info'\n",
    "\n",
    "class SubTask(BaseModel):\n",
    "    task_details: str  # ★各サブタスク具体説明\n",
    "    assigned_agent: AgentEnum  # ★どのエージェントに渡すか (ルーティングキー)\n",
    "\n",
    "class Plan(BaseModel):  # ★最上位プラン: 解析/表示/再プランの中核データ構造\n",
    "    main_task: str      #   ゴール要約 (人間/ログ可読性)\n",
    "    subtasks: List[SubTask]  #   実行単位に分解された手順 (自動化/並列化単位)\n",
    "    is_greeting: bool   #   挨拶のみ判定 (後段処理簡略)\n",
    "\n",
    "print('[SCHEMA] AgentEnum / SubTask / Plan 出力スキーマ定義完了')"
   ]
  },
  {
   "cell_type": "code",
   "execution_count": 7,
   "id": "411e678a",
   "metadata": {},
   "outputs": [
    {
     "name": "stdout",
     "output_type": "stream",
     "text": [
      "[CLIENT] 初期化成功 endpoint= https://models.inference.ai.azure.com  model= gpt-4o-mini\n"
     ]
    }
   ],
   "source": [
    "# セル4: 環境変数ロード & クライアント生成\n",
    "# (必要なら python-dotenv 利用可)\n",
    "TOKEN = os.getenv('GITHUB_TOKEN') or os.getenv('OPENAI_API_KEY')\n",
    "if not TOKEN:\n",
    "    raise RuntimeError('GITHUB_TOKEN か OPENAI_API_KEY を設定してください')\n",
    "ENDPOINT = os.getenv('OPENAI_BASE_URL','https://models.inference.ai.azure.com')\n",
    "MODEL = os.getenv('OPENAI_MODEL','gpt-4o-mini')\n",
    "client = ChatCompletionsClient(endpoint=ENDPOINT, credential=AzureKeyCredential(TOKEN))\n",
    "print('[CLIENT] 初期化成功 endpoint=', ENDPOINT, ' model=', MODEL)"
   ]
  },
  {
   "cell_type": "code",
   "execution_count": null,
   "id": "9fbb9f98",
   "metadata": {},
   "outputs": [
    {
     "name": "stdout",
     "output_type": "stream",
     "text": [
      "[PROMPT] goal= 家族4人(子供2人) シンガポール→メルボルン 3日旅行プランを作成\n",
      "[PROMPT] System 制約キー: main_task / subtasks[] / is_greeting\n"
     ]
    }
   ],
   "source": [
    "# セル5: プロンプト編集ゾーン (A/B テスト用)\n",
    "# -------------------------------------------------------------\n",
    "# ★重要: モデルに“何を、どの構造で”返させるかの制御レバー。\n",
    "#         少しの文言差で構造揺れが発生 → 下流正規化コスト増。\n",
    "#         ここは実験頻度が高いので他セルから独立。\n",
    "# -------------------------------------------------------------\n",
    "goal = '家族4人(子供2人) シンガポール→メルボルン 3日旅行プランを作成'\n",
    "SYSTEM_PROMPT = (\n",
    "    'あなたは旅行プラン用プランナーです。必ず以下の JSON 構造のみを出力してください。\\n'\n",
    "    'キー: main_task (文字列), subtasks (配列), is_greeting (true/false)。\\n'\n",
    "    'subtasks 要素: {\"task_details\": <文字列>, \"assigned_agent\": < flight_booking | hotel_booking | car_rental | activities_booking | destination_info >}。\\n'\n",
    "    '挨拶のみなら subtasks は空配列, is_greeting=true。\\n'\n",
    "    '例: {\"main_task\":\"旅行計画\",\"subtasks\":[{\"task_details\":\"往復航空券を検索\",\"assigned_agent\":\"flight_booking\"}],\"is_greeting\":false}'\n",
    ")\n",
    "print('[PROMPT] goal=', goal)\n",
    "print('[PROMPT] System 制約キー: main_task / subtasks[] / is_greeting (★構造再確認)')"
   ]
  },
  {
   "cell_type": "code",
   "execution_count": null,
   "id": "33710c12",
   "metadata": {},
   "outputs": [
    {
     "name": "stdout",
     "output_type": "stream",
     "text": [
      "[RAW 頭120] {\"main_task\":\"シンガポールからメルボルンへの3日旅行プラン\",\"subtasks\":[{\"task_details\":\"往復航空券を検索\",\"assigned_agent\":\"flight_booking\"},{\"task_d ...\n",
      "[PARSE] 抽出候補 先頭90: {\"main_task\":\"シンガポールからメルボルンへの3日旅行プラン\",\"subtasks\":[{\"task_details\":\"往復航空券を検索\",\"assigned_age ...\n",
      "[INFO] 正規化不要\n",
      "[VALIDATION] OK main_task= シンガポールからメルボルンへの3日旅行プラン  subtasks= 5\n",
      " - AgentEnum.Flight | 往復航空券を検索\n",
      " - AgentEnum.Hotel | メルボルンでの宿泊先を予約\n",
      " - AgentEnum.Car | メルボルンでのレンタカーを手配\n",
      " - AgentEnum.Activity | メルボルンでの観光アクティビティを計画\n",
      " - AgentEnum.Destination | メルボルンの観光情報を提供\n",
      "\n",
      "[GUIDE] goal を変更 / 温度変更 / SystemPrompt 追記で再実験\n"
     ]
    }
   ],
   "source": [
    "# セル6: 実行 & 抽出 & 正規化 & 検証\n",
    "# === README / セル1 対応マッピング =================================\n",
    "# このセルはセル1「タスク分解」「構造化出力」の“後半(生成/検証)”を担当。\n",
    "# - タスク分解: セル3で固定した SubTask / Plan スキーマに沿う形で LLM 応答を取得し\n",
    "#               subtasks[] に手順分解された要素を格納する工程。\n",
    "# - 構造化出力: 生テキスト → JSON 抽出 → (必要なら正規化) → Pydantic 検証 のパイプラインで\n",
    "#               形式保証と揺れ抑制を実現。\n",
    "# 結合イメージ: [セル3: 仕様(スキーマ)固定] + [セル6: 生成/整形/検証] = README 該当点の再現。\n",
    "# 品質目的: 出力揺れ可観測性 / 早期Fail Fast / 将来 Re-plan (差分比較) の土台を形成。\n",
    "# ===================================================================\n",
    "system = SystemMessage(content=SYSTEM_PROMPT)\n",
    "user = UserMessage(content=goal)\n",
    "resp = client.complete(messages=[system, user], model=MODEL, temperature=0.2, max_tokens=800)\n",
    "text = resp.choices[0].message.content or ''\n",
    "print('[RAW 頭120]', text[:120].replace('\\n',' '), '...')\n",
    "\n",
    "# ★抽出: 最初の { ... } ブロックを単純に取る (将来はより堅牢なパーサに差し替え可能)\n",
    "m = re.search(r'\\{[\\s\\S]*\\}', text.strip())\n",
    "json_str = m.group(0) if m else text\n",
    "print('[PARSE] 抽出候補 先頭90:', json_str[:90], '...')\n",
    "\n",
    "# ★デコード: 失敗=プロンプトorモデル応答の構造逸脱 → 早期Fail Fast\n",
    "try:\n",
    "    data = json.loads(json_str)\n",
    "except json.JSONDecodeError as e:\n",
    "    raise ValueError(f'JSON デコード失敗: {e}')\n",
    "\n",
    "# ★正規化: 想定外(day/activities) 形式→共通 subtasks 形式へ変換\n",
    "if isinstance(data, dict) and data.get('subtasks') and isinstance(data['subtasks'], list) and data['subtasks'] and 'task_details' not in data['subtasks'][0]:\n",
    "    print('[WARN] day/activities 構造検出 → 正規化')\n",
    "    new_subs = []\n",
    "    for entry in data['subtasks']:\n",
    "        day_label = entry.get('day')\n",
    "        acts = entry.get('activities') or []\n",
    "        for act in acts:\n",
    "            new_subs.append({'task_details': f'Day {day_label}: {act}', 'assigned_agent':'activities_booking'})\n",
    "    data['subtasks'] = new_subs\n",
    "    data.setdefault('is_greeting', False)\n",
    "    data.setdefault('main_task', goal)\n",
    "else:\n",
    "    print('[INFO] 正規化不要')\n",
    "\n",
    "# ★検証: スキーマ整合性。失敗したら上流(プロンプト/正規化)を調整\n",
    "plan = Plan.model_validate(data)\n",
    "print('[VALIDATION] OK main_task=', plan.main_task, ' subtasks=', len(plan.subtasks))\n",
    "\n",
    "# ★可観測性: 部分プレビューで異常値(極端な長さ/重複)を早期発見\n",
    "for st in plan.subtasks[:6]:\n",
    "    print(' -', st.assigned_agent, '|', st.task_details)\n",
    "if len(plan.subtasks) > 6:\n",
    "    print(' ...(他', len(plan.subtasks)-6, '件)')\n",
    "\n",
    "print('\\n[GUIDE] goal を変更 / 温度変更 / SystemPrompt 強化 / 正規化ロジック改良 で品質比較')"
   ]
  },
  {
   "cell_type": "markdown",
   "id": "70d14403",
   "metadata": {},
   "source": [
    "## セル7: 拡張案 (次ステップの指針)\n",
    "以下は学習深化のための発展項目です。\n",
    "\n",
    "1. function calling で各 subtask を自動実行\n",
    "2. プラン品質メトリクス: ステップ数・重複・カテゴリ網羅\n",
    "3. Re-plan: 失敗/追加要件時に差分再生成 (前回 Plan をコンテキスト投入)\n",
    "4. マルチエージェント: router + executor + aggregator 分離\n",
    "5. ロギング/評価: JSON ログ保存 & 再現テスト (回帰検知)\n",
    "6. diff 表示: 前回と今回の subtasks 差分強調\n",
    "7. 評価用ベンチ: 複数ゴールを一括検証 (成功率/平均ステップ)\n",
    "\n",
    "> 推奨: Re-plan / Multi-agent を別ノート `replan.ipynb` `multi_agent.ipynb` に分け、最小例との責務境界を維持。"
   ]
  }
 ],
 "metadata": {
  "kernelspec": {
   "display_name": "myenv",
   "language": "python",
   "name": "python3"
  },
  "language_info": {
   "codemirror_mode": {
    "name": "ipython",
    "version": 3
   },
   "file_extension": ".py",
   "mimetype": "text/x-python",
   "name": "python",
   "nbconvert_exporter": "python",
   "pygments_lexer": "ipython3",
   "version": "3.13.0"
  }
 },
 "nbformat": 4,
 "nbformat_minor": 5
}
