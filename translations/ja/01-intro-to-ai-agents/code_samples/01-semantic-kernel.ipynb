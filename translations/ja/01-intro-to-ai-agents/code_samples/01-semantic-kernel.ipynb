{
 "cells": [
  {
   "cell_type": "markdown",
   "id": "ce252c99",
   "metadata": {},
   "source": [
    "# Semantic Kernel入門\n",
    "\n",
    "このコードサンプルでは、[Semantic Kernel](https://aka.ms/ai-agents-beginners/semantic-kernel) AIフレームワークを使用して基本的なエージェントを作成します。\n",
    "\n",
    "このサンプルの目標は、異なるAgenticパターンを実装する際に、後の追加コードサンプルで使用する手順を示すことです。\n",
    "\n",
    "## 📚 このノートブックで学習できること\n",
    "\n",
    "### 🎯 主要な学習目標\n",
    "- **Semantic Kernel**の基本的な使用方法\n",
    "- **GitHub Models**との連携によるLLMアクセス\n",
    "- **プラグインシステム**による機能拡張\n",
    "- **基本的なAIエージェント**の実装\n",
    "\n",
    "### 🛠️ 実装する技術スタック\n",
    "- **Semantic Kernel**: Microsoft製AIエージェントフレームワーク\n",
    "- **GitHub Models**: gpt-4o-miniモデルへのアクセス\n",
    "- **プラグイン開発**: カスタム機能の実装\n",
    "- **非同期処理**: ストリーミング応答の実装\n",
    "\n",
    "### 💡 実用的なスキル\n",
    "- AIエージェントの基本構造理解\n",
    "- プラグインによる機能拡張方法\n",
    "- 旅行エージェントの実用的実装例"
   ]
  },
  {
   "cell_type": "markdown",
   "id": "7430ec1f",
   "metadata": {},
   "source": [
    "## 必要なPythonパッケージのインポート"
   ]
  },
  {
   "cell_type": "code",
   "execution_count": 1,
   "id": "bfefadcf",
   "metadata": {},
   "outputs": [],
   "source": [
    "import os \n",
    "from typing import Annotated\n",
    "from openai import AsyncOpenAI\n",
    "\n",
    "from dotenv import load_dotenv\n",
    "\n",
    "from semantic_kernel.agents import ChatCompletionAgent, ChatHistoryAgentThread\n",
    "from semantic_kernel.connectors.ai.open_ai import OpenAIChatCompletion\n",
    "from semantic_kernel.functions import kernel_function"
   ]
  },
  {
   "cell_type": "markdown",
   "id": "6b68aafb",
   "metadata": {},
   "source": [
    "## クライアントの作成\n",
    "\n",
    "このサンプルでは、LLMへのアクセスに[GitHub Models](https://aka.ms/ai-agents-beginners/github-models)を使用します。\n",
    "\n",
    "`ai_model_id`は`gpt-4o-mini`として定義されています。GitHub Modelsマーケットプレイスで利用可能な他のモデルに変更して、異なる結果を確認してみてください。\n",
    "\n",
    "GitHub ModelsのベースURLに使用される`Azure Inference SDK`を使用するために、Semantic Kernel内の`OpenAIChatCompletion`コネクタを使用します。他のモデルプロバイダーでSemantic Kernelを使用するための[他の利用可能なコネクタ](https://learn.microsoft.com/semantic-kernel/concepts/ai-services/chat-completion)もあります。"
   ]
  },
  {
   "cell_type": "code",
   "execution_count": 2,
   "id": "4a5245cf",
   "metadata": {},
   "outputs": [],
   "source": [
    "import random   \n",
    "\n",
    "# サンプル用のプラグインを定義\n",
    "\n",
    "class DestinationsPlugin:\n",
    "    \"\"\"バケーション用のランダムな目的地リスト。\"\"\"\n",
    "\n",
    "    def __init__(self):\n",
    "        # バケーション目的地のリスト\n",
    "        self.destinations = [\n",
    "            \"バルセロナ、スペイン\",\n",
    "            \"パリ、フランス\",\n",
    "            \"ベルリン、ドイツ\",\n",
    "            \"東京、日本\",\n",
    "            \"シドニー、オーストラリア\",\n",
    "            \"ニューヨーク、アメリカ\",\n",
    "            \"カイロ、エジプト\",\n",
    "            \"ケープタウン、南アフリカ\",\n",
    "            \"リオデジャネイロ、ブラジル\",\n",
    "            \"バリ、インドネシア\"\n",
    "        ]\n",
    "        # 重複を避けるために最後の目的地を記録\n",
    "        self.last_destination = None\n",
    "\n",
    "    @kernel_function(description=\"ランダムなバケーション目的地を提供します。\")\n",
    "    def get_random_destination(self) -> Annotated[str, \"ランダムなバケーション目的地を返します。\"]:\n",
    "        # 利用可能な目的地を取得（可能であれば最後の目的地を除外）\n",
    "        available_destinations = self.destinations.copy()\n",
    "        if self.last_destination and len(available_destinations) > 1:\n",
    "            available_destinations.remove(self.last_destination)\n",
    "\n",
    "        # ランダムな目的地を選択\n",
    "        destination = random.choice(available_destinations)\n",
    "\n",
    "        # 最後の目的地を更新\n",
    "        self.last_destination = destination\n",
    "\n",
    "        return destination"
   ]
  },
  {
   "cell_type": "code",
   "execution_count": 3,
   "id": "33319e41",
   "metadata": {},
   "outputs": [],
   "source": [
    "load_dotenv()\n",
    "client = AsyncOpenAI(\n",
    "    api_key=os.environ.get(\"GITHUB_TOKEN\"), \n",
    "    base_url=\"https://models.inference.ai.azure.com/\",\n",
    ")\n",
    "\n",
    "# `ChatCompletionAgent`で使用されるAIサービスを作成\n",
    "chat_completion_service = OpenAIChatCompletion(\n",
    "    ai_model_id=\"gpt-4o-mini\",\n",
    "    async_client=client,\n",
    ")"
   ]
  },
  {
   "cell_type": "markdown",
   "id": "9b4eb182",
   "metadata": {},
   "source": [
    "## エージェントの作成\n",
    "\n",
    "以下では`TravelAgent`というエージェントを作成します。\n",
    "\n",
    "この例では、非常にシンプルな指示を使用しています。これらの指示を変更して、エージェントがどのように異なって応答するかを確認してみてください。"
   ]
  },
  {
   "cell_type": "code",
   "execution_count": 4,
   "id": "0c8457e8",
   "metadata": {},
   "outputs": [],
   "source": [
    "agent = ChatCompletionAgent(\n",
    "    service=chat_completion_service, \n",
    "    plugins=[DestinationsPlugin()],\n",
    "    name=\"TravelAgent\",\n",
    "    instructions=\"あなたはランダムな目的地で顧客のバケーション計画を支援できる有用なAIエージェントです\",\n",
    ")"
   ]
  },
  {
   "cell_type": "markdown",
   "id": "e0d9c504",
   "metadata": {},
   "source": [
    "## エージェントの実行\n",
    "\n",
    "`ChatHistoryAgentThread`タイプのスレッドを定義することで、エージェントを実行できます。必要なシステムメッセージは、エージェントのinvoke_streamの`messages`キーワード引数に提供されます。\n",
    "\n",
    "これらが定義された後、ユーザーがエージェントに送信する内容となる`user_inputs`を作成します。この場合、このメッセージを「日帰り旅行を計画してください」に設定しています。\n",
    "\n",
    "エージェントがどのように異なって応答するかを確認するために、このメッセージを自由に変更してみてください。"
   ]
  },
  {
   "cell_type": "code",
   "execution_count": 5,
   "id": "f9e4fc33",
   "metadata": {},
   "outputs": [
    {
     "name": "stdout",
     "output_type": "stream",
     "text": [
      "# ユーザー: 日帰り旅行を計画してください。\n",
      "\n",
      "# TravelAgent: # TravelAgent: 日帰り旅行の目的地として日帰り旅行の目的地として、南アフリカのケ、南アフリカのケープタウンを提ープタウンを提案します！ \n",
      "\n",
      "###案します！ \n",
      "\n",
      "### ケープタウンの日帰 ケープタウンの日帰り旅行プランり旅行プラン\n",
      "\n",
      "**午前:**\n",
      "- **\n",
      "\n",
      "**午前:**\n",
      "- **テーブルマウンテン**:テーブルマウンテン**: ケーブルカーに乗 ケーブルカーに乗って、絶景のパって、絶景のパノラマビューを楽しノラマビューを楽しみましょう。\n",
      "みましょう。\n",
      "- **朝食**: ケ- **朝食**: ケーブルカーの近くにーブルカーの近くにあるカフェで地あるカフェで地元の料理を楽しむ元の料理を楽しむのもいいのもいいでしょう。\n",
      "\n",
      "**午後:でしょう。\n",
      "\n",
      "**午後:**\n",
      "- **ブ**\n",
      "- **ブランズウィランズウィックビーチックビーチ**: 美しい**: 美しい白砂のビ白砂のビーチでリラックスーチでリラックスや散歩を楽しんや散歩を楽しんでみてください。\n",
      "でみてください。\n",
      "- **ヴィクトリア- **ヴィクトリア＆アルフレッド・ウォ＆アルフレッド・ウォーーターフターフロント**: お土ロント**: お土産店やレストラン産店やレストランがある、活気あるエリアがある、活気あるエリアを散策しますを散策します。\n",
      "\n",
      "**夕方:**\n",
      "- **夕。\n",
      "\n",
      "**夕方:**\n",
      "- **夕食**: 海の景色を堪食**: 海の景色を堪能できるレ能できるレストランで新ストランで新鮮なシーフ鮮なシーフードを楽しむードを楽しむのはいかがでしょうか。\n",
      "\n",
      "**のはいかがでしょうか。\n",
      "\n",
      "**夜:**\n",
      "- **カ夜:**\n",
      "- **カフカの夕日**: ケープフカの夕日**: ケープタウンの素晴らしいタウンの素晴らしい夕日を見ながら、一夕日を見ながら、一日を締めくくり日を締めくくりましょう。\n",
      "\n",
      "ケープタウンはましょう。\n",
      "\n",
      "ケープタウンは文化、美食、自然が融合した文化、美食、自然が融合した素敵な場所です素敵な場所です。。素晴らしい日素晴らしい日帰り旅行帰り旅行になりますように！になりますように！\n",
      "\n"
     ]
    }
   ],
   "source": [
    "async def main():\n",
    "    # エージェント用の新しいスレッドを作成\n",
    "    # スレッドが提供されない場合、新しいスレッドが\n",
    "    # 作成され、初期応答と共に返されます\n",
    "    thread: ChatHistoryAgentThread | None = None\n",
    "\n",
    "    user_inputs = [\n",
    "        \"日帰り旅行を計画してください。\",\n",
    "    ]\n",
    "\n",
    "    for user_input in user_inputs:\n",
    "        print(f\"# ユーザー: {user_input}\\n\")\n",
    "        first_chunk = True\n",
    "        async for response in agent.invoke_stream(\n",
    "            messages=user_input, thread=thread,\n",
    "        ):\n",
    "            # 5. 応答を出力\n",
    "            if first_chunk:\n",
    "                print(f\"# {response.name}: \", end=\"\", flush=True)\n",
    "                first_chunk = False\n",
    "            print(f\"{response}\", end=\"\", flush=True)\n",
    "            thread = response.thread\n",
    "        print()\n",
    "\n",
    "    # スレッドをクリーンアップ\n",
    "    await thread.delete() if thread else None\n",
    "\n",
    "await main()"
   ]
  }
 ],
 "metadata": {
  "kernelspec": {
   "display_name": "myenv",
   "language": "python",
   "name": "python3"
  },
  "language_info": {
   "codemirror_mode": {
    "name": "ipython",
    "version": 3
   },
   "file_extension": ".py",
   "mimetype": "text/x-python",
   "name": "python",
   "nbconvert_exporter": "python",
   "pygments_lexer": "ipython3",
   "version": "3.13.0"
  }
 },
 "nbformat": 4,
 "nbformat_minor": 5
}
