{
 "cells": [
  {
   "cell_type": "markdown",
   "id": "294a4459",
   "metadata": {},
   "source": [
    "# Semantic Kernel\n",
    "\n",
    "このコードサンプルでは、[Semantic Kernel](https://aka.ms/ai-agents-beginners/semantic-kernel) AIフレームワークを使用して基本的なエージェントを作成します。\n",
    "\n",
    "このサンプルの目的は、さまざまなエージェント設計パターンを実装する際に追加のコードサンプルで使用する手順を紹介することです。"
   ]
  },
  {
   "cell_type": "markdown",
   "id": "12506a93",
   "metadata": {},
   "source": [
    "## 必要なPythonパッケージのインポート"
   ]
  },
  {
   "cell_type": "code",
   "execution_count": 1,
   "id": "c43a1ecb",
   "metadata": {},
   "outputs": [],
   "source": [
    "import json\n",
    "import os\n",
    "\n",
    "from typing import Annotated\n",
    "\n",
    "from dotenv import load_dotenv\n",
    "\n",
    "from IPython.display import display, HTML\n",
    "\n",
    "from openai import AsyncOpenAI\n",
    "\n",
    "from semantic_kernel.agents import ChatCompletionAgent, ChatHistoryAgentThread\n",
    "from semantic_kernel.connectors.ai.open_ai import OpenAIChatCompletion\n",
    "from semantic_kernel.contents import FunctionCallContent, FunctionResultContent, StreamingTextContent\n",
    "from semantic_kernel.functions import kernel_function"
   ]
  },
  {
   "cell_type": "markdown",
   "id": "875d7880",
   "metadata": {},
   "source": [
    "## クライアントの作成\n",
    "\n",
    "このサンプルでは、LLMへのアクセスに[GitHub Models](https://aka.ms/ai-agents-beginners/github-models)を使用します。\n",
    "\n",
    "`ai_model_id`は`gpt-4o-mini`として定義されています。GitHub Modelsマーケットプレイスで利用可能な他のモデルに変更して、異なる結果を確認してみてください。\n",
    "\n",
    "GitHub Modelsの`base_url`に使用される`Azure Inference SDK`を使用するため、Semantic Kernel内の`OpenAIChatCompletion`コネクタを使用します。他のモデルプロバイダーでSemantic Kernelを使用するための[利用可能なコネクタ](https://learn.microsoft.com/semantic-kernel/concepts/ai-services/chat-completion)も他にあります。"
   ]
  },
  {
   "cell_type": "code",
   "execution_count": 2,
   "id": "79d0f4bd",
   "metadata": {},
   "outputs": [],
   "source": [
    "import random   \n",
    "\n",
    "# サンプル用のプラグインを定義\n",
    "\n",
    "class DestinationsPlugin:\n",
    "    \"\"\"バケーション用のランダムな目的地のリスト。\"\"\"\n",
    "\n",
    "    def __init__(self):\n",
    "        # バケーション先のリスト\n",
    "        self.destinations = [\n",
    "            \"スペイン、バルセロナ\",\n",
    "            \"フランス、パリ\",\n",
    "            \"ドイツ、ベルリン\",\n",
    "            \"日本、東京\",\n",
    "            \"オーストラリア、シドニー\",\n",
    "            \"アメリカ、ニューヨーク\",\n",
    "            \"エジプト、カイロ\",\n",
    "            \"南アフリカ、ケープタウン\",\n",
    "            \"ブラジル、リオデジャネイロ\",\n",
    "            \"インドネシア、バリ島\"\n",
    "        ]\n",
    "        # 重複を避けるために最後の目的地を記録\n",
    "        self.last_destination = None\n",
    "\n",
    "    @kernel_function(description=\"ランダムなバケーション先を提供します。\")\n",
    "    def get_random_destination(self) -> Annotated[str, \"ランダムなバケーション先を返します。\"]:\n",
    "        # 利用可能な目的地を取得（可能であれば最後の目的地を除外）\n",
    "        available_destinations = self.destinations.copy()\n",
    "        if self.last_destination and len(available_destinations) > 1:\n",
    "            available_destinations.remove(self.last_destination)\n",
    "\n",
    "        # ランダムな目的地を選択\n",
    "        destination = random.choice(available_destinations)\n",
    "\n",
    "        # 最後の目的地を更新\n",
    "        self.last_destination = destination\n",
    "\n",
    "        return destination"
   ]
  },
  {
   "cell_type": "code",
   "execution_count": 12,
   "id": "1a67fefb",
   "metadata": {},
   "outputs": [],
   "source": [
    "load_dotenv()\n",
    "client = AsyncOpenAI(\n",
    "    api_key=os.environ.get(\"GITHUB_TOKEN\"), \n",
    "    base_url=\"https://models.inference.ai.azure.com/\",\n",
    ")\n",
    "\n",
    "# `ChatCompletionAgent`で使用されるAIサービスを作成\n",
    "chat_completion_service = OpenAIChatCompletion(\n",
    "    ai_model_id=\"gpt-4o-mini\",\n",
    "    async_client=client,\n",
    ")"
   ]
  },
  {
   "cell_type": "markdown",
   "id": "ece1990e",
   "metadata": {},
   "source": [
    "## エージェントの作成\n",
    "\n",
    "以下では、`TravelAgent`というエージェントを作成します。\n",
    "\n",
    "この例では、非常にシンプルな指示を使用しています。これらの指示を変更して、エージェントがどのように異なる応答をするかを確認できます。"
   ]
  },
  {
   "cell_type": "code",
   "execution_count": 13,
   "id": "1c896d59",
   "metadata": {},
   "outputs": [],
   "source": [
    "# 設計原則に基づいたエージェント指示を定義\n",
    "# これらの指示は透明性、制御性、一貫性の原則を実装しています\n",
    "\n",
    "AGENT_INSTRUCTIONS = \"\"\"あなたは顧客のバケーション計画をサポートする親切なAIエージェントです。\n",
    "\n",
    "重要：ユーザーが目的地を指定した場合は、常にその場所での計画を立ててください。ランダムな目的地を提案するのは、ユーザーが好みを指定していない場合のみです。\n",
    "\n",
    "会話が始まったら、以下のメッセージで自己紹介してください：\n",
    "「こんにちは！私はあなたの旅行エージェントアシスタントです。バケーションの計画を立てたり、興味深い目的地を提案したりできます。以下のようなことをお聞きください：\n",
    "1. 特定の場所への日帰り旅行の計画\n",
    "2. ランダムなバケーション先の提案\n",
    "3. 特定の特徴を持つ目的地の検索（ビーチ、山、歴史的な場所など）\n",
    "4. 最初の提案が気に入らない場合の代替旅行の計画\n",
    "\n",
    "今日はどのような旅行の計画をお手伝いしましょうか？\"\n",
    "\n",
    "常にユーザーの好みを優先してください。「バリ島」や「パリ」などの特定の目的地を言及した場合は、代替案を提案するのではなく、その場所での計画に集中してください。\n",
    "\"\"\"\n",
    "\n",
    "# ChatCompletionAgentを作成 - 設計原則を組み込んだ指示で初期化\n",
    "agent = ChatCompletionAgent(\n",
    "    service=chat_completion_service, \n",
    "    plugins=[DestinationsPlugin()],  # ランダム目的地機能を提供\n",
    "    name=\"TravelAgent\",  # 一貫性のための明確な役割名\n",
    "    instructions=AGENT_INSTRUCTIONS,  # 透明性と制御性を重視した指示\n",
    ")"
   ]
  },
  {
   "cell_type": "markdown",
   "id": "ac5dbd2c",
   "metadata": {},
   "source": [
    "### 設計原則の実装\n",
    "\n",
    "上記のエージェント実装では、第3章で学んだ**エージェント設計原則**が以下のように適用されています：\n",
    "\n",
    "#### 1. **透明性** (Transparency)\n",
    "- エージェントが自己紹介で**機能を明確に説明**\n",
    "- 利用可能なサービス（日帰り旅行計画、ランダム提案など）を具体的にリストアップ\n",
    "- ユーザーがエージェントの能力を理解してから利用できる\n",
    "\n",
    "#### 2. **制御性** (Control)  \n",
    "- **ユーザーの好みを最優先**：「ユーザーが目的地を指定した場合は、常にその場所での計画を立てる」\n",
    "- **代替案の提供**：「最初の提案が気に入らない場合の代替旅行の計画」\n",
    "- ユーザーが会話の方向性をコントロールできる設計\n",
    "\n",
    "#### 3. **一貫性** (Consistency)\n",
    "- **段階的な相互作用**：挨拶→機能説明→具体的なサービス提供の流れ\n",
    "- **予測可能な応答パターン**：ランダム提案→代替案提案の一貫したフロー\n",
    "- **明確な役割定義**：常に「旅行エージェントアシスタント」として振る舞う\n",
    "\n",
    "これらの原則により、ユーザーは安心してエージェントと対話でき、期待する結果を得やすくなります。"
   ]
  },
  {
   "cell_type": "markdown",
   "id": "add793f0",
   "metadata": {},
   "source": [
    "## エージェントの実行と設計原則の検証\n",
    "\n",
    "これで、設計原則に基づいて構築されたエージェントを実行し、その効果を確認できます。\n",
    "\n",
    "以下の`user_inputs`は、第3章で学んだ設計原則がどのように機能するかを検証するために設計されています：\n",
    "\n",
    "1. **「こんにちは！どんなサービスを提供していますか？」** → **透明性**の検証：エージェントが自己紹介と機能説明を行うか\n",
    "2. **「ランダムなバケーション先を提案してください。」** → **一貫性**の検証：予期した通りの機能提供ができるか  \n",
    "3. **「その目的地は気に入りません。別の場所を提案してください。」** → **制御性**の検証：ユーザーのフィードバックに適切に対応できるか\n",
    "\n",
    "このメッセージを変更して、エージェントがどのように異なる応答をするかを自由に確認してください。特に、設計原則に反する要求（例：「勝手に予約して」）をした場合の応答も興味深いでしょう。"
   ]
  },
  {
   "cell_type": "code",
   "execution_count": null,
   "id": "de9442e5",
   "metadata": {},
   "outputs": [
    {
     "data": {
      "text/html": [
       "<div style='margin-bottom:10px'><div style='font-weight:bold'>ユーザー:</div><div style='margin-left:20px'>こんにちは！どんなサービスを提供していますか？</div></div><div style='margin-bottom:20px'><div style='font-weight:bold'>TravelAgent:</div><div style='margin-left:20px; white-space:pre-wrap'>こんにちは！私はあなたの旅行エージェントアシスタントです。バケーションの計画を立てたり、興味深い目的地を提案したりできます。以下のようなことをお聞きください：\n",
       "\n",
       "1. 特定の場所への日帰り旅行の計画\n",
       "2. ランダムなバケーション先の提案\n",
       "3. 特定の特徴を持つ目的地の検索（ビーチ、山、歴史的な場所など）\n",
       "4. 最初の提案が気に入らない場合の代替旅行の計画\n",
       "\n",
       "今日はどのような旅行の計画をお手伝いしましょうか？</div></div><hr>"
      ],
      "text/plain": [
       "<IPython.core.display.HTML object>"
      ]
     },
     "metadata": {},
     "output_type": "display_data"
    },
    {
     "data": {
      "text/html": [
       "<div style='margin-bottom:10px'><div style='font-weight:bold'>ユーザー:</div><div style='margin-left:20px'>ランダムなバケーション先を提案してください。</div></div><div style='margin-bottom:20px'><div style='font-weight:bold'>TravelAgent:</div><div style='margin-left:20px; white-space:pre-wrap'>ランダムなバケーション先として、アメリカのニューヨークを提案します！ニューヨークは多様な文化、美味しい食事、素晴らしい観光スポットがたくさんあります。\n",
       "\n",
       "ニューヨークでの旅行プランを立てるにあたり、以下のことができます：\n",
       "\n",
       "1. 観光スポットの訪問（エンパイアステートビル、セントラルパーク、自由の女神など）\n",
       "2. 美味しいレストランのおすすめ\n",
       "3. おしゃれなショッピングエリアや市場の紹介\n",
       "4. 劇場やコンサートのチケット情報\n",
       "\n",
       "具体的にどんなことを計画したいですか？お手伝いします!</div></div><hr>"
      ],
      "text/plain": [
       "<IPython.core.display.HTML object>"
      ]
     },
     "metadata": {},
     "output_type": "display_data"
    },
    {
     "data": {
      "text/html": [
       "<div style='margin-bottom:10px'><div style='font-weight:bold'>ユーザー:</div><div style='margin-left:20px'>その目的地は気に入りません。別の場所を提案して勝手に予約して。</div></div><div style='margin-bottom:20px'><div style='font-weight:bold'>TravelAgent:</div><div style='margin-left:20px; white-space:pre-wrap'>別のバケーション先として、エジプトのカイロを提案します！カイロは歴史的な魅力が溢れる街で、ピラミッドやスフィンクス、カイロ博物館など見どころがたくさんあります。\n",
       "\n",
       "ただし、自動的に予約を行うことはできませんが、カイロでの旅行プランを具体的に立てることはできます。例えば：\n",
       "\n",
       "1. 古代エジプトのピラミッド観光\n",
       "2. 地元の料理を楽しむおすすめのレストラン\n",
       "3. カイロのマーケットやショッピングエリアの紹介\n",
       "4. 現地ツアーやアクティビティの計画\n",
       "\n",
       "どのような活動に興味がありますか？お手伝いします！</div></div><hr>"
      ],
      "text/plain": [
       "<IPython.core.display.HTML object>"
      ]
     },
     "metadata": {},
     "output_type": "display_data"
    }
   ],
   "source": [
    "user_inputs = [\n",
    "    \"こんにちは！どんなサービスを提供していますか？\",\n",
    "    \"ランダムなバケーション先を提案してください。\",\n",
    "    \"その目的地は気に入りません。別の場所を提案してください。\",\n",
    "]\n",
    "\n",
    "async def main():\n",
    "    thread: ChatHistoryAgentThread | None = None\n",
    "\n",
    "    for user_input in user_inputs:\n",
    "        html_output = (\n",
    "            f\"<div style='margin-bottom:10px'>\"\n",
    "            f\"<div style='font-weight:bold'>ユーザー:</div>\"\n",
    "            f\"<div style='margin-left:20px'>{user_input}</div></div>\"\n",
    "        )\n",
    "\n",
    "        agent_name = None\n",
    "        full_response: list[str] = []\n",
    "        function_calls: list[str] = []\n",
    "\n",
    "        # ストリーミング関数呼び出しを再構築するためのバッファ\n",
    "        current_function_name = None\n",
    "        argument_buffer = \"\"\n",
    "\n",
    "        async for response in agent.invoke_stream(\n",
    "            messages=user_input,\n",
    "            thread=thread,\n",
    "        ):\n",
    "            thread = response.thread\n",
    "            agent_name = response.name\n",
    "            content_items = list(response.items)\n",
    "\n",
    "            for item in content_items:\n",
    "                if isinstance(item, FunctionCallContent):\n",
    "                    if item.function_name:\n",
    "                        current_function_name = item.function_name\n",
    "\n",
    "                    # 引数を蓄積（チャンク単位でストリーム）\n",
    "                    if isinstance(item.arguments, str):\n",
    "                        argument_buffer += item.arguments\n",
    "                elif isinstance(item, FunctionResultContent):\n",
    "                    # 結果を表示する前に保留中の関数呼び出しを確定\n",
    "                    if current_function_name:\n",
    "                        formatted_args = argument_buffer.strip()\n",
    "                        try:\n",
    "                            parsed_args = json.loads(formatted_args)\n",
    "                            formatted_args = json.dumps(parsed_args)\n",
    "                        except Exception:\n",
    "                            pass  # 生の文字列のまま残す\n",
    "\n",
    "                        function_calls.append(f\"関数の呼び出し: {current_function_name}({formatted_args})\")\n",
    "                        current_function_name = None\n",
    "                        argument_buffer = \"\"\n",
    "\n",
    "                    function_calls.append(f\"\\n関数の結果:\\n\\n{item.result}\")\n",
    "                elif isinstance(item, StreamingTextContent) and item.text:\n",
    "                    full_response.append(item.text)\n",
    "\n",
    "        if function_calls:\n",
    "            html_output += (\n",
    "                \"<div style='margin-bottom:10px'>\"\n",
    "                \"<details>\"\n",
    "                \"<summary style='cursor:pointer; font-weight:bold; color:#0066cc;'>関数呼び出し（クリックして展開）</summary>\"\n",
    "                \"<div style='margin:10px; padding:10px; background-color:#f8f8f8; \"\n",
    "                \"border:1px solid #ddd; border-radius:4px; white-space:pre-wrap; font-size:14px; color:#333;'>\"\n",
    "                f\"{chr(10).join(function_calls)}\"\n",
    "                \"</div></details></div>\"\n",
    "            )\n",
    "\n",
    "        html_output += (\n",
    "            \"<div style='margin-bottom:20px'>\"\n",
    "            f\"<div style='font-weight:bold'>{agent_name or 'アシスタント'}:</div>\"\n",
    "            f\"<div style='margin-left:20px; white-space:pre-wrap'>{''.join(full_response)}</div></div><hr>\"\n",
    "        )\n",
    "\n",
    "        display(HTML(html_output))\n",
    "\n",
    "await main()"
   ]
  },
  {
   "cell_type": "markdown",
   "id": "aa382651",
   "metadata": {},
   "source": [
    "## 実行結果の分析：設計原則の効果\n",
    "\n",
    "上記の実行結果から、設計原則がどのように機能しているかを確認できます：\n",
    "\n",
    "### 🔍 **透明性の実現**\n",
    "- 最初の挨拶で、エージェントが**自分の機能を明確に説明**\n",
    "- ユーザーが「どんなサービスを提供していますか？」と尋ねると、具体的な機能リストで応答\n",
    "- **AIが関与していることが明確**で、何ができるかが分かりやすい\n",
    "\n",
    "### 🎛️ **制御性の実現**\n",
    "- ユーザーが「気に入らない」と言った時、即座に**代替案を提供**\n",
    "- **ユーザーの好みを尊重**し、強制的な提案は行わない\n",
    "- 会話の流れをユーザーがコントロールできる\n",
    "\n",
    "### 🔄 **一貫性の実現**\n",
    "- **同じトーンと役割**を維持（常に親切な旅行エージェント）\n",
    "- **予測可能な応答パターン**：提案→フィードバック受容→代替案\n",
    "- **段階的な相互作用**で認知負荷を軽減\n",
    "\n",
    "### 💡 **実践のポイント**\n",
    "このサンプルは、技術的な実装だけでなく、**ユーザー体験を重視した設計**の重要性を示しています。単純なAIチャットボットと、設計原則に基づいたエージェントの違いを体感できます。"
   ]
  }
 ],
 "metadata": {
  "kernelspec": {
   "display_name": "Python 3",
   "language": "python",
   "name": "python3"
  },
  "language_info": {
   "codemirror_mode": {
    "name": "ipython",
    "version": 3
   },
   "file_extension": ".py",
   "mimetype": "text/x-python",
   "name": "python",
   "nbconvert_exporter": "python",
   "pygments_lexer": "ipython3",
   "version": "3.13.0"
  }
 },
 "nbformat": 4,
 "nbformat_minor": 5
}
