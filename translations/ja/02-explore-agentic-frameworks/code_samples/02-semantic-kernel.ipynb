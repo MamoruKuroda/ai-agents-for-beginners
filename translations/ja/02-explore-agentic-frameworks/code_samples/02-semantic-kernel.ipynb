{
 "cells": [
  {
   "cell_type": "markdown",
   "id": "6ff507bb",
   "metadata": {},
   "source": [
    "# Semantic Kernel \n",
    "\n",
    "このコードサンプルでは、[Semantic Kernel](https://aka.ms/ai-agents-beginners/semantic-kernel) AI フレームワークを使用して基本的なエージェントを作成します。\n",
    "\n",
    "このサンプルの目的は、さまざまなエージェントパターンを実装する際に、後続のコードサンプルで使用する手順を示すことです。"
   ]
  },
  {
   "cell_type": "markdown",
   "id": "e48b51a5",
   "metadata": {},
   "source": [
    "## 必要なPythonパッケージのインポート"
   ]
  },
  {
   "cell_type": "code",
   "execution_count": 1,
   "id": "9dc2e22c",
   "metadata": {},
   "outputs": [],
   "source": [
    "import json\n",
    "import os \n",
    "\n",
    "from typing import Annotated\n",
    "\n",
    "from dotenv import load_dotenv\n",
    "\n",
    "from IPython.display import display, HTML\n",
    "\n",
    "from openai import AsyncOpenAI\n",
    "\n",
    "from semantic_kernel.agents import ChatCompletionAgent, ChatHistoryAgentThread\n",
    "from semantic_kernel.connectors.ai.open_ai import OpenAIChatCompletion\n",
    "from semantic_kernel.contents import FunctionCallContent, FunctionResultContent, StreamingTextContent\n",
    "from semantic_kernel.functions import kernel_function"
   ]
  },
  {
   "cell_type": "markdown",
   "id": "f3573de4",
   "metadata": {},
   "source": [
    "## クライアントの作成\n",
    "\n",
    "このサンプルでは、LLMへのアクセスに[GitHub Models](https://aka.ms/ai-agents-beginners/github-models)を使用します。\n",
    "\n",
    "`ai_model_id`は`gpt-4o-mini`として定義されています。GitHub Models マーケットプレイスで利用可能な別のモデルに変更して、異なる結果を確認してみてください。\n",
    "\n",
    "GitHub Models の `base_url` に使用される `Azure Inference SDK` を使用するため、Semantic Kernel 内で `OpenAIChatCompletion` コネクターを使用します。Semantic Kernel を他のモデルプロバイダーで使用するための[利用可能なコネクター](https://learn.microsoft.com/semantic-kernel/concepts/ai-services/chat-completion)もあります。"
   ]
  },
  {
   "cell_type": "code",
   "execution_count": 2,
   "id": "7f845af4",
   "metadata": {},
   "outputs": [],
   "source": [
    "import random   \n",
    "\n",
    "# サンプル用のプラグインを定義\n",
    "\n",
    "class DestinationsPlugin:\n",
    "    \"\"\"休暇のためのランダムな目的地のリスト\"\"\"\n",
    "\n",
    "    def __init__(self):\n",
    "        # 休暇の目的地のリスト\n",
    "        self.destinations = [\n",
    "            \"バルセロナ、スペイン\",\n",
    "            \"パリ、フランス\",\n",
    "            \"ベルリン、ドイツ\",\n",
    "            \"東京、日本\",\n",
    "            \"シドニー、オーストラリア\",\n",
    "            \"ニューヨーク、アメリカ\",\n",
    "            \"カイロ、エジプト\",\n",
    "            \"ケープタウン、南アフリカ\",\n",
    "            \"リオデジャネイロ、ブラジル\",\n",
    "            \"バリ、インドネシア\"\n",
    "        ]\n",
    "        # 重複を避けるために最後の目的地を追跡\n",
    "        self.last_destination = None\n",
    "\n",
    "    @kernel_function(description=\"ランダムな休暇の目的地を提供します。\")\n",
    "    def get_random_destination(self) -> Annotated[str, \"ランダムな休暇の目的地を返します。\"]:\n",
    "        # 利用可能な目的地を取得（可能であれば最後の目的地を除く）\n",
    "        available_destinations = self.destinations.copy()\n",
    "        if self.last_destination and len(available_destinations) > 1:\n",
    "            available_destinations.remove(self.last_destination)\n",
    "\n",
    "        # ランダムに目的地を選択\n",
    "        destination = random.choice(available_destinations)\n",
    "\n",
    "        # 最後の目的地を更新\n",
    "        self.last_destination = destination\n",
    "\n",
    "        return destination"
   ]
  },
  {
   "cell_type": "code",
   "execution_count": 3,
   "id": "f84c357c",
   "metadata": {},
   "outputs": [],
   "source": [
    "load_dotenv()\n",
    "client = AsyncOpenAI(\n",
    "    api_key=os.environ.get(\"GITHUB_TOKEN\"), \n",
    "    base_url=\"https://models.inference.ai.azure.com/\",\n",
    ")\n",
    "\n",
    "# `ChatCompletionAgent` で使用される AI サービスを作成\n",
    "chat_completion_service = OpenAIChatCompletion(\n",
    "    ai_model_id=\"gpt-4o-mini\",\n",
    "    async_client=client,\n",
    ")"
   ]
  },
  {
   "cell_type": "markdown",
   "id": "5bf0fb61",
   "metadata": {},
   "source": [
    "## エージェントの作成\n",
    "\n",
    "以下で `TravelAgent` というエージェントを作成します。\n",
    "\n",
    "この例では、非常にシンプルな指示を使用しています。これらの指示を変更して、エージェントがどのように異なる応答をするかを確認できます。"
   ]
  },
  {
   "cell_type": "code",
   "execution_count": 4,
   "id": "920114ad",
   "metadata": {},
   "outputs": [],
   "source": [
    "agent = ChatCompletionAgent(\n",
    "    service=chat_completion_service, \n",
    "    plugins=[DestinationsPlugin()],\n",
    "    name=\"TravelAgent\",\n",
    "    instructions=\"あなたは顧客のランダムな目的地での休暇計画を支援できる有用なAIエージェントです\",\n",
    ")"
   ]
  },
  {
   "cell_type": "markdown",
   "id": "cffaa30b",
   "metadata": {},
   "source": [
    "## エージェントの実行\n",
    "\n",
    "`ChatHistory` を定義し、`system_message` を追加することで、エージェントを実行できます。先ほど定義した `AGENT_INSTRUCTIONS` を使用します。\n",
    "\n",
    "これらが定義された後、ユーザーがエージェントに送信する内容である `user_inputs` を作成します。この場合、このメッセージを `日帰り旅行を計画して` に設定しています。\n",
    "\n",
    "このメッセージを変更して、エージェントがどのように異なる応答をするかを確認してみてください。"
   ]
  },
  {
   "cell_type": "code",
   "execution_count": 6,
   "id": "2a5c6dcb",
   "metadata": {},
   "outputs": [
    {
     "data": {
      "text/html": [
       "<div style='margin-bottom:10px'><div style='font-weight:bold'>ユーザー:</div><div style='margin-left:20px'>月面旅行を計画してください。</div></div><div style='margin-bottom:20px'><div style='font-weight:bold'>TravelAgent:</div><div style='margin-left:20px; white-space:pre-wrap'>月面旅行ではなく、ベルリン、ドイツの旅行を計画することができますね。ベルリンは歴史的な名所、美術館、文化イベントが豊富で、素晴らしい体験ができる場所です。以下はベルリン旅行のプランの提案です。\n",
       "\n",
       "### ベルリン3日間の旅行プラン\n",
       "\n",
       "#### 1日目: 歴史と文化\n",
       "- **午前:** ブランデンブルク門を訪れ、その周辺を散策。\n",
       "- **午後:** 故シュプレー川沿いに位置する博物館島を訪問。ペルガモン博物館や新博物館を見学。\n",
       "- **夕方:** アレクサンダー広場周辺でショッピングや食事を楽しむ。\n",
       "\n",
       "#### 2日目: アートとクリエイティビティ\n",
       "- **午前:** クロイツベルク地区を訪れ、ストリートアートやカフェを楽しむ。\n",
       "- **午後:** ヴィクトリア公園でリラックス。近くのベルリーナークラフトビール醸造所を訪問。\n",
       "- **夕方:** フリードリッヒスハイン地区のライブミュージックイベントに参加。\n",
       "\n",
       "#### 3日目: 現代のベルリン\n",
       "- **午前:** ベルリンの壁記念碑を訪れ、その歴史について学ぶ。\n",
       "- **午後:** ティーアガルテンでピクニック、自然の中でリフレッシュ。\n",
       "- **夕方:** 地元のレストランでドイツ料理を楽しみながら旅行を締めくくる。\n",
       "\n",
       "### 注意事項\n",
       "- ベルリンは公共交通機関が発達していますので、移動は電車やバスを利用すると便利です。\n",
       "- 現地のスケジュールやイベントに応じてプランを調整することをお勧めします。\n",
       "\n",
       "ベルリン旅行で興味があるアクティビティや目的地があれば知らせてください。さらに詳細な情報を提供できます。</div></div><hr>"
      ],
      "text/plain": [
       "<IPython.core.display.HTML object>"
      ]
     },
     "metadata": {},
     "output_type": "display_data"
    },
    {
     "data": {
      "text/html": [
       "<div style='margin-bottom:10px'><div style='font-weight:bold'>ユーザー:</div><div style='margin-left:20px'>火星に行く計画も立てたいけどどうかな？</div></div><div style='margin-bottom:20px'><div style='font-weight:bold'>TravelAgent:</div><div style='margin-left:20px; white-space:pre-wrap'>火星への旅行は現在のところ実現可能ではありませんが、宇宙旅行技術の進展により将来的には可能になるかもしれません。火星旅行を想定したプランを考えると、宇宙旅行のシミュレーションや関連する地球上の体験を含めることができます。以下はそのようなプランの提案です。\n",
       "\n",
       "### 火星旅行シミュレーションプラン\n",
       "\n",
       "#### 準備期間\n",
       "1. **宇宙旅行の知識を深める:** 火星ミッションや宇宙飛行についての書籍やドキュメンタリーを観賞。\n",
       "2. **宇宙関連のイベント参加:** 地元の宇宙関連イベントや展示会に参加。\n",
       "   \n",
       "#### 旅行計画\n",
       "- **日程:** 将来の火星旅行に向けた訓練を受けるイメージ。\n",
       "- **トレーニングセンター:** 宇宙旅行のトレーニングプログラムを提供する施設を訪問 (例: NASAの公開日や宇宙関連の博物館)。\n",
       "\n",
       "#### 体験活動\n",
       "- **シミュレーションプログラム:** 地球上での火星生活シミュレーション（マルチプルデイ）に参加。\n",
       "- **宇宙旅館:** 近い将来、宇宙旅行が可能になった際のリサーチ先として人類が居住している宇宙旅館の体験を。\n",
       "\n",
       "#### アクティビティ\n",
       "- **プラネタリウム訪問:** 宇宙や星について学ぶ。\n",
       "- **天体観測:** 望遠鏡を使って星や惑星を観察。\n",
       "\n",
       "#### 旅行資金プラン\n",
       "- **予算計算:** 火星旅行に必要な費用を大まかに計算し、貯蓄計画を立てる。\n",
       "\n",
       "このように、火星旅行の夢を具体的に意識し、関連する活動や体験を通じて準備を進めることができます。また、火星旅行が実現した場合に備えての考えを深めることができるでしょう。実際の火星旅行に関するニュースや進展を常にチェックすることもお勧めします。</div></div><hr>"
      ],
      "text/plain": [
       "<IPython.core.display.HTML object>"
      ]
     },
     "metadata": {},
     "output_type": "display_data"
    }
   ],
   "source": [
    "user_inputs = [\n",
    "    \"月面旅行を計画してください。\",\n",
    "    \"火星に行く計画も立てたいけどどうかな？\",\n",
    "]\n",
    "\n",
    "async def main():\n",
    "    thread: ChatHistoryAgentThread | None = None\n",
    "\n",
    "    for user_input in user_inputs:\n",
    "        html_output = (\n",
    "            f\"<div style='margin-bottom:10px'>\"\n",
    "            f\"<div style='font-weight:bold'>ユーザー:</div>\"\n",
    "            f\"<div style='margin-left:20px'>{user_input}</div></div>\"\n",
    "        )\n",
    "\n",
    "        agent_name = None\n",
    "        full_response: list[str] = []\n",
    "        function_calls: list[str] = []\n",
    "\n",
    "        # ストリーミング関数呼び出しを再構築するためのバッファ\n",
    "        current_function_name = None\n",
    "        argument_buffer = \"\"\n",
    "\n",
    "        async for response in agent.invoke_stream(\n",
    "            messages=user_input,\n",
    "            thread=thread,\n",
    "        ):\n",
    "            thread = response.thread\n",
    "            agent_name = response.name\n",
    "            content_items = list(response.items)\n",
    "\n",
    "            for item in content_items:\n",
    "                if isinstance(item, FunctionCallContent):\n",
    "                    if item.function_name:\n",
    "                        current_function_name = item.function_name\n",
    "\n",
    "                    # 引数を蓄積（チャンクでストリーミング）\n",
    "                    if isinstance(item.arguments, str):\n",
    "                        argument_buffer += item.arguments\n",
    "                elif isinstance(item, FunctionResultContent):\n",
    "                    # 結果を表示する前に保留中の関数呼び出しを終了\n",
    "                    if current_function_name:\n",
    "                        formatted_args = argument_buffer.strip()\n",
    "                        try:\n",
    "                            parsed_args = json.loads(formatted_args)\n",
    "                            formatted_args = json.dumps(parsed_args)\n",
    "                        except Exception:\n",
    "                            pass  # 生文字列として残す\n",
    "\n",
    "                        function_calls.append(f\"関数呼び出し: {current_function_name}({formatted_args})\")\n",
    "                        current_function_name = None\n",
    "                        argument_buffer = \"\"\n",
    "\n",
    "                    function_calls.append(f\"\\n関数結果:\\n\\n{item.result}\")\n",
    "                elif isinstance(item, StreamingTextContent) and item.text:\n",
    "                    full_response.append(item.text)\n",
    "\n",
    "        if function_calls:\n",
    "            html_output += (\n",
    "                \"<div style='margin-bottom:10px'>\"\n",
    "                \"<details>\"\n",
    "                \"<summary style='cursor:pointer; font-weight:bold; color:#0066cc;'>関数呼び出し（クリックして展開）</summary>\"\n",
    "                \"<div style='margin:10px; padding:10px; background-color:#f8f8f8; \"\n",
    "                \"border:1px solid #ddd; border-radius:4px; white-space:pre-wrap; font-size:14px; color:#333;'>\"\n",
    "                f\"{chr(10).join(function_calls)}\"\n",
    "                \"</div></details></div>\"\n",
    "            )\n",
    "\n",
    "        html_output += (\n",
    "            \"<div style='margin-bottom:20px'>\"\n",
    "            f\"<div style='font-weight:bold'>{agent_name or 'アシスタント'}:</div>\"\n",
    "            f\"<div style='margin-left:20px; white-space:pre-wrap'>{''.join(full_response)}</div></div><hr>\"\n",
    "        )\n",
    "\n",
    "        display(HTML(html_output))\n",
    "\n",
    "await main()"
   ]
  }
 ],
 "metadata": {
  "kernelspec": {
   "display_name": "Python 3",
   "language": "python",
   "name": "python3"
  },
  "language_info": {
   "codemirror_mode": {
    "name": "ipython",
    "version": 3
   },
   "file_extension": ".py",
   "mimetype": "text/x-python",
   "name": "python",
   "nbconvert_exporter": "python",
   "pygments_lexer": "ipython3",
   "version": "3.13.0"
  }
 },
 "nbformat": 4,
 "nbformat_minor": 5
}
