{
 "cells": [
  {
   "cell_type": "markdown",
   "id": "abfe8d47",
   "metadata": {},
   "source": [
    "# AutoGen 基本サンプル\n",
    "\n",
    "このコードサンプルでは、[AutoGen](https://aka.ms/ai-agents/autogen) AI フレームワークを使用して基本的なエージェントを作成します。\n",
    "\n",
    "このサンプルの目的は、さまざまなエージェントパターンを実装する際に、後続のコードサンプルで使用する手順を示すことです。"
   ]
  },
  {
   "cell_type": "markdown",
   "id": "5eb026f3",
   "metadata": {},
   "source": [
    "## 必要なPythonパッケージのインポート"
   ]
  },
  {
   "cell_type": "code",
   "execution_count": 1,
   "id": "9c012838",
   "metadata": {},
   "outputs": [],
   "source": [
    "import os\n",
    "from dotenv import load_dotenv\n",
    "\n",
    "from autogen_agentchat.agents import AssistantAgent\n",
    "from autogen_core.models import UserMessage\n",
    "from autogen_ext.models.azure import AzureAIChatCompletionClient\n",
    "from azure.core.credentials import AzureKeyCredential\n",
    "from autogen_core import CancellationToken\n",
    "\n",
    "from autogen_agentchat.messages import TextMessage\n",
    "from autogen_agentchat.ui import Console\n"
   ]
  },
  {
   "cell_type": "markdown",
   "id": "1a67dcc5",
   "metadata": {},
   "source": [
    "## クライアントの作成\n",
    "\n",
    "このサンプルでは、LLMへのアクセスに[GitHub Models](https://aka.ms/ai-agents-beginners/github-models)を使用します。\n",
    "\n",
    "`model`は`gpt-4o-mini`として定義されています。GitHub Models マーケットプレイスで利用可能な別のモデルに変更して、異なる結果を確認してみてください。\n",
    "\n",
    "簡単なテストとして、シンプルなプロンプト「フランスの首都は何ですか？」を実行してみます。"
   ]
  },
  {
   "cell_type": "code",
   "execution_count": 6,
   "id": "0fc4c31a",
   "metadata": {},
   "outputs": [
    {
     "name": "stderr",
     "output_type": "stream",
     "text": [
      "c:\\Users\\Mamoru Kuroda\\AppData\\Local\\Programs\\Python\\Python313\\Lib\\site-packages\\autogen_ext\\models\\azure\\_azure_ai_client.py:305: UserWarning: Missing required field 'structured_output' in ModelInfo. This field will be required in a future version of AutoGen.\n",
      "  validate_model_info(config[\"model_info\"])\n"
     ]
    },
    {
     "name": "stdout",
     "output_type": "stream",
     "text": [
      "finish_reason='stop' content='フランスの首都はパリ（Paris）です。' usage=RequestUsage(prompt_tokens=18, completion_tokens=15) cached=False logprobs=None thought=None\n"
     ]
    }
   ],
   "source": [
    "load_dotenv()\n",
    "client = AzureAIChatCompletionClient(\n",
    "    model=\"gpt-4.1\",\n",
    "    endpoint=\"https://models.inference.ai.azure.com\",\n",
    "    # モデルで認証するには、GitHubの設定でパーソナルアクセストークン（PAT）を生成する必要があります。\n",
    "    # PATトークンの作成方法については、以下の手順に従ってください: https://docs.github.com/en/authentication/keeping-your-account-and-data-secure/managing-your-personal-access-tokens\n",
    "    credential=AzureKeyCredential(os.getenv(\"GITHUB_TOKEN\")),\n",
    "    model_info={\n",
    "        \"json_output\": True,\n",
    "        \"function_calling\": True,\n",
    "        \"vision\": True,\n",
    "        \"family\": \"unknown\",\n",
    "    },\n",
    ")\n",
    "\n",
    "result = await client.create([UserMessage(content=\"フランスの首都は何ですか？\", source=\"user\")])\n",
    "print(result)"
   ]
  },
  {
   "cell_type": "markdown",
   "id": "c02c9aae",
   "metadata": {},
   "source": [
    "## エージェントの定義\n",
    "\n",
    "`client`を設定し、正常に動作することを確認したので、`AssistantAgent`を作成しましょう。各エージェントには以下を割り当てることができます：\n",
    "\n",
    "**name** - マルチエージェントフローで参照する際に有用な短縮名。\n",
    "\n",
    "**model_client** - 前のステップで作成したクライアント。\n",
    "\n",
    "**tools** - エージェントがタスクを完了するために使用できる利用可能なツール。\n",
    "\n",
    "**system_message** - LLMのタスク、動作、およびトーンを定義するメタプロンプト。\n",
    "\n",
    "システムメッセージを変更して、LLMがどのように応答するかを確認できます。`tools`については、レッスン#4で説明します。\n"
   ]
  },
  {
   "cell_type": "code",
   "execution_count": 7,
   "id": "35247e4e",
   "metadata": {},
   "outputs": [
    {
     "name": "stderr",
     "output_type": "stream",
     "text": [
      "Unclosed client session\n",
      "client_session: <aiohttp.client.ClientSession object at 0x000002D5C78CE7B0>\n"
     ]
    }
   ],
   "source": [
    "agent = AssistantAgent(\n",
    "    name=\"assistant\",\n",
    "    model_client=client,\n",
    "    tools=[],\n",
    "    system_message=\"あなたは尊敬する会社の上司です。あなたの仕事は、ユーザーに仕事のアドバイスを与えることです。\",\n",
    ")"
   ]
  },
  {
   "cell_type": "markdown",
   "id": "e47f0167",
   "metadata": {},
   "source": [
    "## エージェントの実行\n",
    "\n",
    "以下の関数がエージェントを実行します。`on_message`メソッドを使用して、エージェントの状態を新しいメッセージで更新します。\n",
    "\n",
    "この場合、「素晴らしい晴れた休暇を計画してください」というユーザーからの新しいメッセージで状態を更新します。\n",
    "\n",
    "メッセージ内容を変更して、LLMがどのように異なる応答をするかを確認できます。"
   ]
  },
  {
   "cell_type": "code",
   "execution_count": 8,
   "id": "3696bfbe",
   "metadata": {},
   "outputs": [
    {
     "data": {
      "text/html": [
       "<div style='margin-bottom:10px'><div style='font-weight:bold'>ユーザー:</div><div style='margin-left:20px'>新しい組織やチーム、同僚と仕事をすることになった。英語が初めてでどうすればいいかわからなくて不安。</div></div><div style='margin-bottom:20px'><div style='font-weight:bold'>アシスタント:</div><div style='margin-left:20px; white-space:pre-wrap'>新しい環境や英語での仕事、お疲れ様です。不安になるのは当たり前のことで、誰もが最初は同じ気持ちを経験しています。ここから良いスタートを切るためのアドバイスをいくつかお伝えします。\n",
       "\n",
       "**1. 完璧を目指さなくていい**  \n",
       "英語の文法や発音を完璧にすることよりも、「伝えたい気持ち」と「理解しようという姿勢」が何より大事です。間違っても大丈夫。「I’m still learning English, so please let me know if I make any mistakes.」と一言添えるだけで、周りも優しくなれますよ。\n",
       "\n",
       "**2. 簡単なフレーズを用意しておく**  \n",
       "よく使いそうなフレーズ（挨拶・自己紹介・お願い・お礼など）はあらかじめ暗記しておくと自信に繋がります。  \n",
       "例：  \n",
       "- Nice to meet you.  \n",
       "- Could you please say that again?  \n",
       "- Thank you for your help.\n",
       "\n",
       "**3. わからない時は遠慮なく聞く**  \n",
       "「分かったふり」は一番危険です。聞き返すことは恥ずかしくありません。  \n",
       "- Sorry, I didn’t catch that.  \n",
       "- Could you speak more slowly, please?  \n",
       "これでコミュニケーションが円滑になります。\n",
       "\n",
       "**4. 事前準備を心がける**  \n",
       "会議や打ち合わせの前に、話し合いそうなトピックや単語を調べてメモしておくと慌てません。  \n",
       "例えば、分からなそうな技術的な単語や役職名などもあらかじめ調べておきましょう。\n",
       "\n",
       "**5. ボディランゲージや表情も味方に**  \n",
       "コミュニケーションは言葉だけではありません。にこやかに相手を見る、うなずく、身振り手振りなども相手には好印象を与えます。\n",
       "\n",
       "**6. 成長を楽しむ**  \n",
       "一度きりの「初めて」は特別な経験です。小さな成功体験を積み重ねて、自分が成長していることに自信を持ちましょう。\n",
       "\n",
       "---\n",
       "\n",
       "あなたがチャレンジしていること自体が、とても素晴らしいことです。困ったときはいつでも相談してください。一緒に乗り越えていきましょう！</div></div>"
      ],
      "text/plain": [
       "<IPython.core.display.HTML object>"
      ]
     },
     "metadata": {},
     "output_type": "display_data"
    }
   ],
   "source": [
    "from IPython.display import display, HTML\n",
    "\n",
    "\n",
    "async def assistant_run():\n",
    "    # クエリを定義\n",
    "    user_query = \"新しい組織やチーム、同僚と仕事をすることになった。英語が初めてでどうすればいいかわからなくて不安。\"\n",
    "\n",
    "    # HTML出力の構築を開始\n",
    "    html_output = \"<div style='margin-bottom:10px'>\"\n",
    "    html_output += \"<div style='font-weight:bold'>ユーザー:</div>\"\n",
    "    html_output += f\"<div style='margin-left:20px'>{user_query}</div>\"\n",
    "    html_output += \"</div>\"\n",
    "\n",
    "    # エージェント応答の実行\n",
    "    response = await agent.on_messages(\n",
    "        [TextMessage(content=user_query, source=\"user\")],\n",
    "        cancellation_token=CancellationToken(),\n",
    "    )\n",
    "\n",
    "    # エージェントの応答をHTMLに追加\n",
    "    html_output += \"<div style='margin-bottom:20px'>\"\n",
    "    html_output += \"<div style='font-weight:bold'>アシスタント:</div>\"\n",
    "    html_output += f\"<div style='margin-left:20px; white-space:pre-wrap'>{response.chat_message.content}</div>\"\n",
    "    html_output += \"</div>\"\n",
    "\n",
    "    # フォーマットされたHTMLを表示\n",
    "    display(HTML(html_output))\n",
    "\n",
    "# 関数を実行\n",
    "await assistant_run()"
   ]
  }
 ],
 "metadata": {
  "kernelspec": {
   "display_name": "Python 3",
   "language": "python",
   "name": "python3"
  },
  "language_info": {
   "codemirror_mode": {
    "name": "ipython",
    "version": 3
   },
   "file_extension": ".py",
   "mimetype": "text/x-python",
   "name": "python",
   "nbconvert_exporter": "python",
   "pygments_lexer": "ipython3",
   "version": "3.13.0"
  }
 },
 "nbformat": 4,
 "nbformat_minor": 5
}
