{
 "cells": [
  {
   "cell_type": "markdown",
   "id": "e48d4e9e",
   "metadata": {},
   "source": [
    "# AutoGen入門\n",
    "\n",
    "このコードサンプルでは、[AutoGen](https://aka.ms/ai-agents-beginners/autogen) マルチエージェント会話フレームワークを使用して基本的なエージェントを作成します。\n",
    "\n",
    "## 📚 このノートブックで学習できること\n",
    "\n",
    "### 🎯 主要な学習目標\n",
    "- **AutoGen**フレームワークの基本概念\n",
    "- **マルチエージェント会話**システムの構築\n",
    "- **Azure AI Chat Completion Client**との連携\n",
    "- **GitHub Models**を使用したLLMアクセス\n",
    "\n",
    "### 🛠️ 実装する技術スタック\n",
    "- **AutoGen**: Microsoft製マルチエージェント会話フレームワーク\n",
    "- **Azure AI Chat Completion Client**: 統一エンドポイントアクセス\n",
    "- **GitHub Models**: gpt-4o-miniモデルへのアクセス\n",
    "- **非同期処理**: ストリーミング応答の実装\n",
    "\n",
    "### 💡 実用的なスキル\n",
    "- エージェント間の会話設計\n",
    "- Azure AI Services統合\n",
    "- マルチエージェントワークフローの実装"
   ]
  },
  {
   "cell_type": "markdown",
   "id": "2cb39b08",
   "metadata": {},
   "source": [
    "## 必要なパッケージのインストール\n",
    "\n",
    "以下のコードセルは、このサンプルに必要なパッケージをインストールします。パッケージが既にインストールされている場合は、このセルをスキップできます。"
   ]
  },
  {
   "cell_type": "code",
   "execution_count": 1,
   "id": "a1c1e54d",
   "metadata": {},
   "outputs": [
    {
     "name": "stdout",
     "output_type": "stream",
     "text": [
      "Note: you may need to restart the kernel to use updated packages.\n"
     ]
    },
    {
     "name": "stderr",
     "output_type": "stream",
     "text": [
      "\n",
      "[notice] A new release of pip is available: 24.2 -> 25.2\n",
      "[notice] To update, run: python.exe -m pip install --upgrade pip\n"
     ]
    }
   ],
   "source": [
    "%pip install autogen-agentchat autogen-core autogen-ext[azure] azure-ai-inference python-dotenv --quiet --upgrade"
   ]
  },
  {
   "cell_type": "markdown",
   "id": "7b7224b5",
   "metadata": {},
   "source": [
    "## 必要なPythonパッケージのインポート"
   ]
  },
  {
   "cell_type": "code",
   "execution_count": 3,
   "id": "b1a07a40",
   "metadata": {},
   "outputs": [],
   "source": [
    "import asyncio\n",
    "import os\n",
    "from typing import Any, Dict\n",
    "\n",
    "from azure.core.credentials import AzureKeyCredential\n",
    "from autogen_core.models import UserMessage\n",
    "from autogen_core import CancellationToken\n",
    "\n",
    "from autogen_agentchat.agents import AssistantAgent\n",
    "from autogen_agentchat.ui import Console\n",
    "from autogen_agentchat.teams import RoundRobinGroupChat\n",
    "from autogen_agentchat.messages import TextMessage\n",
    "from autogen_ext.models.azure import AzureAIChatCompletionClient\n",
    "\n",
    "from dotenv import load_dotenv"
   ]
  },
  {
   "cell_type": "markdown",
   "id": "3d19f864",
   "metadata": {},
   "source": [
    "## クライアントの作成\n",
    "\n",
    "このサンプルでは、LLMへのアクセスに[GitHub Models](https://aka.ms/ai-agents-beginners/github-models)を使用します。\n",
    "\n",
    "GitHub ModelsのベースURLに使用される`Azure AI Chat Completion Client`を使用するために、AutoGen内の`AzureAIInferenceChatCompletionClient`コネクタを使用します。他のモデルプロバイダーでAutoGenを使用するための[他の利用可能なコネクタ](https://microsoft.github.io/autogen/dev/user-guide/agentchat-user-guide/tutorial/models.html)もあります。"
   ]
  },
  {
   "cell_type": "code",
   "execution_count": 4,
   "id": "c9eef1ca",
   "metadata": {},
   "outputs": [
    {
     "name": "stderr",
     "output_type": "stream",
     "text": [
      "c:\\VSCode - Work\\ai-agents-for-beginners\\ai-agents-for-beginners\\myenv\\Lib\\site-packages\\autogen_ext\\models\\azure\\_azure_ai_client.py:307: UserWarning: Missing required field 'structured_output' in ModelInfo. This field will be required in a future version of AutoGen.\n",
      "  validate_model_info(config[\"model_info\"])\n"
     ]
    },
    {
     "name": "stdout",
     "output_type": "stream",
     "text": [
      "finish_reason='stop' content='フランスの首都はパリです。' usage=RequestUsage(prompt_tokens=18, completion_tokens=12) cached=False logprobs=None thought=None\n"
     ]
    }
   ],
   "source": [
    "# 環境変数を読み込み\n",
    "load_dotenv()\n",
    "\n",
    "# AutoGenモデルクライアントを作成（GitHub Models使用）\n",
    "model_client = AzureAIChatCompletionClient(\n",
    "    model=\"gpt-4o-mini\",\n",
    "    endpoint=\"https://models.inference.ai.azure.com\",\n",
    "    # GitHub設定で個人アクセストークン（PAT）を生成する必要があります\n",
    "    # PATトークンの作成手順: https://docs.github.com/en/authentication/keeping-your-account-and-data-secure/managing-your-personal-access-tokens\n",
    "    credential=AzureKeyCredential(os.getenv(\"GITHUB_TOKEN\")),\n",
    "    model_info={\n",
    "        \"json_output\": True,\n",
    "        \"function_calling\": True,\n",
    "        \"vision\": True,\n",
    "        \"family\": \"unknown\",\n",
    "    },\n",
    ")\n",
    "\n",
    "# 簡単なテスト実行\n",
    "result = await model_client.create([UserMessage(content=\"フランスの首都は何ですか？\", source=\"user\")])\n",
    "print(result)"
   ]
  },
  {
   "cell_type": "markdown",
   "id": "80529513",
   "metadata": {},
   "source": [
    "## エージェントの定義\n",
    "\n",
    "`client`を設定し、動作することを確認したので、`AssistantAgent`を作成しましょう。各エージェントには以下を割り当てることができます：\n",
    "\n",
    "**name** - マルチエージェントフローで参照する際に便利な短縮名\n",
    "**model_client** - 前のステップで作成したクライアント\n",
    "**tools** - エージェントがタスクを完了するために使用できる利用可能なツール\n",
    "**system_message** - LLMのタスク、動作、トーンを定義するメタプロンプト\n",
    "\n",
    "system_messageを変更して、LLMがどのように応答するかを確認できます。`tools`については第4課で説明します。"
   ]
  },
  {
   "cell_type": "code",
   "execution_count": 5,
   "id": "b10c6f1d",
   "metadata": {},
   "outputs": [],
   "source": [
    "agent = AssistantAgent(\n",
    "    name=\"assistant\",\n",
    "    model_client=model_client,\n",
    "    tools=[],\n",
    "    system_message=\"あなたは素晴らしいバケーションを計画する旅行代理店です\",\n",
    ")"
   ]
  },
  {
   "cell_type": "markdown",
   "id": "abaab3af",
   "metadata": {},
   "source": [
    "## エージェントの実行\n",
    "\n",
    "以下の関数はエージェントを実行します。`on_messages`メソッドを使用して、新しいメッセージでエージェントの状態を更新します。\n",
    "\n",
    "この場合、ユーザーからの新しいメッセージ`\"素晴らしい晴れたバケーションを計画してください\"`で状態を更新します。\n",
    "\n",
    "LLMがどのように異なって応答するかを確認するために、メッセージの内容を変更できます。"
   ]
  },
  {
   "cell_type": "code",
   "execution_count": 6,
   "id": "d5a01b79",
   "metadata": {},
   "outputs": [
    {
     "data": {
      "text/html": [
       "<div style='margin-bottom:10px'><div style='font-weight:bold'>ユーザー:</div><div style='margin-left:20px'>素晴らしい晴れたバケーションを計画してください</div></div><div style='margin-bottom:20px'><div style='font-weight:bold'>アシスタント:</div><div style='margin-left:20px; white-space:pre-wrap'>もちろんです！素晴らしい晴れたバケーションの計画を立てましょう。以下のプランをご提案します。\n",
       "\n",
       "### バケーションデスティネーション：ハワイ・オアフ島\n",
       "\n",
       "#### 旅行日程：7日間\n",
       "\n",
       "---\n",
       "\n",
       "### 1日目：到着\n",
       "- **フライト**: 日本からホノルル国際空港へ直行便\n",
       "- **宿泊**: ワイキキビーチ近くのホテル\n",
       "- **夕食**: ビーチ沿いのリゾートレストランでロマンチックなディナー\n",
       "\n",
       "---\n",
       "\n",
       "### 2日目：ビーチデー\n",
       "- **朝**: ホテルで朝食\n",
       "- **午前**: ワイキキビーチでビーチバレーやサーフィン体験\n",
       "- **昼**: ビーチ近くのカフェでランチ\n",
       "- **午後**: 砂浜でリラックス、またはシュノーケリング\n",
       "- **夕食**: ローカルフードを楽しむためにフードトラックへ\n",
       "\n",
       "---\n",
       "\n",
       "### 3日目：アクティブアドベンチャー\n",
       "- **朝**: ハイキング「ダイヤモンドヘッド」へ挑戦\n",
       "- **昼**: ハイキング後、周辺のレストランでランチ\n",
       "- **午後**: カイルアビーチでカヤック体験\n",
       "- **夕方**: 日暮れの時間にビーチでサンセットを鑑賞\n",
       "- **夕食**: BBQナイト\n",
       "\n",
       "---\n",
       "\n",
       "### 4日目：文化体験\n",
       "- **朝**: ホテルで朝食\n",
       "- **午前**: パールハーバー訪問と歴史ツアー\n",
       "- **昼**: 日本食レストランでランチ\n",
       "- **午後**: ポリネシア文化センターで伝統的な文化体験\n",
       "- **夕食**: ルアウ（ハワイの伝統的な宴会）でダンスショーを楽しむ\n",
       "\n",
       "---\n",
       "\n",
       "### 5日目：島を探索\n",
       "- **朝**: レンタカーでオアフ島を一周\n",
       "- **午前**: ノースショアのハレイワタウンを観光\n",
       "- **昼**: ノースショアの有名なガーリックシュリンプを楽しむ\n",
       "- **午後**: ワイメア湾でビーチ遊び\n",
       "- **夕食**: ビーチサイドのレストランでシーフードディナー\n",
       "\n",
       "---\n",
       "\n",
       "### 6日目：リラックスデー\n",
       "- **朝**: スパでリラクゼーション\n",
       "- **昼**: ホテルでゆったりとランチ\n",
       "- **午後**: プールサイドでリラックスまたはショッピング\n",
       "- **夕方**: 最後のサンセットをビーチで楽しむ\n",
       "- **夕食**: お気に入りのレストランで最後のディナー\n",
       "\n",
       "---\n",
       "\n",
       "### 7日目：帰国\n",
       "- **朝**: 朝食後、最後の景色を楽しむ\n",
       "- **午前**: お土産の購入\n",
       "- **昼**: ホノルル国際空港へ向けてチェックアウト\n",
       "- **フライト**: 日本への帰路につく\n",
       "\n",
       "---\n",
       "\n",
       "### 追加オプション：\n",
       "- ウェイクボードやバナナボートなどのウォータースポーツ\n",
       "- ハワイの伝統的な釣り体験\n",
       "- ハナウマベイでのシュノーケリングツアー\n",
       "\n",
       "このプランはハワイの魅力を存分に楽しむ内容となっています。天候は晴れが多いので、アウトドアアクティビティが非常に楽しめます！興味があれば、具体的なアレンジもご提案できますのでお気軽にお知らせください。</div></div>"
      ],
      "text/plain": [
       "<IPython.core.display.HTML object>"
      ]
     },
     "metadata": {},
     "output_type": "display_data"
    }
   ],
   "source": [
    "from IPython.display import display, HTML\n",
    "\n",
    "async def assistant_run():\n",
    "    # クエリを定義\n",
    "    user_query = \"素晴らしい晴れたバケーションを計画してください\"\n",
    "\n",
    "    # HTML出力の構築開始\n",
    "    html_output = \"<div style='margin-bottom:10px'>\"\n",
    "    html_output += \"<div style='font-weight:bold'>ユーザー:</div>\"\n",
    "    html_output += f\"<div style='margin-left:20px'>{user_query}</div>\"\n",
    "    html_output += \"</div>\"\n",
    "\n",
    "    # エージェントの応答を実行\n",
    "    response = await agent.on_messages(\n",
    "        [TextMessage(content=user_query, source=\"user\")],\n",
    "        cancellation_token=CancellationToken(),\n",
    "    )\n",
    "\n",
    "    # エージェントの応答をHTMLに追加\n",
    "    html_output += \"<div style='margin-bottom:20px'>\"\n",
    "    html_output += \"<div style='font-weight:bold'>アシスタント:</div>\"\n",
    "    html_output += f\"<div style='margin-left:20px; white-space:pre-wrap'>{response.chat_message.content}</div>\"\n",
    "    html_output += \"</div>\"\n",
    "\n",
    "    # フォーマットされたHTMLを表示\n",
    "    display(HTML(html_output))\n",
    "\n",
    "# 関数を実行\n",
    "await assistant_run()"
   ]
  },
  {
   "cell_type": "markdown",
   "id": "6d88c2c8",
   "metadata": {},
   "source": [
    "## 🎓 学習のまとめ\n",
    "\n",
    "### ✅ このサンプルで習得したスキル\n",
    "- **AutoGen**の基本的な使用方法\n",
    "- **AssistantAgent**の作成と設定\n",
    "- **GitHub Models**との連携\n",
    "- **基本的なエージェント実行**パターン\n",
    "\n",
    "### 🔄 AutoGenの主要概念\n",
    "1. **AssistantAgent**: 特定のタスクを実行するエージェント\n",
    "2. **model_client**: LLMサービスへの接続\n",
    "3. **system_message**: エージェントの動作を定義するプロンプト\n",
    "4. **on_messages**: エージェントとの対話メソッド\n",
    "\n",
    "### 🚀 次のステップ\n",
    "このサンプルの目標は、異なるAgenticパターンを実装する際に後の追加コードサンプルで使用する手順を示すことです。\n",
    "\n",
    "後続のレッスンでは以下を学習します：\n",
    "- より複雑なエージェントワークフロー\n",
    "- マルチエージェントシステム\n",
    "- ツールとプラグインの統合\n",
    "- 高度な会話パターン\n",
    "\n",
    "### 🔧 トラブルシューティング\n",
    "- **GITHUB_TOKEN**: `.env`ファイルで正しく設定されているか確認\n",
    "- **パッケージインストール**: 最新のAutoGenパッケージが必要\n",
    "- **モデルアクセス**: GitHub Modelsへの適切なアクセス権限の確認"
   ]
  }
 ],
 "metadata": {
  "kernelspec": {
   "display_name": "myenv",
   "language": "python",
   "name": "python3"
  },
  "language_info": {
   "codemirror_mode": {
    "name": "ipython",
    "version": 3
   },
   "file_extension": ".py",
   "mimetype": "text/x-python",
   "name": "python",
   "nbconvert_exporter": "python",
   "pygments_lexer": "ipython3",
   "version": "3.13.0"
  }
 },
 "nbformat": 4,
 "nbformat_minor": 5
}
