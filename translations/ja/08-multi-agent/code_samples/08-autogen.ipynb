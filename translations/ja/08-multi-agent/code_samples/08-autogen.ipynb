{
 "cells": [
  {
   "cell_type": "markdown",
   "id": "b40b03b7",
   "metadata": {},
   "source": [
    "## マルチエージェント: AutoGen サンプル (日本語版)\n",
    "<!--\n",
    "TRANSLATION_METADATA:\n",
    "{\n",
    "  \"source_file\": \"08-multi-agent/code_samples/08-autogen.ipynb\",\n",
    "  \"language\": \"ja\",\n",
    "  \"translated_at\": \"2025-08-28T00:00:00Z\",\n",
    "  \"translator\": \"human-reviewed\"\n",
    "}\n",
    "-->\n",
    "英語版 `08-autogen.ipynb` の翻訳です。動作ロジックは同一で、システムメッセージのみ日本語化し可読性を高めています。\n",
    "\n",
    "目的: AutoGen の RoundRobinGroupChat と単純なテキスト終端条件を使った最小グループチャット(プランナー→コンシェルジュ承認)の流れを示す。"
   ]
  },
  {
   "cell_type": "code",
   "execution_count": 1,
   "id": "b7474d83",
   "metadata": {},
   "outputs": [],
   "source": [
    "import os\n",
    "from autogen_agentchat.agents import AssistantAgent\n",
    "from autogen_core.models import UserMessage\n",
    "from autogen_ext.models.azure import AzureAIChatCompletionClient\n",
    "from azure.core.credentials import AzureKeyCredential\n",
    "from autogen_core import CancellationToken\n",
    "from autogen_agentchat.base import TaskResult\n",
    "from autogen_agentchat.messages import TextMessage\n",
    "from autogen_agentchat.ui import Console\n",
    "from autogen_agentchat.conditions import TextMentionTermination\n",
    "from autogen_agentchat.teams import RoundRobinGroupChat"
   ]
  },
  {
   "cell_type": "markdown",
   "id": "30e1ea2e",
   "metadata": {},
   "source": [
    "### モデルクライアント初期化"
   ]
  },
  {
   "cell_type": "code",
   "execution_count": 2,
   "id": "d3efa1ca",
   "metadata": {},
   "outputs": [
    {
     "name": "stderr",
     "output_type": "stream",
     "text": [
      "c:\\VSCode - Work\\ai-agents-for-beginners\\ai-agents-for-beginners\\myenv\\Lib\\site-packages\\autogen_ext\\models\\azure\\_azure_ai_client.py:307: UserWarning: Missing required field 'structured_output' in ModelInfo. This field will be required in a future version of AutoGen.\n",
      "  validate_model_info(config[\"model_info\"])\n"
     ]
    }
   ],
   "source": [
    "client = AzureAIChatCompletionClient(\n",
    "    model=\"gpt-4o-mini\",\n",
    "    endpoint=\"https://models.inference.ai.azure.com\",\n",
    "    # GitHub の PAT を環境変数 GITHUB_TOKEN として設定しておく必要があります。\n",
    "    credential=AzureKeyCredential(os.environ[\"GITHUB_TOKEN\"]),\n",
    "    model_info={\n",
    "        \"json_output\": True,\n",
    "        \"function_calling\": True,\n",
    "        \"vision\": True,\n",
    "        \"family\": \"unknown\",\n",
    "    },\n",
    ")"
   ]
  },
  {
   "cell_type": "markdown",
   "id": "c2b5ea62",
   "metadata": {},
   "source": [
    "### エージェント定義"
   ]
  },
  {
   "cell_type": "code",
   "execution_count": 3,
   "id": "eaa285e2",
   "metadata": {},
   "outputs": [],
   "source": [
    "frontdesk_agent = AssistantAgent(\n",
    "    \"planner_agent\",\n",
    "    model_client=client,\n",
    "    description=\"旅行計画を支援するアシスタント\",\n",
    "    system_message=\"\"\"\n",
    "    あなたは 10 年の経験を持つフロントデスクの旅行プランナーです。多くの顧客を捌くため簡潔さで知られています。\n",
    "    目的: 旅行者に最適なアクティビティと訪問場所を 1 件ずつ推奨すること。\n",
    "    1 回の応答では必ず 1 つの推奨のみを提示してください。\n",
    "    雑談は避け、与えられたゴールに集中します。\n",
    "    他エージェントからの改善提案は次の回答で考慮してください。\n",
    "    \"\"\",\n",
    ")\n",
    "concierge_agent = AssistantAgent(\n",
    "    \"concierge_agent\",\n",
    "    model_client=client,\n",
    "    description=\"ローカル体験を重視するコンシェルジュ\",\n",
    "    system_message=\"\"\"\n",
    "    あなたはホテルのコンシェルジュで、旅行者に最もローカルで本物の体験を提供することに強い意見を持っています。\n",
    "    フロントデスクの提案が観光地に偏らず最良なら 'APPROVE' とだけ応答してください。\n",
    "    改善余地がある場合は、具体例を挙げず抽象的に改善指針を述べてください。\n",
    "    \"\"\",\n",
    ")"
   ]
  },
  {
   "cell_type": "markdown",
   "id": "2c4392f1",
   "metadata": {},
   "source": [
    "### 実行 (APPROVE が出るまでラウンドロビン)"
   ]
  },
  {
   "cell_type": "code",
   "execution_count": 7,
   "id": "f780149f",
   "metadata": {},
   "outputs": [
    {
     "name": "stdout",
     "output_type": "stream",
     "text": [
      "[01] user         | パリ旅行の計画を立てたいです。おすすめを提案してください。\n",
      "[02] planner_agent | パリのピガール地区を訪れてみてください。ここは伝統的な雰囲気が残るエリアで、地元のバルやマーケットが楽しめます。また、モンマルトルの丘へも近いため、アート...\n",
      "[02] planner_agent | パリのピガール地区を訪れてみてください。ここは伝統的な雰囲気が残るエリアで、地元のバルやマーケットが楽しめます。また、モンマルトルの丘へも近いため、アート...\n",
      "[03] concierge_agent | 改善の余地があります。観光名所に捉われず、地元の人々が普段利用するスポットや独自の文化体験を強調してみてください。\n",
      "[03] concierge_agent | 改善の余地があります。観光名所に捉われず、地元の人々が普段利用するスポットや独自の文化体験を強調してみてください。\n",
      "[04] planner_agent | パリのバスティーユ市場をおすすめします。ここは地元の人々が新鮮な食材や特産品を購入する場所で、活気に満ちた雰囲気があります。市場ではフランスの食文化を体験...\n",
      "[04] planner_agent | パリのバスティーユ市場をおすすめします。ここは地元の人々が新鮮な食材や特産品を購入する場所で、活気に満ちた雰囲気があります。市場ではフランスの食文化を体験...\n",
      "[05] concierge_agent | APPROVE\n",
      "\n",
      "[END] Stop Reason: Text 'APPROVE' mentioned\n",
      "\n",
      "=== Conversation Transcript ===\n",
      "\n",
      "[Turn 01] Role: user\n",
      "パリ旅行の計画を立てたいです。おすすめを提案してください。\n",
      "\n",
      "[Turn 02] Role: planner_agent\n",
      "パリのピガール地区を訪れてみてください。ここは伝統的な雰囲気が残るエリアで、地元のバルやマーケットが楽しめます。また、モンマルトルの丘へも近いため、アートを感じながら地元の生活を体験できます。\n",
      "\n",
      "[Turn 03] Role: concierge_agent\n",
      "改善の余地があります。観光名所に捉われず、地元の人々が普段利用するスポットや独自の文化体験を強調してみてください。\n",
      "\n",
      "[Turn 04] Role: planner_agent\n",
      "パリのバスティーユ市場をおすすめします。ここは地元の人々が新鮮な食材や特産品を購入する場所で、活気に満ちた雰囲気があります。市場ではフランスの食文化を体験でき、地元の人々との交流を楽しむことができます。\n",
      "\n",
      "[Turn 05] Role: concierge_agent\n",
      "APPROVE\n",
      "[05] concierge_agent | APPROVE\n",
      "\n",
      "[END] Stop Reason: Text 'APPROVE' mentioned\n",
      "\n",
      "=== Conversation Transcript ===\n",
      "\n",
      "[Turn 01] Role: user\n",
      "パリ旅行の計画を立てたいです。おすすめを提案してください。\n",
      "\n",
      "[Turn 02] Role: planner_agent\n",
      "パリのピガール地区を訪れてみてください。ここは伝統的な雰囲気が残るエリアで、地元のバルやマーケットが楽しめます。また、モンマルトルの丘へも近いため、アートを感じながら地元の生活を体験できます。\n",
      "\n",
      "[Turn 03] Role: concierge_agent\n",
      "改善の余地があります。観光名所に捉われず、地元の人々が普段利用するスポットや独自の文化体験を強調してみてください。\n",
      "\n",
      "[Turn 04] Role: planner_agent\n",
      "パリのバスティーユ市場をおすすめします。ここは地元の人々が新鮮な食材や特産品を購入する場所で、活気に満ちた雰囲気があります。市場ではフランスの食文化を体験でき、地元の人々との交流を楽しむことができます。\n",
      "\n",
      "[Turn 05] Role: concierge_agent\n",
      "APPROVE\n"
     ]
    }
   ],
   "source": [
    "# === 実行部 =============================================================\n",
    "# TextMentionTermination: 指定した文字列('APPROVE')がメッセージ内に現れたら終了条件を満たす\n",
    "termination = TextMentionTermination(\"APPROVE\")\n",
    "\n",
    "# RoundRobinGroupChat: frontdesk -> concierge -> frontdesk ... の順で順番に発話させるチーム\n",
    "team = RoundRobinGroupChat(\n",
    "    [frontdesk_agent, concierge_agent],\n",
    "    termination_condition=termination,\n",
    ")\n",
    "\n",
    "# 可読性向上: 各メッセージを整形表示し最後に全文を表示する（トークン集計は省略）\n",
    "conversation_log = []\n",
    "\n",
    "def _summarize(message, turn):\n",
    "    role = getattr(message, \"source\", getattr(message, \"role\", \"unknown\"))\n",
    "    content = getattr(message, \"content\", str(message))\n",
    "    return {\"turn\": turn, \"role\": role, \"content\": content}\n",
    "\n",
    "def _truncate(txt, max_len=80):\n",
    "    return txt if len(txt) <= max_len else txt[:max_len - 3] + \"...\"\n",
    "\n",
    "turn = 0\n",
    "async for message in team.run_stream(task=\"パリ旅行の計画を立てたいです。おすすめを提案してください。\"):\n",
    "    if isinstance(message, TaskResult):\n",
    "        print(f\"\\n[END] Stop Reason: {message.stop_reason}\")\n",
    "    else:\n",
    "        turn += 1\n",
    "        info = _summarize(message, turn)\n",
    "        conversation_log.append(info)\n",
    "        print(f\"[{turn:02d}] {info['role']:<12} | { _truncate(info['content']) }\")\n",
    "\n",
    "# --- フルログ出力 -------------------------------------------------------\n",
    "if conversation_log:\n",
    "    print(\"\\n=== Conversation Transcript ===\")\n",
    "    for entry in conversation_log:\n",
    "        print(f\"\\n[Turn {entry['turn']:02d}] Role: {entry['role']}\\n{entry['content']}\")\n",
    "# ====================================================================="
   ]
  }
 ],
 "metadata": {
  "kernelspec": {
   "display_name": "myenv",
   "language": "python",
   "name": "python3"
  },
  "language_info": {
   "codemirror_mode": {
    "name": "ipython",
    "version": 3
   },
   "file_extension": ".py",
   "mimetype": "text/x-python",
   "name": "python",
   "nbconvert_exporter": "python",
   "pygments_lexer": "ipython3",
   "version": "3.13.0"
  }
 },
 "nbformat": 4,
 "nbformat_minor": 5
}
