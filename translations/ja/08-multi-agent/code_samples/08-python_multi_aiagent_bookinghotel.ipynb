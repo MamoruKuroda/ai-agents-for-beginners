{
 "cells": [
  {
   "cell_type": "markdown",
   "id": "dc7dd1eb",
   "metadata": {},
   "source": [
    "## マルチエージェント: 出張手配 (ホテル/フライト) サンプル 日本語版\n",
    "<!--\n",
    "TRANSLATION_METADATA:\n",
    "{\n",
    "  \"source_file\": \"08-multi-agent/code_samples/08-python_multi_aiagent_bookinghotel.ipynb\",\n",
    "  \"language\": \"ja\",\n",
    "  \"translated_at\": \"2025-08-28T00:00:00Z\",\n",
    "  \"translator\": \"human-reviewed\",\n",
    "  \"notes\": \"English explanatory markdown condensed for brevity.\"\n",
    "}\n",
    "-->\n",
    "英語版 `08-python_multi_aiagent_bookinghotel.ipynb` を教育目的で要約翻訳。詳細英語コメントは日本語で凝縮し冗長さを削減。\n",
    "\n",
    "目的: 予約エージェントと保存エージェントを SerpAPI / Azure AI Agent Service と連携させ、検索→Markdown整形→ファイル保存までの協調作業の例を示す。\n",
    "> SerpAPI は .env ファイル上で API キーやエンドポイントを指定していないため、モックとして固定されたサンプルデータを本Notebookでは利用している。"
   ]
  },
  {
   "cell_type": "markdown",
   "id": "61fee5f3",
   "metadata": {},
   "source": [
    "## 全体フロー\n",
    "1. 環境 & ライブラリ読み込み\n",
    "2. CodeInterpreter 利用可否チェック\n",
    "3. 設定 (エンドポイント/モデル) & 認証ヘルパ\n",
    "4. 予約プラグイン (ホテル/フライト)\n",
    "5. 保存プラグイン (旅程を Markdown 保存)\n",
    "6. マルチエージェント実行 (ガード付き)"
   ]
  },
  {
   "cell_type": "markdown",
   "id": "76264d5a",
   "metadata": {},
   "source": [
    "## .env 例\n",
    "推奨 (どちらか一方で可):\n",
    "```env\n",
    "MODEL_DEPLOYMENT_NAME=gpt-4o-mini\n",
    "AZURE_AI_AGENT_ENDPOINT=https://<resource>.services.ai.azure.com/api/projects/<project>\n",
    "# もしくは (旧) connection string:\n",
    "# AZURE_AI_AGENT_PROJECT_CONNECTION_STRING=endpoint=...;project=...;api-key=...\n",
    "PROJECT_ENDPOINT=...  # AZURE_AI_AGENT_ENDPOINT 未指定時に補完\n",
    "AZURE_AI_PROJECT_NAME=...          # connection string 動的組立用\n",
    "SERPAPI_SEARCH_API_KEY=...         # 任意\n",
    "SERPAPI_SEARCH_ENDPOINT=https://serpapi.com/search  # 任意\n",
    "```\n",
    "注意: api-key を使わない場合は Microsoft Entra (az login) 認証が必要。"
   ]
  },
  {
   "cell_type": "markdown",
   "id": "2895c9b6",
   "metadata": {},
   "source": [
    "## 依存ライブラリ (必要なら実行)\n",
    "```bash\n",
    "!pip install --upgrade azure-ai-agents semantic-kernel azure-identity requests python-dotenv\n",
    "# CLI 利用が不安定な場合の更新\n",
    "!pip install --upgrade azure-cli\n",
    "```"
   ]
  },
  {
   "cell_type": "code",
   "execution_count": 1,
   "id": "5e6d1c23",
   "metadata": {},
   "outputs": [
    {
     "name": "stdout",
     "output_type": "stream",
     "text": [
      "# Python 実行ファイル: c:\\VSCode - Work\\ai-agents-for-beginners\\ai-agents-for-beginners\\myenv\\Scripts\\python.exe\n",
      "# azure-ai-agents インストール?: True\n"
     ]
    },
    {
     "name": "stderr",
     "output_type": "stream",
     "text": [
      "C:\\Users\\Mamoru Kuroda\\AppData\\Local\\Temp\\ipykernel_63384\\2890377945.py:14: DeprecationWarning: 'pkgutil.find_loader' is deprecated and slated for removal in Python 3.14; use importlib.util.find_spec() instead\n",
      "  print('# azure-ai-agents インストール?:', pkgutil.find_loader('azure.ai.agents') is not None)\n"
     ]
    },
    {
     "data": {
      "text/plain": [
       "True"
      ]
     },
     "execution_count": 1,
     "metadata": {},
     "output_type": "execute_result"
    }
   ],
   "source": [
    "# ===== 1. 基本インポート / 環境読み込み =====\n",
    "# 学習ポイント:\n",
    "# - .env には PROJECT_ENDPOINT / MODEL_DEPLOYMENT_NAME などを定義。api-key を含めない構成では AAD 認証(az login) を利用。\n",
    "# - semantic-kernel の AzureAIAgentSettings は GA エンドポイント優先 (endpoint 引数) → 失敗時 legacy connection string。\n",
    "import sys, pkgutil, os, asyncio, requests, hashlib, time, datetime, json, contextlib\n",
    "from typing import Annotated\n",
    "from dotenv import load_dotenv\n",
    "from azure.identity.aio import DefaultAzureCredential, AzureCliCredential\n",
    "from semantic_kernel.agents import AgentGroupChat, AzureAIAgent, AzureAIAgentSettings\n",
    "from semantic_kernel.agents.strategies.termination.termination_strategy import TerminationStrategy\n",
    "from semantic_kernel.contents import ChatMessageContent, AuthorRole\n",
    "from semantic_kernel.functions.kernel_function_decorator import kernel_function\n",
    "print('# Python 実行ファイル:', sys.executable)\n",
    "print('# azure-ai-agents インストール?:', pkgutil.find_loader('azure.ai.agents') is not None)\n",
    "load_dotenv()  # .env をロード (必須環境変数: PROJECT_ENDPOINT, MODEL_DEPLOYMENT_NAME など)"
   ]
  },
  {
   "cell_type": "markdown",
   "id": "a6bb3eb8",
   "metadata": {},
   "source": [
    "## Code Interpreter 利用可否確認"
   ]
  },
  {
   "cell_type": "code",
   "execution_count": 2,
   "id": "a00cf95d",
   "metadata": {},
   "outputs": [
    {
     "name": "stdout",
     "output_type": "stream",
     "text": [
      "# パッケージバージョン: {'azure-ai-agents': '1.2.0b3', 'semantic-kernel': '1.36.2', 'azure-identity': '1.24.0'}\n",
      "# CodeInterpreter 利用可否: True\n"
     ]
    },
    {
     "data": {
      "text/plain": [
       "{'azure-ai-agents': '1.2.0b3',\n",
       " 'semantic-kernel': '1.36.2',\n",
       " 'azure-identity': '1.24.0'}"
      ]
     },
     "execution_count": 2,
     "metadata": {},
     "output_type": "execute_result"
    }
   ],
   "source": [
    "# ===== 2. CodeInterpreterTool 検出 & 再読み込みユーティリティ =====\n",
    "# 学習ポイント:\n",
    "# - CodeInterpreterTool が無くてもローカル保存で動作可能 (機能段階的フォールバック設計)。\n",
    "# - refresh_code_interpreter() を設けることで pip アップグレード後にカーネル再起動せず再検出できる。\n",
    "try:\n",
    "    from azure.ai.agents.models import CodeInterpreterTool\n",
    "    HAS_CODE_INTERPRETER = True\n",
    "except Exception:\n",
    "    CodeInterpreterTool = None  # type: ignore\n",
    "    HAS_CODE_INTERPRETER = False\n",
    "    print('[INFO] CodeInterpreterTool 未利用 → ローカル保存フォールバック')\n",
    "\n",
    "from importlib import metadata as _md, import_module\n",
    "\n",
    "def env_diagnostics():\n",
    "    pkgs = ['azure-ai-agents','semantic-kernel','azure-identity']\n",
    "    versions = {}\n",
    "    for p in pkgs:\n",
    "        try:\n",
    "            versions[p] = _md.version(p)\n",
    "        except Exception:\n",
    "            versions[p] = 'not-installed'\n",
    "    print('# パッケージバージョン:', versions)\n",
    "    print('# CodeInterpreter 利用可否:', HAS_CODE_INTERPRETER)\n",
    "    return versions\n",
    "\n",
    "def refresh_code_interpreter(verbose: bool = True):\n",
    "    global HAS_CODE_INTERPRETER, CodeInterpreterTool\n",
    "    try:\n",
    "        module = import_module('azure.ai.agents.models')\n",
    "        CodeInterpreterTool = getattr(module, 'CodeInterpreterTool')  # type: ignore\n",
    "        HAS_CODE_INTERPRETER = True\n",
    "        if verbose:\n",
    "            print('[REFRESH] CodeInterpreterTool を検出しました。')\n",
    "    except Exception as e:\n",
    "        HAS_CODE_INTERPRETER = False\n",
    "        CodeInterpreterTool = None  # type: ignore\n",
    "        if verbose:\n",
    "            print('[REFRESH] 未検出:', e)\n",
    "    return HAS_CODE_INTERPRETER\n",
    "\n",
    "# 初期状態出力\n",
    "env_diagnostics()"
   ]
  },
  {
   "cell_type": "markdown",
   "id": "aac063a2",
   "metadata": {},
   "source": [
    "## 再検出 (必要に応じ実行)"
   ]
  },
  {
   "cell_type": "code",
   "execution_count": 3,
   "id": "0ef972de",
   "metadata": {},
   "outputs": [
    {
     "name": "stdout",
     "output_type": "stream",
     "text": [
      "[REFRESH] CodeInterpreterTool を検出しました。\n",
      "# パッケージバージョン: {'azure-ai-agents': '1.2.0b3', 'semantic-kernel': '1.36.2', 'azure-identity': '1.24.0'}\n",
      "# CodeInterpreter 利用可否: True\n"
     ]
    },
    {
     "data": {
      "text/plain": [
       "{'azure-ai-agents': '1.2.0b3',\n",
       " 'semantic-kernel': '1.36.2',\n",
       " 'azure-identity': '1.24.0'}"
      ]
     },
     "execution_count": 3,
     "metadata": {},
     "output_type": "execute_result"
    }
   ],
   "source": [
    "# CodeInterpreterTool 再検出トリガ\n",
    "refresh_code_interpreter(); env_diagnostics()"
   ]
  },
  {
   "cell_type": "markdown",
   "id": "1ac01321",
   "metadata": {},
   "source": [
    "## 終了条件戦略 / 設定"
   ]
  },
  {
   "cell_type": "code",
   "execution_count": 4,
   "id": "f31be8d3",
   "metadata": {},
   "outputs": [
    {
     "name": "stdout",
     "output_type": "stream",
     "text": [
      "# 補完 endpoint -> https://makuroda-foundry-learning.services.ai.azure.com/api/projects/makuroda-Foundry-Learning-project\n",
      "# Settings モード: GA-endpoint | model= gpt-4o-mini\n"
     ]
    }
   ],
   "source": [
    "# ===== 3. 設定 (GA エンドポイント / 旧 connection string) & 終了条件 =====\n",
    "# 学習ポイント (シンプル版):\n",
    "# 1. エンドポイントは AZURE_AI_AGENT_ENDPOINT が無ければ PROJECT_ENDPOINT から補完。\n",
    "# 2. モデル名は MODEL_DEPLOYMENT_NAME のみ参照。\n",
    "# 3. GA エンドポイント初期化が TypeError の場合は legacy connection string へ後方互換フォールバック。\n",
    "# 4. 'saved' を含む発話でチャット終了 (ApprovalTerminationStrategy)。\n",
    "class ApprovalTerminationStrategy(TerminationStrategy):\n",
    "    async def should_agent_terminate(self, agent, history):\n",
    "        return bool(history) and 'saved' in (history[-1].content or '').lower()\n",
    "\n",
    "# (A) connection string 後方互換組立\n",
    "raw_conn = os.getenv('AZURE_AI_AGENT_PROJECT_CONNECTION_STRING')\n",
    "if not raw_conn:\n",
    "    pe = os.getenv('PROJECT_ENDPOINT'); pn = os.getenv('AZURE_AI_PROJECT_NAME')\n",
    "    if pe and pn:\n",
    "        raw_conn = f'endpoint={pe};project={pn}'\n",
    "\n",
    "# (B) GA endpoint 優先補完\n",
    "endpoint = os.getenv('AZURE_AI_AGENT_ENDPOINT')\n",
    "if not endpoint:\n",
    "    pe = os.getenv('PROJECT_ENDPOINT')\n",
    "    if pe:\n",
    "        endpoint = pe.strip().strip('\"').rstrip('/')\n",
    "        os.environ['AZURE_AI_AGENT_ENDPOINT'] = endpoint\n",
    "        print('# 補完 endpoint ->', endpoint)\n",
    "\n",
    "# (C) モデル名 (MODEL_DEPLOYMENT_NAME 参照)\n",
    "model_name = os.getenv('MODEL_DEPLOYMENT_NAME')\n",
    "if not (endpoint and model_name):\n",
    "    raise RuntimeError('endpoint / model_name が不足 (.env を再確認)')\n",
    "\n",
    "# (D) Settings 初期化\n",
    "try:\n",
    "    ai_agent_settings = AzureAIAgentSettings(model_deployment_name=model_name, endpoint=endpoint)\n",
    "    SETTINGS_MODE='GA-endpoint'\n",
    "except TypeError:\n",
    "    if not raw_conn:\n",
    "        raise RuntimeError('endpoint 型初期化失敗 & connection string なし')\n",
    "    ai_agent_settings = AzureAIAgentSettings(model_deployment_name=model_name, project_connection_string=raw_conn)\n",
    "    SETTINGS_MODE='LEGACY-connection-string'\n",
    "\n",
    "print('# Settings モード:', SETTINGS_MODE, '| model=', ai_agent_settings.model_deployment_name)\n",
    "\n",
    "# (E) クライアント生成ヘルパ\n",
    "from contextlib import asynccontextmanager\n",
    "@asynccontextmanager\n",
    "async def get_agents_client(credential):\n",
    "    try:\n",
    "        async with AzureAIAgent.create_client(credential=credential, endpoint=endpoint) as c:\n",
    "            yield c\n",
    "            return\n",
    "    except TypeError:\n",
    "        pass\n",
    "    if not raw_conn:\n",
    "        raise RuntimeError('クライアント生成失敗: fallback 不可')\n",
    "    async with AzureAIAgent.create_client(credential=credential, conn_str=raw_conn) as c:\n",
    "        yield c"
   ]
  },
  {
   "cell_type": "markdown",
   "id": "445689dc",
   "metadata": {},
   "source": [
    "## 認証 / プラグイン / 実行 (以降のセル)\n",
    "以下のセルでは:\n",
    "1. 認証: DefaultAzureCredential のみ (VS Code / Azure Sign-In / Managed Identity 等に委ねる)\n",
    "2. 予約プラグイン: SerpAPI (キー無ならモック) + キャッシュ\n",
    "3. 保存プラグイン: CodeInterpreterTool 有無で保存方式フォールバック\n",
    "4. 実行セル: AgentGroupChat + ガード (重複 / 時間 / 'saved')\n",
    "---"
   ]
  },
  {
   "cell_type": "code",
   "execution_count": 5,
   "id": "6324822a",
   "metadata": {},
   "outputs": [],
   "source": [
    "# 認証ヘルパ (学習用にシンプル化: DefaultAzureCredential のみ)\n",
    "# - VS Code で Azure にサインイン済み / az login 済み / Managed Identity などに自動対応\n",
    "# - CLI タイムアウト雑音を避けるため AzureCliCredential フォールバックを削除\n",
    "async def get_credential():\n",
    "    scope = 'https://cognitiveservices.azure.com/.default'\n",
    "    dac = DefaultAzureCredential(exclude_cli_credential=True, exclude_visual_studio_code_credential=False)\n",
    "    await dac.get_token(scope)  # 失敗時は例外で明確化\n",
    "    print('[AUTH] DefaultAzureCredential')\n",
    "    return dac"
   ]
  },
  {
   "cell_type": "code",
   "execution_count": 6,
   "id": "3efa4f67",
   "metadata": {},
   "outputs": [
    {
     "name": "stdout",
     "output_type": "stream",
     "text": [
      "[WARN] SERPAPI_SEARCH_ENDPOINT 未設定 → 既定 URL 使用\n",
      "[WARN] SERPAPI_SEARCH_API_KEY 未設定 → モック応答 (決定論的サンプル)\n"
     ]
    }
   ],
   "source": [
    "# 予約/保存プラグイン (SerpAPI 無→モック継続 / CodeInterpreter 有無で保存手段切替)\n",
    "SERPAPI_SEARCH_API_KEY = os.getenv('SERPAPI_SEARCH_API_KEY')\n",
    "SERPAPI_SEARCH_ENDPOINT = os.getenv('SERPAPI_SEARCH_ENDPOINT') or 'https://serpapi.com/search'\n",
    "if not os.getenv('SERPAPI_SEARCH_ENDPOINT'):\n",
    "    print('[WARN] SERPAPI_SEARCH_ENDPOINT 未設定 → 既定 URL 使用')\n",
    "if not SERPAPI_SEARCH_API_KEY:\n",
    "    print('[WARN] SERPAPI_SEARCH_API_KEY 未設定 → モック応答 (決定論的サンプル)')\n",
    "\n",
    "class BookingPlugin:\n",
    "    def __init__(self):\n",
    "        self._cache={}; self._timeout=15\n",
    "    def _cache_key(self,*parts):\n",
    "        return hashlib.sha256('|'.join(map(str,parts)).encode()).hexdigest()[:16]\n",
    "    def _http(self, params):\n",
    "        # モック: SerpAPI キー無しなら決定論的なサンプル構造を返す\n",
    "        if not SERPAPI_SEARCH_API_KEY:\n",
    "            if params.get('engine')=='google_hotels':\n",
    "                return {\n",
    "                    'status':'mock','properties':[{\n",
    "                        'name':'BizStay Midtown','rate_per_night':'USD 210','overall_rating':4.3\n",
    "                    },{\n",
    "                        'name':'Riverside Comfort','rate_per_night':'USD 185','overall_rating':4.1\n",
    "                    },{\n",
    "                        'name':'Central Hub Hotel','rate_per_night':'USD 240','overall_rating':4.6\n",
    "                    }]\n",
    "                }\n",
    "            if params.get('engine')=='google_flights':\n",
    "                # 簡易化: 片道/復路両方同じ構造を返却 (呼び出し側でまとめる)\n",
    "                return {\n",
    "                    'status':'mock','flights':[{\n",
    "                        'airline':'Contoso Air','duration':'7h45m','carrier':'CA','price':'USD 980'\n",
    "                    }]\n",
    "                }\n",
    "            return {'status':'mock'}\n",
    "        try:\n",
    "            r = requests.get(SERPAPI_SEARCH_ENDPOINT, params=params, timeout=self._timeout)\n",
    "            if r.status_code!=200:\n",
    "                return {'status':'http_error','code':r.status_code}\n",
    "            return r.json()\n",
    "        except Exception as e:\n",
    "            return {'status':'exception','error':str(e)}\n",
    "    def _hotels(self,data):\n",
    "        props=(data.get('properties') if isinstance(data,dict) else []) or []\n",
    "        lines=[f\"- {p.get('name') or p.get('title') or 'N/A'} | 料金:{p.get('rate_per_night') or p.get('price') or '—'} | 評価:{p.get('overall_rating') or p.get('rating') or '—'}\" for p in props[:3]]\n",
    "        return '\\n'.join(lines) if lines else '- (結果なし)'\n",
    "    def _flights(self,data):\n",
    "        if not isinstance(data,dict): return '- (結果なし)'\n",
    "        def pick(seg):\n",
    "            if not isinstance(seg,dict): return 'N/A'\n",
    "            arr=seg.get('best_flights') or seg.get('flights') or []\n",
    "            if arr:\n",
    "                leg=arr[0]; return f\"{leg.get('airline') or leg.get('carrier') or '航空会社'},{leg.get('duration') or '—'},{leg.get('price') or seg.get('price') or '—'}\"\n",
    "            return '—'\n",
    "        outbound=pick(data.get('outbound'))\n",
    "        inbound=pick(data.get('return')) if data.get('return') else '—'\n",
    "        return f\"- 往路:{outbound}\\n- 復路:{inbound}\"\n",
    "    @kernel_function(description='ホテル検索')\n",
    "    def booking_hotel(self, query: Annotated[str,'都市'], check_in_date: Annotated[str,'IN'], check_out_date: Annotated[str,'OUT']) -> Annotated[str,'Hotel']:\n",
    "        k=self._cache_key('h',query,check_in_date,check_out_date)\n",
    "        if k in self._cache: return self._cache[k]\n",
    "        params={'engine':'google_hotels','q':query,'check_in_date':check_in_date,'check_out_date':check_out_date,'adults':'2','currency':'USD','hl':'en','api_key':SERPAPI_SEARCH_API_KEY}\n",
    "        data=self._http(params); res=f\"## ホテル ({query} {check_in_date}→{check_out_date})\\n\"+self._hotels(data); self._cache[k]=res; return res\n",
    "    @kernel_function(description='フライト検索')\n",
    "    def booking_flight(self, origin: Annotated[str,'出発'], destination: Annotated[str,'到着'], outbound_date: Annotated[str,'往路日'], return_date: Annotated[str,'復路日']) -> Annotated[str,'Flight']:\n",
    "        k=self._cache_key('f',origin,destination,outbound_date,return_date)\n",
    "        if k in self._cache: return self._cache[k]\n",
    "        def _q(dep,arr,out,ret): p={'engine':'google_flights','departure_id':dep,'arrival_id':arr,'outbound_date':out,'return_date':ret,'currency':'USD','hl':'en','api_key':SERPAPI_SEARCH_API_KEY}; return self._http(p)\n",
    "        data={'outbound':_q(origin,destination,outbound_date,return_date),'return':_q(destination,origin,return_date,outbound_date)}\n",
    "        res=f\"## フライト ({origin}->{destination} {outbound_date}/{return_date})\\n\"+self._flights(data); self._cache[k]=res; return res\n",
    "\n",
    "class SavePlugin:\n",
    "    def __init__(self):\n",
    "        self._saved=False\n",
    "    @kernel_function(description='旅程を保存 (ローカル, 単回)')\n",
    "    async def saving_plan(self, tripplan: Annotated[str,'旅程']) -> Annotated[str,'結果']:\n",
    "        if self._saved:\n",
    "            return 'already_saved'\n",
    "        os.makedirs('trip', exist_ok=True)\n",
    "        path='trip/trip-plan.md'\n",
    "        with open(path,'w',encoding='utf-8') as f:\n",
    "            f.write(tripplan)\n",
    "        self._saved=True\n",
    "        print('# ローカル保存完了:', path)\n",
    "        return 'saved: file=' + path"
   ]
  },
  {
   "cell_type": "code",
   "execution_count": 7,
   "id": "9414cafe",
   "metadata": {},
   "outputs": [],
   "source": [
    "# 実行ロジック (2エージェント + 'saved' 終了 + 重複/時間ガード)\n",
    "async def run_chat():\n",
    "    creds = await get_credential()\n",
    "    async with (creds, get_agents_client(credential=creds) as client):\n",
    "        booking_def = await client.agents.create_agent(\n",
    "            model=ai_agent_settings.model_deployment_name,\n",
    "            name='BookingAgent',\n",
    "            instructions='あなたは旅行予約アシスタント。フライトとホテル案を取得 (ツール) し、Markdown 旅程を統合して SaveAgent に一度だけ明確に引き渡してください。',\n",
    "        )\n",
    "        booking = AzureAIAgent(client=client, definition=booking_def)\n",
    "        booking.kernel.add_plugin(BookingPlugin(), plugin_name='booking')\n",
    "\n",
    "        save_def = await client.agents.create_agent(\n",
    "            model=ai_agent_settings.model_deployment_name,\n",
    "            name='SaveAgent',\n",
    "            instructions=(\n",
    "                'あなたは旅程保存アシスタント。受け取った最終 Markdown 旅程をローカルに保存し、1回だけ \"saved\" を含む短い完了メッセージ (例: \"saved: file=trip/trip-plan.md\") を返して終了。'\n",
    "                ' 以後そのような保存完了メッセージは繰り返さないでください。'\n",
    "            ),\n",
    "        )\n",
    "        saver = AzureAIAgent(client=client, definition=save_def)\n",
    "        saver.kernel.add_plugin(SavePlugin(), plugin_name='saving')\n",
    "\n",
    "        chat = AgentGroupChat(\n",
    "            agents=[booking, saver],\n",
    "            termination_strategy=ApprovalTerminationStrategy(agents=[saver], maximum_iterations=6)\n",
    "        )\n",
    "        user_input = '2025年2月20日〜2月27日にロンドン発ニューヨーク出張。往復航空券とホテルを手配し最終 Markdown 旅程を保存してください。'\n",
    "        await chat.add_chat_message(ChatMessageContent(role=AuthorRole.USER, content=user_input))\n",
    "\n",
    "        start=time.time(); MAX_SECONDS=45; last=None; repeat=0; MAX_REPEAT=2\n",
    "        saver_msgs=[]; early_terminated=False; saved_once=False\n",
    "        agen = chat.invoke()\n",
    "        try:\n",
    "            async for content in agen:\n",
    "                text = content.content or ''\n",
    "                payload=f\"{content.role}:{content.name}:{text}\"\n",
    "                if content.name == 'SaveAgent':\n",
    "                    lowered=text.lower()\n",
    "                    if 'saved:' in lowered:\n",
    "                        if saved_once:\n",
    "                            # 二重 saved は無視して終了\n",
    "                            print('[GUARD] 二重 saved 無視して終了'); await agen.aclose(); break\n",
    "                        saved_once=True\n",
    "                        saver_msgs.append(text)\n",
    "                        print('[EARLY] SaveAgent saved 検出 → 終了')\n",
    "                        await agen.aclose(); early_terminated=True; break\n",
    "                    elif 'already_saved' in lowered:\n",
    "                        # 既に保存済みのシグナルは表示のみ\n",
    "                        print('[INFO] already_saved シグナルを無視')\n",
    "                    else:\n",
    "                        saver_msgs.append(text)\n",
    "                # 重複/時間ガード\n",
    "                if payload == last:\n",
    "                    repeat +=1\n",
    "                    if repeat>=MAX_REPEAT:\n",
    "                        print('[GUARD] 重複出力上限'); await agen.aclose(); break\n",
    "                else:\n",
    "                    repeat=0; last=payload\n",
    "                if time.time()-start>MAX_SECONDS:\n",
    "                    print('[GUARD] 時間上限'); await agen.aclose(); break\n",
    "                agent_label = content.name if content.name else '*'\n",
    "                print(f\"# {content.role} - {agent_label}: {text}\")\n",
    "        finally:\n",
    "            with contextlib.suppress(Exception):\n",
    "                await agen.aclose()\n",
    "\n",
    "        complete = chat.is_complete or early_terminated\n",
    "        print('# 完了フラグ(表示用):', complete)\n",
    "\n",
    "        if saver_msgs:\n",
    "            print('# Saver 出力まとめ:')\n",
    "            for m in saver_msgs[-5:]:\n",
    "                print('#', m)\n",
    "\n",
    "        with contextlib.suppress(Exception):\n",
    "            await chat.reset()\n",
    "        with contextlib.suppress(Exception):\n",
    "            await client.agents.delete_agent(saver.id)\n",
    "        with contextlib.suppress(Exception):\n",
    "            await client.agents.delete_agent(booking.id)\n",
    "\n",
    "# Notebook ループ判定 (既存イベントループ内ならそのまま await)\n",
    "async def _launch():\n",
    "    try:\n",
    "        loop=asyncio.get_running_loop()\n",
    "        if loop.is_running():\n",
    "            print('# 既存ループ: await で実行')\n",
    "            await run_chat(); return\n",
    "    except RuntimeError:\n",
    "        pass\n",
    "    print('# 新規ループ実行')\n",
    "    await run_chat()\n",
    "\n",
    "# 実行は次セルで \"await _launch()\" を呼び出す (スクリプト実行時は: asyncio.run(run_chat()))"
   ]
  },
  {
   "cell_type": "code",
   "execution_count": null,
   "id": "3678124d",
   "metadata": {},
   "outputs": [
    {
     "name": "stdout",
     "output_type": "stream",
     "text": [
      "# 既存ループ: await で実行\n",
      "[AUTH] DefaultAzureCredential\n",
      "[AUTH] DefaultAzureCredential\n",
      "# AuthorRole.ASSISTANT - BookingAgent: 以下は、2025年2月20日から2月27日までのロンドン発ニューヨーク出張の最終Markdown旅程です：\n",
      "\n",
      "## フライト (ロンドン->ニューヨーク 2025-02-20/2025-02-27)\n",
      "- **往路**: Contoso Air, 7時間45分, USD 980\n",
      "- **復路**: Contoso Air, 7時間45分, USD 980\n",
      "\n",
      "## ホテル (ニューヨーク 2025-02-20→2025-02-27)\n",
      "- **BizStay Midtown** | 料金: USD 210 | 評価: 4.3\n",
      "- **Riverside Comfort** | 料金: USD 185 | 評価: 4.1\n",
      "- **Central Hub Hotel** | 料金: USD 240 | 評価: 4.6\n",
      "\n",
      "この旅程を SaveAgent に保存します。\n",
      "# AuthorRole.ASSISTANT - BookingAgent: 以下は、2025年2月20日から2月27日までのロンドン発ニューヨーク出張の最終Markdown旅程です：\n",
      "\n",
      "## フライト (ロンドン->ニューヨーク 2025-02-20/2025-02-27)\n",
      "- **往路**: Contoso Air, 7時間45分, USD 980\n",
      "- **復路**: Contoso Air, 7時間45分, USD 980\n",
      "\n",
      "## ホテル (ニューヨーク 2025-02-20→2025-02-27)\n",
      "- **BizStay Midtown** | 料金: USD 210 | 評価: 4.3\n",
      "- **Riverside Comfort** | 料金: USD 185 | 評価: 4.1\n",
      "- **Central Hub Hotel** | 料金: USD 240 | 評価: 4.6\n",
      "\n",
      "この旅程を SaveAgent に保存します。\n",
      "# ローカル保存完了: trip/trip-plan.md\n",
      "# ローカル保存完了: trip/trip-plan.md\n",
      "[EARLY] SaveAgent saved 検出 → 終了\n",
      "# 完了フラグ(表示用): True\n",
      "# Saver 出力まとめ:\n",
      "# saved: file=trip/trip-plan.md\n",
      "[EARLY] SaveAgent saved 検出 → 終了\n",
      "# 完了フラグ(表示用): True\n",
      "# Saver 出力まとめ:\n",
      "# saved: file=trip/trip-plan.md\n"
     ]
    },
    {
     "ename": "",
     "evalue": "",
     "output_type": "error",
     "traceback": [
      "\u001b[1;31m現在のセルまたは前のセルでコードを実行中に、カーネル (Kernel) がクラッシュしました。\n",
      "\u001b[1;31mエラーの原因を特定するには、セル内のコードを確認してください。\n",
      "\u001b[1;31m詳細については<a href='https://aka.ms/vscodeJupyterKernelCrash'>こちら</a>をクリックします。\n",
      "\u001b[1;31m詳細については、Jupyter <a href='command:jupyter.viewOutput'>ログ</a> を参照してください。"
     ]
    }
   ],
   "source": [
    "# 実行トリガ (_launch() でチャット開始)\n",
    "await _launch()"
   ]
  }
 ],
 "metadata": {
  "kernelspec": {
   "display_name": "myenv",
   "language": "python",
   "name": "python3"
  },
  "language_info": {
   "codemirror_mode": {
    "name": "ipython",
    "version": 3
   },
   "file_extension": ".py",
   "mimetype": "text/x-python",
   "name": "python",
   "nbconvert_exporter": "python",
   "pygments_lexer": "ipython3",
   "version": "3.13.0"
  }
 },
 "nbformat": 4,
 "nbformat_minor": 5
}
