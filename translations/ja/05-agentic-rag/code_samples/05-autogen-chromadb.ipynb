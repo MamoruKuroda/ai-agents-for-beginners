{
 "cells": [
  {
   "cell_type": "markdown",
   "metadata": {},
   "source": [
    "# AutoGenとChromaDBを使用したAgentic RAG\n",
    "\n",
    "この例では、ChromaDBをベクトルデータベースとしてAutoGenフレームワークと統合し、Retrieval-Augmented Generation（RAG）を実装する方法を示します。\n",
    "\n",
    "> **📝 注意**: このノートブックでは**単一エージェント**を使用したRAG実装を学習します。真の「Agentic RAG」（複数エージェントの協調）への入門段階として位置づけられます。\n",
    "\n",
    "## 📚 このノートブックで学習できること\n",
    "\n",
    "### 🎯 主要な学習目標\n",
    "- **AutoGenフレームワーク**: マルチエージェントシステムの基礎と実装\n",
    "- **ChromaDB**: ベクトルデータベースを使用したセマンティック検索\n",
    "- **RAG（Retrieval-Augmented Generation）**: 外部データを活用したAI応答生成\n",
    "- **Azure AI統合**: GitHub TokenによるAzure AI Model Inference APIの活用\n",
    "\n",
    "### 🛠️ 実装する技術スタック\n",
    "- **ベクトルデータベース**: ChromaDBによるドキュメント保存・検索\n",
    "- **AIエージェント**: AssistantAgentによる知識統合型応答\n",
    "- **コンテキスト統合**: 複数データソース（文書+天気）の組み合わせ\n",
    "- **非同期処理**: Python asyncioによる効率的なデータ処理\n",
    "\n",
    "### 💡 実用的なスキル\n",
    "- 企業ドキュメントの効率的な検索システム構築\n",
    "- AIエージェントを活用したカスタマーサポート自動化\n",
    "- マルチソース情報統合による高度なQAシステム開発"
   ]
  },
  {
   "cell_type": "markdown",
   "metadata": {},
   "source": [
    "## ⚠️ トラブルシューティング\n",
    "\n",
    "> **注意**: SQLiteバージョンエラーについて\n",
    "\n",
    "次のエラーが発生した場合：\n",
    "```\n",
    "RuntimeError: Your system has an unsupported version of sqlite3. Chroma requires sqlite3 >= 3.35.0\n",
    "```\n",
    "\n",
    "**対処方法**: 下記のセル4（コメントアウトされたコード）のコメントを外して実行してください：\n",
    "\n",
    "> 💡 **補足**: この問題は古いPython環境でChromaDBを使用する際に発生することがあります。通常の環境では必要ありません。"
   ]
  },
  {
   "cell_type": "code",
   "execution_count": 43,
   "metadata": {},
   "outputs": [
    {
     "name": "stdout",
     "output_type": "stream",
     "text": [
      "必要なパッケージはすべてインストール済みです。\n"
     ]
    }
   ],
   "source": [
    "import importlib\n",
    "import subprocess\n",
    "import sys\n",
    "\n",
    "# チェックするライブラリ名と、インストールするパッケージ名のマッピング\n",
    "packages = {\n",
    "    \"autogen_agentchat\": \"autogen-agentchat\",\n",
    "    \"autogen_core\": \"autogen-core\", \n",
    "    \"autogen_ext\": \"autogen-ext[azure]\",\n",
    "    \"chromadb\": \"chromadb\",\n",
    "    \"azure.core\": \"azure-core\",\n",
    "    \"dotenv\": \"python-dotenv\",\n",
    "}\n",
    "\n",
    "not_installed = []\n",
    "for lib, pkg in packages.items():\n",
    "    try:\n",
    "        # ライブラリがインポート可能か試す\n",
    "        importlib.import_module(lib.split('.')[0])\n",
    "    except ImportError:\n",
    "        # インポートできなければインストールリストに追加\n",
    "        not_installed.append(pkg)\n",
    "\n",
    "if not_installed:\n",
    "    print(f\"不足しているパッケージをインストールします: {', '.join(not_installed)}\")\n",
    "    # pipコマンドを実行してインストール\n",
    "    subprocess.check_call([sys.executable, \"-m\", \"pip\", \"install\", \"--quiet\"] + not_installed)\n",
    "    print(\"パッケージのインストールが完了しました。\")\n",
    "else:\n",
    "    print(\"必要なパッケージはすべてインストール済みです。\")"
   ]
  },
  {
   "cell_type": "code",
   "execution_count": null,
   "metadata": {},
   "outputs": [],
   "source": [
    "# %pip install pysqlite3-binary\n",
    "# __import__('pysqlite3')\n",
    "# import sys\n",
    "# sys.modules['sqlite3'] = sys.modules.pop('pysqlite3')"
   ]
  },
  {
   "cell_type": "code",
   "execution_count": 44,
   "metadata": {},
   "outputs": [
    {
     "data": {
      "text/plain": [
       "True"
      ]
     },
     "execution_count": 44,
     "metadata": {},
     "output_type": "execute_result"
    }
   ],
   "source": [
    "import os\n",
    "import time\n",
    "import asyncio\n",
    "import warnings\n",
    "from typing import List, Dict\n",
    "from dotenv import load_dotenv\n",
    "\n",
    "# 不要な警告を非表示にする\n",
    "warnings.filterwarnings(\"ignore\", message=\".*Protobuf gencode version.*\")\n",
    "warnings.filterwarnings(\"ignore\", message=\".*Missing required field 'structured_output'.*\")\n",
    "warnings.filterwarnings(\"ignore\", message=\".*Unclosed client session.*\")\n",
    "\n",
    "from autogen_agentchat.agents import AssistantAgent\n",
    "from autogen_core import CancellationToken\n",
    "from autogen_agentchat.messages import TextMessage\n",
    "from azure.core.credentials import AzureKeyCredential\n",
    "from autogen_ext.models.azure import AzureAIChatCompletionClient\n",
    "\n",
    "import chromadb\n",
    "\n",
    "load_dotenv()"
   ]
  },
  {
   "cell_type": "markdown",
   "metadata": {},
   "source": [
    "## クライアントの作成\n",
    "\n",
    "まず、Azure AI Chat Completion Clientを初期化します。このクライアントは、Azure OpenAIサービスとやり取りしてユーザークエリへの応答を生成するために使用されます。"
   ]
  },
  {
   "cell_type": "code",
   "execution_count": null,
   "metadata": {},
   "outputs": [],
   "source": [
    "client = AzureAIChatCompletionClient(\n",
    "    model=\"gpt-4o-mini\",\n",
    "    # Azure AI Model Inference API - AutoGenとAzureモデルを統合するための統一エンドポイント\n",
    "    # GitHub Tokenでの認証をサポートし、複数のAIモデルに統一されたAPIでアクセス可能\n",
    "    endpoint=\"https://models.inference.ai.azure.com\",\n",
    "    credential=AzureKeyCredential(os.getenv(\"GITHUB_TOKEN\")),\n",
    "    model_info={\n",
    "        \"json_output\": True,\n",
    "        \"function_calling\": True,\n",
    "        \"vision\": True,\n",
    "        \"structured_output\": True,  # 警告を解決するために追加\n",
    "        \"family\": \"unknown\",\n",
    "    },\n",
    ")"
   ]
  },
  {
   "cell_type": "markdown",
   "metadata": {},
   "source": [
    "## ベクトルデータベースの初期化\n",
    "\n",
    "永続ストレージを使用してChromaDBを初期化し、拡張されたサンプルドキュメントを追加します。ChromaDBは、正確な応答生成のためのコンテキストを提供するドキュメントの保存と検索に使用されます。"
   ]
  },
  {
   "cell_type": "code",
   "execution_count": 47,
   "metadata": {},
   "outputs": [],
   "source": [
    "# ChromaDBを永続ストレージで初期化\n",
    "chroma_client = chromadb.PersistentClient(path=\"./chroma_db\")\n",
    "collection = chroma_client.create_collection(\n",
    "    name=\"travel_documents\",\n",
    "    metadata={\"description\": \"travel_service\"},\n",
    "    get_or_create=True\n",
    ")\n",
    "\n",
    "# 拡張されたサンプルドキュメント（日本語版）\n",
    "documents = [\n",
    "    \"Contoso旅行では、世界各地のエキゾチックな目的地への高級バケーションパッケージを提供しています。\",\n",
    "    \"当社のプレミアム旅行サービスには、個人向け旅程計画と24時間365日のコンシェルジュサポートが含まれています。\",\n",
    "    \"Contosoの旅行保険は、医療緊急事態、旅行キャンセル、手荷物紛失をカバーしています。\",\n",
    "    \"人気の目的地には、モルディブ、スイスアルプス、アフリカサファリなどがあります。\",\n",
    "    \"Contoso旅行では、ブティックホテルやプライベートガイドツアーへの限定アクセスを提供しています。\"\n",
    "]\n",
    "\n",
    "# メタデータと共にドキュメントを追加\n",
    "collection.add(\n",
    "    documents=documents,\n",
    "    ids=[f\"doc_{i}\" for i in range(len(documents))],\n",
    "    metadatas=[{\"source\": \"training\", \"type\": \"explanation\"} for _ in documents]\n",
    ")"
   ]
  },
  {
   "cell_type": "markdown",
   "metadata": {},
   "source": [
    "## コンテキストプロバイダーの実装\n",
    "\n",
    "`ContextProvider`クラスは複数のソースからのコンテキスト取得と統合を処理します：\n",
    "\n",
    "1. **ベクトルデータベース検索**: ChromaDBを使用して旅行ドキュメントのセマンティック検索を実行\n",
    "2. **天気情報**: 主要都市のシミュレートされた天気データベースを維持\n",
    "3. **統合コンテキスト**: ドキュメントと天気データの両方を包括的なコンテキストに結合\n",
    "\n",
    "主要メソッド:\n",
    "- `get_retrieval_context()`: クエリに基づいて関連ドキュメントを取得\n",
    "- `get_weather_data()`: 指定された場所の天気情報を提供\n",
    "- `get_unified_context()`: ドキュメントと天気の両方のコンテキストを組み合わせて拡張された応答を実現"
   ]
  },
  {
   "cell_type": "code",
   "execution_count": 48,
   "metadata": {},
   "outputs": [],
   "source": [
    "class ContextProvider:\n",
    "    def __init__(self, collection):\n",
    "        self.collection = collection\n",
    "        # シミュレートされた天気データベース\n",
    "        self.weather_database = {\n",
    "            \"new york\": {\"temperature\": 22, \"condition\": \"曇り時々晴れ\", \"humidity\": 65, \"wind\": \"時速16km\"},\n",
    "            \"london\": {\"temperature\": 16, \"condition\": \"雨\", \"humidity\": 80, \"wind\": \"時速24km\"},\n",
    "            \"tokyo\": {\"temperature\": 24, \"condition\": \"晴れ\", \"humidity\": 50, \"wind\": \"時速8km\"},\n",
    "            \"sydney\": {\"temperature\": 27, \"condition\": \"快晴\", \"humidity\": 45, \"wind\": \"時速19km\"},\n",
    "            \"paris\": {\"temperature\": 20, \"condition\": \"曇り\", \"humidity\": 70, \"wind\": \"時速13km\"},\n",
    "        }\n",
    "    \n",
    "    def get_retrieval_context(self, query: str) -> str:\n",
    "        \"\"\"クエリに基づいてベクトルデータベースから関連ドキュメントを取得します。\"\"\"\n",
    "        results = self.collection.query(\n",
    "            query_texts=[query],\n",
    "            include=[\"documents\", \"metadatas\"],\n",
    "            n_results=2\n",
    "        )\n",
    "        context_strings = []\n",
    "        if results and results.get(\"documents\") and len(results[\"documents\"][0]) > 0:\n",
    "            for doc, meta in zip(results[\"documents\"][0], results[\"metadatas\"][0]):\n",
    "                context_strings.append(f\"Document: {doc}\\nMetadata: {meta}\")\n",
    "        return \"\\n\\n\".join(context_strings) if context_strings else \"No relevant documents found\"\n",
    "    \n",
    "    def get_weather_data(self, location: str) -> str:\n",
    "        \"\"\"指定された場所の天気データを取得をシミュレートします。\"\"\"\n",
    "        if not location:\n",
    "            return \"\"\n",
    "            \n",
    "        location_key = location.lower()\n",
    "        if location_key in self.weather_database:\n",
    "            data = self.weather_database[location_key]\n",
    "            return f\"{location.title()}の天気:\\n\" \\\n",
    "                   f\"気温: {data['temperature']}°C\\n\" \\\n",
    "                   f\"天候: {data['condition']}\\n\" \\\n",
    "                   f\"湿度: {data['humidity']}%\\n\" \\\n",
    "                   f\"風速: {data['wind']}\"\n",
    "        else:\n",
    "            return f\"{location}の天気データは利用できません。\"\n",
    "    \n",
    "    def get_unified_context(self, query: str, location: str = None) -> str:\n",
    "        \"\"\"ドキュメント検索と天気データの両方を組み合わせた統合コンテキストを返します。\"\"\"\n",
    "        retrieval_context = self.get_retrieval_context(query)\n",
    "        \n",
    "        weather_context = \"\"\n",
    "        if location:\n",
    "            weather_context = self.get_weather_data(location)\n",
    "            weather_intro = f\"\\n{location}の天気情報:\\n\"\n",
    "        else:\n",
    "            weather_intro = \"\"\n",
    "        \n",
    "        return f\"取得されたコンテキスト:\\n{retrieval_context}\\n\\n{weather_intro}{weather_context}\""
   ]
  },
  {
   "cell_type": "markdown",
   "metadata": {},
   "source": [
    "## エージェント設定\n",
    "\n",
    "検索エージェントとアシスタントエージェントを設定します。検索エージェントはセマンティック検索を使用して関連情報を見つけることに特化し、アシスタントは取得された情報に基づいて詳細な応答を生成します。"
   ]
  },
  {
   "cell_type": "code",
   "execution_count": 49,
   "metadata": {},
   "outputs": [
    {
     "name": "stderr",
     "output_type": "stream",
     "text": [
      "Unclosed client session\n",
      "client_session: <aiohttp.client.ClientSession object at 0x000002A4076D96D0>\n"
     ]
    }
   ],
   "source": [
    "# 拡張機能を持つエージェントを作成\n",
    "assistant = AssistantAgent(\n",
    "    name=\"assistant\",\n",
    "    model_client=client,\n",
    "    system_message=(\n",
    "        \"あなたは提供されたコンテキストの情報を活用して回答する親切なAIアシスタントです。\"\n",
    "        \"コンテキストには文書検索結果と天気情報の両方が含まれる場合があります。\"\n",
    "        \"提供されたすべての情報を確認し、利用可能な情報に基づいて適切に回答してください。\"\n",
    "        \"天気情報が提供されている場合は、その情報を使用して天気に関する質問に答えてください。\"\n",
    "        \"情報が提供されていない場合のみ、「情報がありません」と回答してください。\"\n",
    "    ),\n",
    ")"
   ]
  },
  {
   "cell_type": "markdown",
   "metadata": {},
   "source": [
    "## RAGを使用したクエリ処理\n",
    "\n",
    "`ask_rag`関数を定義して、アシスタントにクエリを送信し、応答を処理し、評価します。この関数はアシスタントとのやり取りを処理し、評価器を使用して応答の品質を測定します。"
   ]
  },
  {
   "cell_type": "code",
   "execution_count": 50,
   "metadata": {},
   "outputs": [],
   "source": [
    "async def ask_rag_agent(query: str, context_provider: ContextProvider, location: str = None):\n",
    "    \"\"\"\n",
    "    コンテキストプロバイダーからのコンテキストと共にアシスタントエージェントにクエリを送信します。\n",
    "    \n",
    "    Args:\n",
    "        query: ユーザーの質問\n",
    "        context_provider: コンテキストプロバイダーのインスタンス\n",
    "        location: 天気クエリ用のオプションの場所\n",
    "    \"\"\"\n",
    "    try:\n",
    "        # 統合コンテキストを取得\n",
    "        context = context_provider.get_unified_context(query, location)\n",
    "        \n",
    "        # クエリをコンテキストで拡張\n",
    "        augmented_query = (\n",
    "            f\"以下の情報が利用可能です:\\n{context}\\n\\n\"\n",
    "            f\"ユーザークエリ: {query}\\n\\n\"\n",
    "            \"上記の利用可能な情報をすべて確認し、文書情報と天気情報の両方を適切に活用して回答してください。\"\n",
    "        )\n",
    "\n",
    "        # 拡張されたクエリをアシスタントに送信\n",
    "        start_time = time.time()\n",
    "        response = await assistant.on_messages(\n",
    "            [TextMessage(content=augmented_query, source=\"user\")],\n",
    "            cancellation_token=CancellationToken(),\n",
    "        )\n",
    "        processing_time = time.time() - start_time\n",
    "        \n",
    "        return {\n",
    "            'query': query,\n",
    "            'response': response.chat_message.content,\n",
    "            'processing_time': processing_time,\n",
    "            'location': location\n",
    "        }\n",
    "    except Exception as e:\n",
    "        print(f\"クエリ処理中にエラーが発生しました: {e}\")\n",
    "        return None"
   ]
  },
  {
   "cell_type": "markdown",
   "metadata": {},
   "source": [
    "# 使用例\n",
    "\n",
    "コンテキストプロバイダーを初期化し、処理したいクエリを定義します。"
   ]
  },
  {
   "cell_type": "code",
   "execution_count": 51,
   "metadata": {},
   "outputs": [],
   "source": [
    "async def main():\n",
    "    # コンテキストプロバイダーを初期化\n",
    "    context_provider = ContextProvider(collection)\n",
    "    \n",
    "    # サンプルクエリ\n",
    "    queries = [\n",
    "        {\"query\": \"Contosoの旅行保険は何をカバーしていますか？\"},\n",
    "        {\"query\": \"シドニーの天気はどうですか？\", \"location\": \"sydney\"},\n",
    "        {\"query\": \"Contosoが提供する高級な目的地は何ですか？パリの天気も教えてください。\", \"location\": \"paris\"},\n",
    "    ]\n",
    "    \n",
    "    print(\"=== AutoGen RAGデモ ===\")\n",
    "    for query_data in queries:\n",
    "        query = query_data[\"query\"]\n",
    "        location = query_data.get(\"location\")\n",
    "        \n",
    "        print(f\"\\n\\nクエリ: {query}\")\n",
    "        if location:\n",
    "            print(f\"場所: {location}\")\n",
    "        \n",
    "        # 使用されているコンテキストを表示\n",
    "        context = context_provider.get_unified_context(query, location)\n",
    "        print(\"\\n--- 使用されたコンテキスト ---\")\n",
    "        print(context)\n",
    "        print(\"------------------------\")\n",
    "        \n",
    "        # エージェントから応答を取得\n",
    "        result = await ask_rag_agent(query, context_provider, location)\n",
    "        if result:\n",
    "            print(f\"\\n応答: {result['response']}\")\n",
    "        print(\"\\n\" + \"=\"*50)"
   ]
  },
  {
   "cell_type": "markdown",
   "metadata": {},
   "source": [
    "## スクリプトの実行\n",
    "\n",
    "スクリプトがインタラクティブ環境または標準スクリプトで実行されているかを確認し、それに応じてmain関数を実行します。"
   ]
  },
  {
   "cell_type": "code",
   "execution_count": 52,
   "metadata": {},
   "outputs": [
    {
     "name": "stdout",
     "output_type": "stream",
     "text": [
      "=== AutoGen RAGデモ ===\n",
      "\n",
      "\n",
      "クエリ: Contosoの旅行保険は何をカバーしていますか？\n",
      "\n",
      "--- 使用されたコンテキスト ---\n",
      "取得されたコンテキスト:\n",
      "Document: Contosoの旅行保険は、医療緊急事態、旅行キャンセル、手荷物紛失をカバーしています。\n",
      "Metadata: {'source': 'training', 'type': 'explanation'}\n",
      "\n",
      "Document: 当社のプレミアム旅行サービスには、個別の旅程計画と24時間365日のコンシェルジュサポートが含まれています。\n",
      "Metadata: {'source': 'training', 'type': 'explanation'}\n",
      "\n",
      "\n",
      "------------------------\n",
      "\n",
      "応答: Contosoの旅行保険は、医療緊急事態、旅行キャンセル、手荷物紛失をカバーしています。\n",
      "\n",
      "==================================================\n",
      "\n",
      "\n",
      "クエリ: シドニーの天気はどうですか？\n",
      "場所: sydney\n",
      "\n",
      "--- 使用されたコンテキスト ---\n",
      "取得されたコンテキスト:\n",
      "Document: Contoso Travelは世界中のエキゾチックな目的地への高級バケーションパッケージを提供しています。\n",
      "Metadata: {'source': 'training', 'type': 'explanation'}\n",
      "\n",
      "Document: 当社のプレミアム旅行サービスには、個別の旅程計画と24時間365日のコンシェルジュサポートが含まれています。\n",
      "Metadata: {'type': 'explanation', 'source': 'training'}\n",
      "\n",
      "\n",
      "sydneyの天気情報:\n",
      "Sydneyの天気:\n",
      "気温: 27°C\n",
      "天候: 快晴\n",
      "湿度: 45%\n",
      "風速: 時速19km\n",
      "------------------------\n",
      "\n",
      "応答: シドニーの天気は快晴で、気温は27°C、湿度は45%、風速は時速19kmです。\n",
      "\n",
      "==================================================\n",
      "\n",
      "\n",
      "クエリ: Contosoが提供する高級な目的地は何ですか？パリの天気も教えてください。\n",
      "場所: paris\n",
      "\n",
      "--- 使用されたコンテキスト ---\n",
      "取得されたコンテキスト:\n",
      "Document: Contoso Travelは世界中のエキゾチックな目的地への高級バケーションパッケージを提供しています。\n",
      "Metadata: {'source': 'training', 'type': 'explanation'}\n",
      "\n",
      "Document: 人気の目的地には、モルディブ、スイスアルプス、アフリカンサファリなどがあります。\n",
      "Metadata: {'type': 'explanation', 'source': 'training'}\n",
      "\n",
      "\n",
      "parisの天気情報:\n",
      "Parisの天気:\n",
      "気温: 20°C\n",
      "天候: 曇り\n",
      "湿度: 70%\n",
      "風速: 時速13km\n",
      "------------------------\n",
      "\n",
      "応答: Contoso Travelが提供する高級な目的地には、モルディブ、スイスアルプス、アフリカンサファリなどがあります。\n",
      "\n",
      "パリの天気は曇りで、気温は20°C、湿度は70%、風速は時速13kmです。\n",
      "\n",
      "==================================================\n"
     ]
    }
   ],
   "source": [
    "if __name__ == \"__main__\":\n",
    "    if asyncio.get_event_loop().is_running():\n",
    "        await main()\n",
    "    else:\n",
    "        asyncio.run(main())"
   ]
  },
  {
   "cell_type": "markdown",
   "metadata": {},
   "source": [
    "## 🎓 学習完了！次のステップ\n",
    "\n",
    "### 📖 次に学習が推奨されるノートブック\n",
    "\n",
    "このRAGシステムの基礎を習得したら、以下の高度なトピックに進むことをお勧めします：\n",
    "\n",
    "#### 🔗 関連学習リンク\n",
    "\n",
    "1. **信頼できるエージェントの構築**\n",
    "   - [06-building-trustworthy-agents](../../06-building-trustworthy-agents/README.md)\n",
    "   - RAGシステムの信頼性向上、エラー処理、セキュリティ対策\n",
    "\n",
    "2. **計画・設計パターン**\n",
    "   - [07-planning-design](../../07-planning-design/README.md)\n",
    "   - より複雑なエージェントシステムの設計手法\n",
    "\n",
    "3. **マルチエージェントシステム**\n",
    "   - [08-multi-agent](../../08-multi-agent/README.md)\n",
    "   - 複数のエージェントが協調して問題解決を行うシステム\n",
    "\n",
    "4. **本番環境でのAIエージェント**\n",
    "   - [10-ai-agents-production](../../10-ai-agents-production/README.md)\n",
    "   - スケーラブルで堅牢なAIエージェントシステムの構築\n",
    "\n",
    "### 🚀 発展的な学習\n",
    "\n",
    "RAGシステムをさらに発展させたい場合は：\n",
    "- **カスタムツール開発**: [04-tool-use](../../04-tool-use/README.md) でツール活用手法を学習\n",
    "- **メタ認知**: [09-metacognition](../../09-metacognition/README.md) でエージェントの自己認識能力を向上\n",
    "\n",
    "---\n",
    "**Happy Learning! 🎉** 次のレベルのAIエージェント開発にチャレンジしてください！"
   ]
  }
 ],
 "metadata": {
  "kernelspec": {
   "display_name": "myenv",
   "language": "python",
   "name": "python3"
  },
  "language_info": {
   "codemirror_mode": {
    "name": "ipython",
    "version": 3
   },
   "file_extension": ".py",
   "mimetype": "text/x-python",
   "name": "python",
   "nbconvert_exporter": "python",
   "pygments_lexer": "ipython3",
   "version": "3.13.0"
  }
 },
 "nbformat": 4,
 "nbformat_minor": 2
}
