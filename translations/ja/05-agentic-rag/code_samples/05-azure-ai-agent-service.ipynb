{
 "cells": [
  {
   "cell_type": "markdown",
   "metadata": {},
   "source": [
    "# Azure AI Agent ServiceによるAgentic RAG\n",
    "\n",
    "この例では、Azure AI Agent ServiceのFileSearch機能を使用してRetrieval-Augmented Generation（RAG）を実装する方法を示します。\n",
    "\n",
    "**このノートブックで学ぶこと：**\n",
    "- Azure AI Agent Serviceを使用した高度なRAGシステムの構築方法\n",
    "- ファイル検索ツールを活用したドキュメントベースの質問応答システム\n",
    "- クラウドベースのベクトルストアとエージェント管理の実装\n",
    "\n",
    "**達成できること：**\n",
    "- 企業ドキュメントを知識ベースとして活用するAIエージェントの作成\n",
    "- ドキュメント外の質問を適切に拒否する信頼性の高いRAGシステムの実装\n",
    "- Azure認証とリソース管理を含む本格的なクラウドRAGアプリケーションの開発"
   ]
  },
  {
   "cell_type": "markdown",
   "metadata": {},
   "source": [
    "## 環境の初期化"
   ]
  },
  {
   "cell_type": "markdown",
   "metadata": {},
   "source": [
    "### パッケージのインストール\n",
    "\n",
    "Azure AI Agentsに必要なパッケージをインストールします："
   ]
  },
  {
   "cell_type": "code",
   "execution_count": null,
   "metadata": {},
   "outputs": [
    {
     "name": "stdout",
     "output_type": "stream",
     "text": [
      "必要なパッケージはすべてインストール済みです。\n"
     ]
    }
   ],
   "source": [
    "import importlib\n",
    "import subprocess\n",
    "import sys\n",
    "\n",
    "# チェックするライブラリ名と、インストールするパッケージ名のマッピング\n",
    "packages = {\n",
    "    \"azure.ai.agents\": \"azure-ai-agents\",  # Azure AI Agents SDK\n",
    "    \"azure.identity\": \"azure-identity\",    # Azure認証\n",
    "}\n",
    "\n",
    "not_installed = []\n",
    "for lib, pkg in packages.items():\n",
    "    try:\n",
    "        # ライブラリがインポート可能か試す\n",
    "        importlib.import_module(lib.split('.')[0])\n",
    "    except ImportError:\n",
    "        # インポートできなければインストールリストに追加\n",
    "        not_installed.append(pkg)\n",
    "\n",
    "if not_installed:\n",
    "    print(f\"不足しているパッケージをインストールします: {', '.join(not_installed)}\")\n",
    "    # pipコマンドを実行してインストール\n",
    "    subprocess.check_call([sys.executable, \"-m\", \"pip\", \"install\", \"--quiet\"] + not_installed)\n",
    "    print(\"パッケージのインストールが完了しました。\")\n",
    "else:\n",
    "    print(\"必要なパッケージはすべてインストール済みです。\")"
   ]
  },
  {
   "cell_type": "markdown",
   "metadata": {},
   "source": [
    "### SQLiteバージョンの修正\n",
    "以下のエラーが発生した場合：\n",
    "```\n",
    "RuntimeError: Your system has an unsupported version of sqlite3. Chroma requires sqlite3 >= 3.35.0\n",
    "```\n",
    "\n",
    "ノートブックの最初で、このコードブロックのコメントを解除してください："
   ]
  },
  {
   "cell_type": "code",
   "execution_count": null,
   "metadata": {},
   "outputs": [],
   "source": [
    "# %pip install pysqlite3-binary\n",
    "# __import__('pysqlite3')\n",
    "# import sys\n",
    "# sys.modules['sqlite3'] = sys.modules.pop('pysqlite3')"
   ]
  },
  {
   "cell_type": "markdown",
   "metadata": {},
   "source": [
    "### パッケージのインポート\n",
    "以下のコードは必要なパッケージをインポートします："
   ]
  },
  {
   "cell_type": "code",
   "execution_count": 24,
   "metadata": {},
   "outputs": [
    {
     "name": "stdout",
     "output_type": "stream",
     "text": [
      "必要なパッケージのインポートが完了しました。\n",
      "注意: Azure AI Agent ServiceはAzure AI Foundryプロジェクトのエンドポイントが必要です。\n"
     ]
    }
   ],
   "source": [
    "# Azure AI Agents SDKの正しいインポート\n",
    "import os\n",
    "from azure.ai.agents import AgentsClient\n",
    "from azure.identity import DefaultAzureCredential\n",
    "\n",
    "print(\"必要なパッケージのインポートが完了しました。\")\n",
    "print(\"注意: Azure AI Agent ServiceはAzure AI Foundryプロジェクトのエンドポイントが必要です。\")"
   ]
  },
  {
   "cell_type": "markdown",
   "metadata": {},
   "source": [
    "**重要な注意事項:**\n",
    "Azure AI Agent Serviceは比較的新しいサービスで、パッケージのバージョンによってはインポートパスが異なる場合があります。上記のセルを実行してエラーが出る場合は、以下の代替学習パスを推奨します：\n",
    "\n",
    "1. `05-semantic-kernel-azuresearch.ipynb` (基本的なSemantic Kernel RAG)\n",
    "2. `05-autogen-chromadb.ipynb` (AutoGenフレームワークの基本)\n",
    "3. `05-autogen-azuresearch.ipynb` (AutoGenとAzure AI Search)\n",
    "\n",
    "これらのノートブックは安定したパッケージを使用しており、確実に学習を進めることができます。"
   ]
  },
  {
   "cell_type": "markdown",
   "metadata": {},
   "source": [
    "# Azure AI Agent Serviceを使用したエージェント対話システム\n",
    "\n",
    "このサンプルでは、**Azure AI Agent Service**を使用してAIエージェントとの基本的な対話システムを実装する方法を示します。クラウドベースのエージェント管理と非同期メッセージ処理を学習できます。\n",
    "\n",
    "### 動作の仕組み\n",
    "\n",
    "1. **Azure AI Foundryプロジェクトとの接続**: Azure AI Foundryで作成したプロジェクトのエンドポイントに接続し、デプロイされたGPTモデルを使用します。\n",
    "\n",
    "2. **エージェントの作成**: 指定されたモデル（`gpt-4o-mini`など）を使用してAIエージェントを動的に作成し、日本語での親しみやすい対話を設定します。\n",
    "\n",
    "3. **スレッド管理**: 会話を管理するためのスレッドを作成し、メッセージの履歴を適切に管理します。\n",
    "\n",
    "4. **非同期処理**: エージェントの応答処理を非同期で実行し、ポーリングによってラン（実行）の完了を待機します。\n",
    "\n",
    "5. **ユーザーとの対話**: ユーザーからのメッセージを送信し、エージェントの応答を取得・表示する完全な対話フローを実装します。\n",
    "\n",
    "6. **リソース管理**: 使用後のエージェントリソースを適切にクリーンアップし、メモリリークを防止します。\n",
    "\n",
    "### 注意事項\n",
    "\n",
    "この例では、基本的なエージェント対話機能を実装しています。高度なRAG機能（ファイル検索、ベクトルストア）については、将来のバージョンで拡張予定です。現在は、Azure AI Agent Serviceの基本的な使用方法を学習できます。"
   ]
  },
  {
   "cell_type": "markdown",
   "metadata": {},
   "source": [
    "### メイン関数"
   ]
  },
  {
   "cell_type": "markdown",
   "metadata": {},
   "source": [
    "### 実行前の準備\n",
    "\n",
    "Azure AI Agent Serviceを使用するには、以下の準備が必要です：\n",
    "\n",
    "#### 1. Azure CLIでのログイン\n",
    "```bash\n",
    "az login\n",
    "```\n",
    "\n",
    "#### 2. 環境変数の設定\n",
    "`.env`ファイルまたは環境変数に以下を設定してください：\n",
    "\n",
    "```bash\n",
    "# Azure AI Foundryプロジェクトのエンドポイント\n",
    "PROJECT_ENDPOINT=\"https://your-project.services.ai.azure.com/api/projects/your-project-name\"\n",
    "\n",
    "# デプロイされたモデル名\n",
    "MODEL_DEPLOYMENT_NAME=\"gpt-4o-mini\"\n",
    "```\n",
    "\n",
    "#### 3. Azure AI Foundryプロジェクトの作成\n",
    "- [Azure AI Foundry](https://ai.azure.com)でプロジェクトを作成\n",
    "- GPT-4o-miniなどのモデルをデプロイ\n",
    "- プロジェクトの「概要」→「Libraries」→「Azure AI Foundry」からエンドポイントをコピー\n",
    "- 「Models + Endpoints」からモデルデプロイメント名をコピー\n",
    "\n",
    "**注意**: このノートブックはAzure AI Foundryプロジェクトが必要です。設定されていない場合は、代替として`05-semantic-kernel-azuresearch.ipynb`の学習をお勧めします。"
   ]
  },
  {
   "cell_type": "code",
   "execution_count": 25,
   "metadata": {},
   "outputs": [
    {
     "name": "stdout",
     "output_type": "stream",
     "text": [
      "Azure AI Agent Service - 完全なRAGテスト（応答取得付き）を開始します...\n",
      "🤖 Azure AI Agent Service - 完全なRAGテストを開始します...\n",
      "✅ エージェント 'RAGChatAgent' を作成しました\n",
      "✅ 会話スレッドを作成しました\n",
      "\n",
      "👤 ユーザー: こんにちは！あなたは何ができますか？詳しく教えてください。\n",
      "🔄 エージェントが処理中です...\n",
      "✅ エージェントの処理が完了しました\n",
      "\n",
      "🤖 エージェント: こんにちは！私はAIアシスタントです。あなたの質問に答えたり、情報を提供したり、さまざまな話題についてお手伝いすることができます。具体的には、以下のようなことが得意です。\n",
      "\n",
      "1. **情報提供**: 歴史、科学、文化、技術など、さまざまな分野についての情報を提供できます。\n",
      "2. **質問に答える**: 学校の宿題や日常生活の疑問など、さまざまな質問にお答えします。\n",
      "3. **アドバイス**: 旅行の計画や勉強法、ライフスタイルに関するアドバイスを提供できます。\n",
      "4. **文章作成**: エッセイや文章のアイデアを出したり、チェックしたりすることができます。\n",
      "\n",
      "ただし、私は AI であり、感情を持っているわけではなく、個人の体験や意見を持っていません。また、情報は2023年10月までのものですので、それ以降のトピックについてはお答えできない場合があります。\n",
      "\n",
      "どんなことでも気軽に質問してくださいね！\n",
      "\n",
      "🧹 エージェントをクリーンアップしました\n"
     ]
    }
   ],
   "source": [
    "# Azure AI Agent Serviceの完全なRAGテスト実行（応答取得付き）\n",
    "import time\n",
    "\n",
    "async def complete_rag_test():\n",
    "    \"\"\"エージェントの応答を取得・表示する完全なテスト\"\"\"\n",
    "    # Microsoft Learn標準の環境変数名を使用\n",
    "    endpoint = os.getenv(\"PROJECT_ENDPOINT\")\n",
    "    model_deployment = os.getenv(\"MODEL_DEPLOYMENT_NAME\")\n",
    "    \n",
    "    if not endpoint or not model_deployment:\n",
    "        print(\"❌ 環境変数が設定されていません。\")\n",
    "        print(\"以下の環境変数を設定してください:\")\n",
    "        print(\"- PROJECT_ENDPOINT: Azure AI Foundryプロジェクトのエンドポイント\")\n",
    "        print(\"- MODEL_DEPLOYMENT_NAME: デプロイされたモデル名（例: gpt-4o-mini）\")\n",
    "        return\n",
    "    \n",
    "    try:\n",
    "        # Azure AI Agents クライアントの作成\n",
    "        agents_client = AgentsClient(\n",
    "            endpoint=endpoint,\n",
    "            credential=DefaultAzureCredential()\n",
    "        )\n",
    "        \n",
    "        print(\"🤖 Azure AI Agent Service - 完全なRAGテストを開始します...\")\n",
    "        \n",
    "        # エージェントの作成\n",
    "        agent = agents_client.create_agent(\n",
    "            model=model_deployment,\n",
    "            name=\"RAGChatAgent\",\n",
    "            instructions=\"\"\"あなたは親切で知識豊富なAIアシスタントです。\n",
    "            ユーザーの質問に対して、明確で親しみやすい日本語で回答してください。\n",
    "            自己紹介では、あなたの能力と制限について説明してください。\"\"\",\n",
    "        )\n",
    "        \n",
    "        print(f\"✅ エージェント '{agent.name}' を作成しました\")\n",
    "        \n",
    "        # スレッドの作成\n",
    "        thread = agents_client.threads.create()\n",
    "        print(f\"✅ 会話スレッドを作成しました\")\n",
    "        \n",
    "        # テスト用のメッセージ\n",
    "        user_message = \"こんにちは！あなたは何ができますか？詳しく教えてください。\"\n",
    "        print(f\"\\n👤 ユーザー: {user_message}\")\n",
    "        \n",
    "        # メッセージの作成\n",
    "        message = agents_client.messages.create(\n",
    "            thread_id=thread.id,\n",
    "            role=\"user\",\n",
    "            content=user_message\n",
    "        )\n",
    "        \n",
    "        # ランの作成と実行\n",
    "        run = agents_client.runs.create(\n",
    "            thread_id=thread.id,\n",
    "            agent_id=agent.id\n",
    "        )\n",
    "        \n",
    "        print(\"🔄 エージェントが処理中です...\")\n",
    "        \n",
    "        # ランの完了を待機\n",
    "        max_wait_time = 30  # 最大30秒待機\n",
    "        start_time = time.time()\n",
    "        \n",
    "        while time.time() - start_time < max_wait_time:\n",
    "            # ランの状態を取得\n",
    "            current_run = agents_client.runs.get(\n",
    "                thread_id=thread.id,\n",
    "                run_id=run.id\n",
    "            )\n",
    "            \n",
    "            if current_run.status == \"completed\":\n",
    "                print(\"✅ エージェントの処理が完了しました\")\n",
    "                break\n",
    "            elif current_run.status == \"failed\":\n",
    "                print(f\"❌ エージェントの処理が失敗しました: {current_run.last_error}\")\n",
    "                return\n",
    "            elif current_run.status in [\"cancelled\", \"expired\"]:\n",
    "                print(f\"❌ ランが{current_run.status}になりました\")\n",
    "                return\n",
    "            \n",
    "            # 1秒待機してから再チェック\n",
    "            time.sleep(1)\n",
    "        else:\n",
    "            print(\"⏰ タイムアウト: エージェントの応答に時間がかかりすぎています\")\n",
    "            return\n",
    "        \n",
    "        # エージェントの応答を取得\n",
    "        messages = agents_client.messages.list(thread_id=thread.id)\n",
    "        \n",
    "        # 最新のアシスタントメッセージを表示\n",
    "        for msg in reversed(list(messages)):\n",
    "            if msg.role == \"assistant\":\n",
    "                print(f\"\\n🤖 エージェント: {msg.content[0].text.value}\")\n",
    "                break\n",
    "        \n",
    "        # クリーンアップ\n",
    "        agents_client.delete_agent(agent.id)\n",
    "        print(f\"\\n🧹 エージェントをクリーンアップしました\")\n",
    "        \n",
    "    except Exception as e:\n",
    "        print(f\"❌ エラーが発生しました: {str(e)}\")\n",
    "        print(\"\\n解決方法:\")\n",
    "        print(\"1. Azure CLIで `az login` を実行してください\")\n",
    "        print(\"2. Azure AI Foundryプロジェクトが正しく設定されているか確認してください\")\n",
    "        print(\"3. 環境変数が正しく設定されているか確認してください\")\n",
    "        print(\"4. Azure AI User RBACロールがプロジェクトスコープで割り当てられているか確認してください\")\n",
    "        print(\"5. 最新のazure-ai-agentsパッケージがインストールされているか確認してください\")\n",
    "\n",
    "print(\"Azure AI Agent Service - 完全なRAGテスト（応答取得付き）を開始します...\")\n",
    "await complete_rag_test()"
   ]
  },
  {
   "cell_type": "markdown",
   "metadata": {},
   "source": [
    "## 🎯 学習のポイント\n",
    "\n",
    "### **このノートブックの主要な学習内容**:\n",
    "- **Azure AI Agent Service**への接続と基本操作\n",
    "- エージェントとの**実際の対話体験**\n",
    "- **ラン完了の待機**とポーリング処理\n",
    "- **エージェント応答の取得・表示**\n",
    "- **基本的なエージェント管理ワークフロー**の実装\n",
    "\n",
    "### **重要な技術要素**:\n",
    "1. **ラン状態監視**: `agents_client.runs.get()` でstatusをポーリング\n",
    "2. **応答取得**: `agents_client.messages.list()` で会話履歴を取得\n",
    "3. **エラー処理**: タイムアウト、失敗、キャンセル状態の適切な処理\n",
    "4. **リソース管理**: エージェントの適切なクリーンアップ\n",
    "5. **Azure AI Agents SDK**: エージェント専用の最適化されたSDKの使用\n",
    "\n",
    "### **次のステップ**:\n",
    "- 実際のファイルアップロードとFileSearchToolを使ったRAG実装\n",
    "- 複数の会話を続けるセッション管理\n",
    "- カスタムツールの作成と統合"
   ]
  }
 ],
 "metadata": {
  "kernelspec": {
   "display_name": "myenv",
   "language": "python",
   "name": "python3"
  },
  "language_info": {
   "codemirror_mode": {
    "name": "ipython",
    "version": 3
   },
   "file_extension": ".py",
   "mimetype": "text/x-python",
   "name": "python",
   "nbconvert_exporter": "python",
   "pygments_lexer": "ipython3",
   "version": "3.13.5"
  }
 },
 "nbformat": 4,
 "nbformat_minor": 2
}
