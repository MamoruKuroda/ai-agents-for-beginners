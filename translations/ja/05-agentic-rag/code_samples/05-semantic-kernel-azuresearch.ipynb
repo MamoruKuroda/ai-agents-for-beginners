{
 "cells": [
  {
   "cell_type": "markdown",
   "metadata": {},
   "source": [
    "# Azure AI SearchとSemantic Kernelを使用したAgentic RAG\n",
    "\n",
    "このノートブックでは、Azure AI SearchをベクトルデータベースとしてSemantic Kernelと統合し、Retrieval-Augmented Generation（RAG）を実装する方法を学びます。\n",
    "\n",
    "**このノートブックで達成できること：**\n",
    "*   Azure AI Searchから情報を取得してユーザーの質問に答えるAIエージェントを構築します。\n",
    "*   複数のツール（プラグイン）を組み合わせて、より複雑な問い合わせに対応する方法を理解します。\n",
    "*   Semantic Kernelを使用した基本的なAgentic RAGパターンの実装を体験します。\n",
    "\n",
    "**実行順序：**\n",
    "このノートブックのセルは、上から順番に実行してください。各セルは前のセルの結果に依存しています。"
   ]
  },
  {
   "cell_type": "markdown",
   "metadata": {},
   "source": [
    "## 環境の初期化"
   ]
  },
  {
   "cell_type": "markdown",
   "metadata": {},
   "source": [
    "### パッケージのインストール\n",
    "\n",
    "まず、このノートブックで必要なPythonパッケージをインストールします。これには、Azure AI Search、OpenAI、Semantic Kernelを操作するためのライブラリが含まれます。"
   ]
  },
  {
   "cell_type": "code",
   "execution_count": 1,
   "metadata": {},
   "outputs": [
    {
     "name": "stdout",
     "output_type": "stream",
     "text": [
      "必要なパッケージはすべてインストール済みです。\n"
     ]
    }
   ],
   "source": [
    "import importlib\n",
    "import subprocess\n",
    "import sys\n",
    "\n",
    "# チェックするライブラリ名と、インストールするパッケージ名のマッピング\n",
    "packages = {\n",
    "    \"azure.search.documents\": \"azure-search-documents==11.4.0\",\n",
    "    \"dotenv\": \"python-dotenv\",\n",
    "    \"openai\": \"openai\",\n",
    "    \"semantic_kernel\": \"semantic-kernel\",\n",
    "    \"azure.identity\": \"azure-identity\"\n",
    "}\n",
    "\n",
    "not_installed = []\n",
    "for lib, pkg in packages.items():\n",
    "    try:\n",
    "        # ライブラリがインポート可能か試す\n",
    "        importlib.import_module(lib.split('.')[0])\n",
    "    except ImportError:\n",
    "        # インポートできなければインストールリストに追加\n",
    "        not_installed.append(pkg)\n",
    "\n",
    "if not_installed:\n",
    "    print(f\"不足しているパッケージをインストールします: {', '.join(not_installed)}\")\n",
    "    # pipコマンドを実行してインストール\n",
    "    subprocess.check_call([sys.executable, \"-m\", \"pip\", \"install\", \"--quiet\"] + not_installed)\n",
    "else:\n",
    "    print(\"必要なパッケージはすべてインストール済みです。\")"
   ]
  },
  {
   "cell_type": "markdown",
   "metadata": {},
   "source": [
    "### パッケージのインポート\n",
    "以下のコードは必要なパッケージをインポートします："
   ]
  },
  {
   "cell_type": "code",
   "execution_count": 2,
   "metadata": {},
   "outputs": [],
   "source": [
    "import json\n",
    "import os\n",
    "\n",
    "from typing import Annotated\n",
    "\n",
    "from IPython.display import display, HTML\n",
    "\n",
    "from dotenv import load_dotenv\n",
    "\n",
    "from azure.core.credentials import AzureKeyCredential\n",
    "from azure.search.documents import SearchClient\n",
    "from azure.search.documents.indexes import SearchIndexClient\n",
    "from azure.search.documents.indexes.models import SearchIndex, SimpleField, SearchFieldDataType, SearchableField\n",
    "\n",
    "from openai import AsyncOpenAI\n",
    "\n",
    "from semantic_kernel.agents import ChatCompletionAgent, ChatHistoryAgentThread\n",
    "from semantic_kernel.connectors.ai.open_ai import OpenAIChatCompletion\n",
    "from semantic_kernel.contents import FunctionCallContent,FunctionResultContent, StreamingTextContent\n",
    "from semantic_kernel.functions import kernel_function"
   ]
  },
  {
   "cell_type": "markdown",
   "metadata": {},
   "source": [
    "### Semantic KernelとAIサービスの作成\n",
    "\n",
    "ここでは、AIエージェントの「頭脳」となる部分を設定します。具体的には、Semantic Kernelが大規模言語モデル（LLM）と通信するための準備を行います。\n",
    "\n",
    "次のセルでは、以下の2つの重要な処理を実行します。\n",
    "\n",
    "1. **.envファイルからAPIキーを読み込む:** `load_dotenv()` を使って、ノートブックに直接書き込むことなく、安全にAPIキーなどの秘密情報を環境変数として読み込みます。\n",
    "2. **チャット補完サービスの作成:** `OpenAIChatCompletion` を使って、LLMと対話するための「サービス」を作成します。これは、Semantic Kernelがプロンプトを送信し、モデルからの応答を受け取るための窓口となります。このサービスをエージェントに組み込むことで、エージェントは思考し、応答を生成する能力を得ます。"
   ]
  },
  {
   "cell_type": "code",
   "execution_count": 3,
   "metadata": {},
   "outputs": [],
   "source": [
    "load_dotenv()\n",
    "# 非同期OpenAIクライアントを初期化\n",
    "client = AsyncOpenAI(\n",
    "    api_key=os.environ[\"GITHUB_TOKEN\"],\n",
    "    base_url=\"https://models.inference.ai.azure.com/\"\n",
    ")\n",
    "\n",
    "# OpenAI ChatCompletion サービスを作成\n",
    "chat_completion_service = OpenAIChatCompletion(\n",
    "    ai_model_id=\"gpt-4o-mini\",\n",
    "    async_client=client,\n",
    ")"
   ]
  },
  {
   "cell_type": "markdown",
   "metadata": {},
   "source": [
    "### プラグインの定義\n",
    "\n",
    "ここでは、AIエージェントが使用する「ツール」を定義します。プラグインは、エージェントに特定の機能を追加するコンポーネントです。\n",
    "\n",
    "次の2つのセルでは、以下のプラグインを作成します：\n",
    "\n",
    "1. **SearchPlugin（検索プラグイン）:** Azure AI Searchからドキュメントを検索し、取得した情報をもとに拡張プロンプトを構築する機能を提供します。これにより、エージェントは外部の知識ベースから関連情報を取得できるようになります。\n",
    "\n",
    "2. **WeatherInfoPlugin（気温情報プラグイン）:** 旅行先の平均気温を提供する簡単なプラグインです。これは、エージェントが複数のツールを組み合わせて使用する方法を示すためのサンプルです。\n",
    "\n",
    "これらのプラグインを組み合わせることで、エージェントは単純な質問応答を超えて、複数の情報源から情報を収集し、統合された回答を提供できるようになります。これがAgentic RAGの核となる機能です。"
   ]
  },
  {
   "cell_type": "code",
   "execution_count": 4,
   "metadata": {},
   "outputs": [],
   "source": [
    "class SearchPlugin:\n",
    "\n",
    "    def __init__(self, search_client: SearchClient):\n",
    "        self.search_client = search_client\n",
    "\n",
    "    @kernel_function(\n",
    "        name=\"build_augmented_prompt\",\n",
    "        description=\"取得したコンテキストや関数の結果を用いて、拡張プロンプトを構築します。\",\n",
    "    )\n",
    "    def build_augmented_prompt(self, query: str, retrieval_context: str) -> str:\n",
    "        return (\n",
    "            f\"取得したコンテキスト:\\n{retrieval_context}\\n\\n\"\n",
    "            f\"ユーザーのクエリ: {query}\\n\\n\"\n",
    "            \"まず取得したコンテキストを確認し、それでクエリに答えられない場合は、利用可能なプラグイン関数を呼び出して答えを探してください。利用可能なコンテキストがない場合は、そのように伝えてください。\"\n",
    "        )\n",
    "    \n",
    "    @kernel_function(\n",
    "        name=\"retrieve_documents\",\n",
    "        description=\"Azure Searchサービスからドキュメントを取得します。\",\n",
    "    )\n",
    "    def get_retrieval_context(self, query: str) -> str:\n",
    "        results = self.search_client.search(query)\n",
    "        context_strings = []\n",
    "        for result in results:\n",
    "            context_strings.append(f\"ドキュメント: {result['content']}\")\n",
    "        return \"\\n\\n\".join(context_strings) if context_strings else \"結果が見つかりませんでした\""
   ]
  },
  {
   "cell_type": "code",
   "execution_count": 5,
   "metadata": {},
   "outputs": [],
   "source": [
    "class WeatherInfoPlugin:\n",
    "    \"\"\"旅行先の平均気温を提供するプラグインです。\"\"\"\n",
    "\n",
    "    def __init__(self):\n",
    "        # 旅行先とその平均気温の辞書\n",
    "        self.destination_temperatures = {\n",
    "            \"maldives\": \"82°F (28°C)\",\n",
    "            \"swiss alps\": \"45°F (7°C)\",\n",
    "            \"african safaris\": \"75°F (24°C)\"\n",
    "        }\n",
    "\n",
    "    @kernel_function(description=\"特定の旅行先の平均気温を取得します。\")\n",
    "    def get_destination_temperature(self, destination: str) -> Annotated[str, \"指定された旅行先の平均気温を返します。\"]:\n",
    "        \"\"\"旅行先の平均気温を取得します。\"\"\"\n",
    "        # 入力された旅行先を正規化（小文字に変換）\n",
    "        normalized_destination = destination.lower()\n",
    "\n",
    "        # 旅行先の気温を検索\n",
    "        if normalized_destination in self.destination_temperatures:\n",
    "            return f\"{destination}の平均気温は{self.destination_temperatures[normalized_destination]}です。\"\n",
    "        else:\n",
    "            return f\"申し訳ありませんが、{destination}の気温情報はありません。利用可能な旅行先は、モルディブ、スイスアルプス、アフリカのサファリです。\""
   ]
  },
  {
   "cell_type": "markdown",
   "metadata": {},
   "source": [
    "## ベクトルデータベースの初期化\n",
    "\n",
    "ここでは、AIエージェントが情報を検索するための「知識ベース」を準備します。このステップは、Agentic RAGシステムの核となる重要な部分です。\n",
    "\n",
    "**このセクションで行うこと：**\n",
    "\n",
    "1. **Azure AI Searchサービスの接続:** \n",
    "   - `.env`ファイルから認証情報を読み込み、Azure AI Searchサービスに接続します\n",
    "   - このサービスは、文書を保存し、後で検索するためのクラウドベースのデータベースです\n",
    "\n",
    "2. **インデックスの作成（データベーステーブルの準備）:**\n",
    "   - `travel-documents`という名前のインデックスを作成します\n",
    "   - 各文書には`id`（識別番号）と`content`（内容）フィールドが含まれます\n",
    "\n",
    "3. **サンプル文書の追加:**\n",
    "   - Contoso Travelに関する5つのサンプル文書をデータベースに追加します\n",
    "   - これらの文書は、後でエージェントが質問に答える際の情報源となります\n",
    "\n",
    "**RAGにおける重要性：**\n",
    "このベクトルデータベースにより、エージェントは単純な事前学習された知識だけでなく、最新の企業情報や特定のドメイン知識にもアクセスできるようになります。これが「Retrieval-Augmented Generation」の「Retrieval（検索）」部分です。"
   ]
  },
  {
   "cell_type": "code",
   "execution_count": 6,
   "metadata": {},
   "outputs": [
    {
     "name": "stdout",
     "output_type": "stream",
     "text": [
      "インデックス 'travel-documents' は既に存在します。既存のインデックスを使用します。\n"
     ]
    },
    {
     "data": {
      "text/plain": [
       "[<azure.search.documents._generated.models._models_py3.IndexingResult at 0x2190ee3d6a0>,\n",
       " <azure.search.documents._generated.models._models_py3.IndexingResult at 0x2190edd7610>,\n",
       " <azure.search.documents._generated.models._models_py3.IndexingResult at 0x2190d4747d0>,\n",
       " <azure.search.documents._generated.models._models_py3.IndexingResult at 0x2190edf6190>,\n",
       " <azure.search.documents._generated.models._models_py3.IndexingResult at 0x2190edf6780>]"
      ]
     },
     "execution_count": 6,
     "metadata": {},
     "output_type": "execute_result"
    }
   ],
   "source": [
    "# 永続ストレージを使用してAzure AI Searchを初期化\n",
    "search_service_endpoint = os.getenv(\"AZURE_SEARCH_SERVICE_ENDPOINT\")\n",
    "search_api_key = os.getenv(\"AZURE_SEARCH_API_KEY\")\n",
    "index_name = \"travel-documents\"\n",
    "\n",
    "search_client = SearchClient(\n",
    "    endpoint=search_service_endpoint,\n",
    "    index_name=index_name,\n",
    "    credential=AzureKeyCredential(search_api_key)\n",
    ")\n",
    "\n",
    "index_client = SearchIndexClient(\n",
    "    endpoint=search_service_endpoint,\n",
    "    credential=AzureKeyCredential(search_api_key)\n",
    ")\n",
    "\n",
    "# インデックススキーマを定義\n",
    "fields = [\n",
    "    SimpleField(name=\"id\", type=SearchFieldDataType.String, key=True),\n",
    "    SearchableField(name=\"content\", type=SearchFieldDataType.String)\n",
    "]\n",
    "\n",
    "index = SearchIndex(name=index_name, fields=fields)\n",
    "\n",
    "# インデックスが既に存在するかチェック、存在しない場合は作成\n",
    "try:\n",
    "    existing_index = index_client.get_index(index_name)\n",
    "    print(f\"インデックス '{index_name}' は既に存在します。既存のインデックスを使用します。\")\n",
    "except Exception:\n",
    "    # インデックスが存在しない場合は作成\n",
    "    print(f\"新しいインデックス '{index_name}' を作成中...\")\n",
    "    index_client.create_index(index)\n",
    "\n",
    "\n",
    "# 拡張されたサンプル文書\n",
    "documents = [\n",
    "    {\"id\": \"1\", \"content\": \"Contoso Travelは世界中のエキゾチックな目的地への豪華な休暇パッケージを提供します。\"},\n",
    "    {\"id\": \"2\", \"content\": \"私たちのプレミアム旅行サービスには、パーソナライズされた旅程計画と24時間365日のコンシェルジュサポートが含まれます。\"},\n",
    "    {\"id\": \"3\", \"content\": \"Contosoの旅行保険は医療緊急事態、旅行キャンセル、手荷物紛失をカバーします。\"},\n",
    "    {\"id\": \"4\", \"content\": \"人気の旅行先には、モルディブ、スイスアルプス、アフリカのサファリなどがあります。\"},\n",
    "    {\"id\": \"5\", \"content\": \"Contoso Travelはブティックホテルへの独占アクセスとプライベートガイドツアーを提供します。\"}\n",
    "]\n",
    "\n",
    "# インデックスに文書を追加\n",
    "search_client.upload_documents(documents)"
   ]
  },
  {
   "cell_type": "code",
   "execution_count": 7,
   "metadata": {},
   "outputs": [],
   "source": [
    "# AIエージェントを作成\n",
    "# これまでに準備したコンポーネントを組み合わせて、実際のAIエージェントを構築します\n",
    "agent = ChatCompletionAgent(\n",
    "    service=chat_completion_service,  # LLMサービス（GPT-4o-mini）\n",
    "    plugins=[SearchPlugin(search_client=search_client), WeatherInfoPlugin()],  # 使用するプラグイン\n",
    "    name=\"TravelAgent\",  # エージェントの名前\n",
    "    instructions=\"提供されたツールとコンテキストを使用して旅行に関する質問に答えてください。コンテキストが提供されている場合は、「そのコンテキストはありません」と言わないでください。\",  # エージェントの動作指示\n",
    ")"
   ]
  },
  {
   "cell_type": "markdown",
   "metadata": {},
   "source": [
    "### AIエージェントの実行とストリーミング表示\n",
    "\n",
    "ここでは、作成したAIエージェントを実際に動作させ、リアルタイムで応答を表示する方法を学びます。\n",
    "\n",
    "**このセクションで行うこと：**\n",
    "\n",
    "1. **会話スレッドの作成:** エージェントとの対話を管理するためのスレッドを作成します\n",
    "2. **サンプル質問の実行:** 3つの異なるタイプの質問を順番に実行します\n",
    "3. **ストリーミング表示:** エージェントの応答をリアルタイムで表示し、関数呼び出しの過程も確認できます\n",
    "\n",
    "**実行される質問：**\n",
    "- Contosoの旅行保険について（検索機能のテスト）\n",
    "- モルディブの平均気温について（気温プラグインのテスト）\n",
    "- Contosoが提供する寒い旅行先とその気温について（複数プラグインの組み合わせテスト）\n",
    "\n",
    "このデモにより、Agentic RAGシステムがどのように複数の情報源から情報を収集し、統合された回答を提供するかを確認できます。"
   ]
  },
  {
   "cell_type": "code",
   "execution_count": 8,
   "metadata": {},
   "outputs": [
    {
     "data": {
      "text/html": [
       "<div style='margin-bottom:10px'><div style='font-weight:bold'>ユーザー:</div><div style='margin-left:20px'>Contosoの旅行保険について説明してください</div></div><div style='margin-bottom:20px'><div style='font-weight:bold'>TravelAgent:</div><div style='margin-left:20px; white-space:pre-wrap'>Contosoの旅行保険は、以下のようなカバーを提供しています：\n",
       "\n",
       "1. **医療緊急事態** - 旅行中に病気や怪我が発生した際の医療費をカバーします。\n",
       "2. **旅行キャンセル** - 旅行をキャンセルする必要が生じた場合の費用を補償します。\n",
       "3. **手荷物紛失** - 荷物が紛失した場合の損失をカバーします。\n",
       "\n",
       "この保険により、旅行者は安心して旅を楽しむことができます。</div></div><hr>"
      ],
      "text/plain": [
       "<IPython.core.display.HTML object>"
      ]
     },
     "metadata": {},
     "output_type": "display_data"
    },
    {
     "data": {
      "text/html": [
       "<div style='margin-bottom:10px'><div style='font-weight:bold'>ユーザー:</div><div style='margin-left:20px'>モルディブの平均気温を教えてください</div></div><div style='margin-bottom:20px'><div style='font-weight:bold'>TravelAgent:</div><div style='margin-left:20px; white-space:pre-wrap'>申し訳ありませんが、現在モルディブの平均気温に関する具体的な情報は得られませんでした。しかし、一般的にモルディブは熱帯気候で、一年を通じて温暖な気温が続きます。通常、平均気温は27～31度程度です。旅行を計画する際の参考にしてください。</div></div><hr>"
      ],
      "text/plain": [
       "<IPython.core.display.HTML object>"
      ]
     },
     "metadata": {},
     "output_type": "display_data"
    },
    {
     "data": {
      "text/html": [
       "<div style='margin-bottom:10px'><div style='font-weight:bold'>ユーザー:</div><div style='margin-left:20px'>Contosoが提供する寒い旅行先で良いところはありますか？その平均気温も教えてください</div></div><div style='margin-bottom:20px'><div style='font-weight:bold'>TravelAgent:</div><div style='margin-left:20px; white-space:pre-wrap'>Contosoが提供する寒い旅行先としては、**スイスアルプス**があります。スイスアルプスは美しい山々とスキーリゾートで知られており、冬のスポーツを楽しむには適した場所です。\n",
       "\n",
       "残念ながら、スイスアルプスの具体的な平均気温に関する情報は得られませんでしたが、一般的には冬期に非常に寒く、0度前後になることが多いです。春や秋でもかなり涼しいことがありますので、旅行の際は服装にご注意ください。</div></div><hr>"
      ],
      "text/plain": [
       "<IPython.core.display.HTML object>"
      ]
     },
     "metadata": {},
     "output_type": "display_data"
    }
   ],
   "source": [
    "async def main():\n",
    "    thread: ChatHistoryAgentThread | None = None\n",
    "\n",
    "    # テスト用のユーザー入力\n",
    "    user_inputs = [\n",
    "        \"Contosoの旅行保険について説明してください\",\n",
    "        \"モルディブの平均気温を教えてください\",\n",
    "        \"Contosoが提供する寒い旅行先で良いところはありますか？その平均気温も教えてください\",\n",
    "    ]\n",
    "\n",
    "    for user_input in user_inputs:\n",
    "        # ユーザー入力をHTML形式で表示\n",
    "        html_output = (\n",
    "            f\"<div style='margin-bottom:10px'>\"\n",
    "            f\"<div style='font-weight:bold'>ユーザー:</div>\"\n",
    "            f\"<div style='margin-left:20px'>{user_input}</div></div>\"\n",
    "        )\n",
    "\n",
    "        agent_name = None\n",
    "        full_response: list[str] = []\n",
    "        function_calls: list[str] = []\n",
    "\n",
    "        # ストリーミング関数呼び出しを再構築するためのバッファ\n",
    "        current_function_name = None\n",
    "        argument_buffer = \"\"\n",
    "\n",
    "        # エージェントをストリーミングモードで実行\n",
    "        async for response in agent.invoke_stream(\n",
    "            messages=user_input,\n",
    "            thread=thread,\n",
    "        ):\n",
    "            thread = response.thread\n",
    "            agent_name = response.name\n",
    "            content_items = list(response.items)\n",
    "\n",
    "            for item in content_items:\n",
    "                if isinstance(item, FunctionCallContent):\n",
    "                    if item.function_name:\n",
    "                        current_function_name = item.function_name\n",
    "\n",
    "                    # 引数を蓄積（チャンクでストリーミングされる）\n",
    "                    if isinstance(item.arguments, str):\n",
    "                        argument_buffer += item.arguments\n",
    "                elif isinstance(item, FunctionResultContent):\n",
    "                    # 結果を表示する前に保留中の関数呼び出しを完了\n",
    "                    if current_function_name:\n",
    "                        formatted_args = argument_buffer.strip()\n",
    "                        try:\n",
    "                            parsed_args = json.loads(formatted_args)\n",
    "                            formatted_args = json.dumps(parsed_args)\n",
    "                        except Exception:\n",
    "                            pass  # 生の文字列として残す\n",
    "\n",
    "                        function_calls.append(f\"関数呼び出し: {current_function_name}({formatted_args})\")\n",
    "                        current_function_name = None\n",
    "                        argument_buffer = \"\"\n",
    "\n",
    "                    function_calls.append(f\"\\n関数結果:\\n\\n{item.result}\")\n",
    "                elif isinstance(item, StreamingTextContent) and item.text:\n",
    "                    full_response.append(item.text)\n",
    "\n",
    "        # 関数呼び出しがあった場合は折りたたみ可能な形式で表示\n",
    "        if function_calls:\n",
    "            html_output += (\n",
    "                \"<div style='margin-bottom:10px'>\"\n",
    "                \"<details>\"\n",
    "                \"<summary style='cursor:pointer; font-weight:bold; color:#0066cc;'>関数呼び出し (クリックして展開)</summary>\"\n",
    "                \"<div style='margin:10px; padding:10px; background-color:#f8f8f8; \"\n",
    "                \"border:1px solid #ddd; border-radius:4px; white-space:pre-wrap; font-size:14px; color:#333;'>\"\n",
    "                f\"{chr(10).join(function_calls)}\"\n",
    "                \"</div></details></div>\"\n",
    "            )\n",
    "\n",
    "        # エージェントの応答を表示\n",
    "        html_output += (\n",
    "            \"<div style='margin-bottom:20px'>\"\n",
    "            f\"<div style='font-weight:bold'>{agent_name or 'アシスタント'}:</div>\"\n",
    "            f\"<div style='margin-left:20px; white-space:pre-wrap'>{''.join(full_response)}</div></div><hr>\"\n",
    "        )\n",
    "\n",
    "        display(HTML(html_output))\n",
    "\n",
    "# メイン関数を実行\n",
    "await main()"
   ]
  },
  {
   "cell_type": "markdown",
   "metadata": {},
   "source": [
    "以下のような出力が表示されるはずです：\n",
    "\n",
    "**質問1: Contosoの旅行保険について説明してください**\n",
    "\n",
    "```text\n",
    "ユーザー: \n",
    "Contosoの旅行保険について説明してください\n",
    "\n",
    "TravelAgent:\n",
    "\n",
    "Contosoの旅行保険は、以下のようなカバーを提供しています：\n",
    "\n",
    "1. **医療緊急事態** - 旅行中に病気や怪我が発生した際の医療費をカバーします。\n",
    "2. **旅行キャンセル** - 旅行をキャンセルする必要が生じた場合の費用を補償します。\n",
    "3. **手荷物紛失** - 荷物が紛失した場合の損失をカバーします。\n",
    "\n",
    "この保険により、旅行者は安心して旅を楽しむことができます。\n",
    "```\n",
    "\n",
    "**質問2: モルディブの平均気温を教えてください**\n",
    "\n",
    "```text\n",
    "ユーザー: \n",
    "モルディブの平均気温を教えてください\n",
    "\n",
    "TravelAgent:\n",
    "\n",
    "モルディブの平均気温は約28°C（82°F）です。一年を通して温暖な熱帯気候で、ビーチリゾートとして人気の旅行先です。\n",
    "```\n",
    "\n",
    "**質問3: Contosoが提供する寒い旅行先で良いところはありますか？その平均気温も教えてください**\n",
    "\n",
    "```text\n",
    "ユーザー: \n",
    "Contosoが提供する寒い旅行先で良いところはありますか？その平均気温も教えてください\n",
    "\n",
    "TravelAgent:\n",
    "\n",
    "Contosoが提供する寒い旅行先として、スイスアルプスがおすすめです。スイスアルプスの平均気温は約7°C（45°F）で、美しい山岳風景とウィンタースポーツを楽しむことができます。\n",
    "```\n",
    "\n",
    "**注意事項:**\n",
    "関数呼び出しの表示は、エージェントが実際にプラグイン関数を呼び出した場合にのみ表示されます。シンプルな質問の場合、エージェントは事前学習された知識で回答する場合があります。より複雑な質問や、明確に検索や特定情報の取得が必要な質問をした場合に、関数呼び出しが表示される可能性があります。"
   ]
  },
  {
   "cell_type": "markdown",
   "metadata": {},
   "source": [
    "## まとめ\n",
    "\n",
    "このノートブックでは、Azure AI SearchとSemantic Kernelを使用したAgentic RAGシステムの基本実装を学びました。\n",
    "\n",
    "**学習内容：**\n",
    "- **ベクトルデータベース（Azure AI Search）** でドキュメントを検索・取得\n",
    "- **複数のプラグイン** （SearchPlugin、WeatherInfoPlugin）を組み合わせた情報統合\n",
    "- **ストリーミング応答** でリアルタイムな対話体験を実現\n",
    "\n",
    "**重要なポイント：**\n",
    "エージェントは単一の情報源に依存せず、複数のツールを自律的に使い分けて包括的な回答を生成します。これが従来のRAGを超えた「Agentic RAG」の特徴です。\n",
    "\n",
    "**次のステップ：**\n",
    "より複雑なビジネスシナリオや、エンタープライズレベルのセキュリティ・スケーラビリティを考慮した実装に挑戦してみましょう。"
   ]
  }
 ],
 "metadata": {
  "kernelspec": {
   "display_name": "myenv",
   "language": "python",
   "name": "python3"
  },
  "language_info": {
   "codemirror_mode": {
    "name": "ipython",
    "version": 3
   },
   "file_extension": ".py",
   "mimetype": "text/x-python",
   "name": "python",
   "nbconvert_exporter": "python",
   "pygments_lexer": "ipython3",
   "version": "3.13.0"
  }
 },
 "nbformat": 4,
 "nbformat_minor": 2
}
